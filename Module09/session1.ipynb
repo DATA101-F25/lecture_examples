{
 "cells": [
  {
   "cell_type": "markdown",
   "id": "79945171",
   "metadata": {},
   "source": [
    "# DATA 101 — Intro to Modeling (Session 1)\n",
    "\n",
    "- Simple linear regression\n",
    "- Visualizing fit\n",
    "- $R^2$, $SS_{res}$, $SS_{tot}$\n",
    "- Residual analysis patterns\n"
   ]
  },
  {
   "cell_type": "markdown",
   "id": "d4f585dd",
   "metadata": {},
   "source": [
    "## 0. Setup"
   ]
  },
  {
   "cell_type": "code",
   "execution_count": null,
   "id": "598ef021",
   "metadata": {},
   "outputs": [],
   "source": [
    "import numpy as np\n",
    "import pandas as pd\n",
    "import matplotlib.pyplot as plt\n",
    "\n",
    "from sklearn.linear_model import LinearRegression\n",
    "import statsmodels.api as sm\n",
    "\n",
    "print(\"Library versions:\")\n",
    "print(\"numpy:\", np.__version__)\n",
    "print(\"pandas:\", pd.__version__)\n",
    "print(\"matplotlib:\", plt.matplotlib.__version__)\n",
    "print(\"statsmodel:\", sm.__version__)"
   ]
  },
  {
   "cell_type": "markdown",
   "id": "3cfad356",
   "metadata": {},
   "source": [
    "## 1. Load `Advertising.csv` if available, else create a realistic synthetic dataset"
   ]
  },
  {
   "cell_type": "code",
   "execution_count": null,
   "id": "13d2b779",
   "metadata": {},
   "outputs": [],
   "source": [
    "import os\n",
    "\n",
    "csv_path = './data/Advertising.csv'\n",
    "\n",
    "if os.path.exists(csv_path):\n",
    "    df = pd.read_csv(csv_path)\n",
    "else:\n",
    "    # Generate a dataset similar to the classic ISLR Advertising dataset\n",
    "    rng = np.random.default_rng(101)\n",
    "    n = 200\n",
    "    TV = rng.uniform(0, 300, n)              # thousands of dollars\n",
    "    Radio = rng.uniform(0, 50, n)\n",
    "    Newspaper = rng.uniform(0, 100, n)\n",
    "    # true relationship with noise\n",
    "    Sales = 3.0 + 0.045*TV + 0.18*Radio + 0.01*Newspaper + rng.normal(0, 1.2, n)\n",
    "    df = pd.DataFrame({'TV': TV, 'Radio': Radio, 'Newspaper': Newspaper, 'Sales': Sales})\n",
    "    df.to_csv(csv_path, index=False)\n",
    "\n",
    "df.head()"
   ]
  },
  {
   "cell_type": "markdown",
   "id": "bf8c2fbb",
   "metadata": {},
   "source": [
    "## 2. Simple Linear Regression (Sales ~ TV) with `statsmodels`"
   ]
  },
  {
   "cell_type": "code",
   "execution_count": null,
   "id": "bad5aa1d",
   "metadata": {},
   "outputs": [],
   "source": [
    "X = sm.add_constant(df['TV'])  # add intercept\n",
    "y = df['Sales']\n",
    "\n",
    "model = sm.OLS(y, X).fit()\n",
    "print(model.summary())"
   ]
  },
  {
   "cell_type": "markdown",
   "id": "545a2da5",
   "metadata": {},
   "source": [
    "## Interpretation:\n",
    "\n",
    "---\n",
    "\n",
    "### **Model summary**\n",
    "\n",
    "Equation:\n",
    "  Sales = 7.91 + 0.0435 * TV\n",
    "\n",
    "---\n",
    "\n",
    "### **1. Coefficients**\n",
    "\n",
    "* **Intercept (7.91):**  \n",
    "  When TV spending = 0, predicted sales ≈ **7.9 (k units)**    \n",
    "  *Interpret cautiously* — we may not have data near TV = 0, so it’s an extrapolation.  \n",
    "\n",
    "* **TV coefficient (0.0435):**  \n",
    "  For every **$1,000 increase** in TV advertising, sales increase by **0.0435 (k units)**  \n",
    "  → about **43.5 additional units** if the unit of Sales is in thousands.  \n",
    "\n",
    "Both are **statistically significant (p < 0.001)**, meaning the relationship is very unlikely due to random chance.  \n",
    "\n",
    "---\n",
    "\n",
    "### **2. Model fit**\n",
    "\n",
    "* **(R^2 = 0.611):**  \n",
    "  61.1 % of the variation in Sales is explained by TV spending alone.  \n",
    "  The rest (≈ 39 %) is due to other factors or randomness.   \n",
    "\n",
    "* **Adjusted (R^2 = 0.609):**  \n",
    "  Nearly the same, which is expected for one predictor. It corrects for number of variables.  \n",
    "\n",
    "* **F-statistic = 311.1, p ≈ 1.8 × 10⁻⁴²:**  \n",
    "  The model overall is statistically significant — TV ads provide predictive power.  \n",
    "\n",
    "---\n",
    "\n",
    "### **3. Residual diagnostics**\n",
    "\n",
    "* **Durbin–Watson = 2.05:**  \n",
    "  Residuals show no serial correlation (≈ 2 is ideal).  \n",
    "\n",
    "* **Omnibus / Jarque–Bera tests (p ≈ 0.016):**  \n",
    "  Slight deviation from normality in residuals, but not severe.  \n",
    "\n",
    "---\n",
    "\n",
    "### **4. Interpretation summary**\n",
    "\n",
    "* Strong positive linear relationship between TV ad spending and sales.  \n",
    "* Statistically reliable and moderately strong fit.\n",
    "* Suitable as an **introductory predictive model**, but limited — only one predictor, moderate (R^2)."
   ]
  },
  {
   "cell_type": "markdown",
   "id": "d4e333f7",
   "metadata": {},
   "source": [
    "## 3. Visualizing the fit"
   ]
  },
  {
   "cell_type": "code",
   "execution_count": null,
   "id": "79809e4f",
   "metadata": {},
   "outputs": [],
   "source": [
    "plt.figure()\n",
    "plt.scatter(df['TV'], df['Sales'], label='Observed')\n",
    "plt.plot(df['TV'], model.predict(X), label='Fitted line')\n",
    "plt.xlabel(\"TV Advertising ($k)\")\n",
    "plt.ylabel(\"Sales ($k)\")\n",
    "plt.legend()\n",
    "plt.title(\"Sales vs TV with Fitted Regression Line\")\n",
    "plt.show()"
   ]
  },
  {
   "cell_type": "markdown",
   "id": "b8f7375d",
   "metadata": {},
   "source": [
    "## 4. Understanding $R^2$ via sums of squares"
   ]
  },
  {
   "cell_type": "code",
   "execution_count": null,
   "id": "adf8b732",
   "metadata": {},
   "outputs": [],
   "source": [
    "y_pred = model.predict(X)\n",
    "y_mean = y.mean()\n",
    "\n",
    "SS_tot = np.sum((y - y_mean)**2)\n",
    "SS_res = np.sum((y - y_pred)**2)\n",
    "R2 = 1 - SS_res/SS_tot\n",
    "\n",
    "print(\"SS_tot:\", SS_tot)\n",
    "print(\"SS_res:\", SS_res)\n",
    "print(\"R^2   :\", R2)"
   ]
  },
  {
   "cell_type": "markdown",
   "id": "afb160c7",
   "metadata": {},
   "source": [
    "## 5. Residual analysis"
   ]
  },
  {
   "cell_type": "code",
   "execution_count": null,
   "id": "c37ab06d",
   "metadata": {},
   "outputs": [],
   "source": [
    "residuals = y - y_pred\n",
    "\n",
    "# Residuals vs Fitted (good fit example)\n",
    "plt.figure()\n",
    "plt.scatter(y_pred, residuals)\n",
    "plt.axhline(0, linestyle='--')\n",
    "plt.xlabel(\"Fitted values\")\n",
    "plt.ylabel(\"Residuals\")\n",
    "plt.title(\"Residuals vs Fitted (Random scatter: good fit if no pattern)\")\n",
    "plt.show()"
   ]
  },
  {
   "cell_type": "markdown",
   "id": "964de7d3",
   "metadata": {},
   "source": [
    "### 5.1 Funnel shape (heteroscedasticity)"
   ]
  },
  {
   "cell_type": "code",
   "execution_count": null,
   "id": "c8a4a976",
   "metadata": {},
   "outputs": [],
   "source": [
    "# Create heteroscedastic data where variance grows with TV\n",
    "rng = np.random.default_rng(202)\n",
    "x_f = np.linspace(0, 10, 100)\n",
    "noise_f = rng.normal(0, 0.2 + 0.6*x_f, len(x_f))\n",
    "y_f = 2 + 3*x_f + noise_f\n",
    "\n",
    "lr_f = LinearRegression().fit(x_f.reshape(-1,1), y_f)\n",
    "yhat_f = lr_f.predict(x_f.reshape(-1,1))\n",
    "res_f = y_f - yhat_f\n",
    "\n",
    "plt.figure()\n",
    "plt.scatter(yhat_f, res_f)\n",
    "plt.axhline(0, linestyle='--')\n",
    "plt.xlabel(\"Fitted values\")\n",
    "plt.ylabel(\"Residuals\")\n",
    "plt.title(\"Funnel shape: heteroscedasticity (variance increases)\")\n",
    "plt.show()"
   ]
  },
  {
   "cell_type": "markdown",
   "id": "4dc242a1",
   "metadata": {},
   "source": [
    "### 5.2 Curved pattern (nonlinearity)"
   ]
  },
  {
   "cell_type": "code",
   "execution_count": null,
   "id": "5ce85887",
   "metadata": {},
   "outputs": [],
   "source": [
    "rng = np.random.default_rng(303)\n",
    "x_c = np.linspace(0, 4, 100)\n",
    "y_c = 2 + 1.5*x_c + 1.2*(x_c**2) + rng.normal(0, 0.7, len(x_c))  # true quadratic\n",
    "lr_c = LinearRegression().fit(x_c.reshape(-1,1), y_c)            # fit linear on purpose\n",
    "yhat_c = lr_c.predict(x_c.reshape(-1,1))\n",
    "res_c = y_c - yhat_c\n",
    "\n",
    "plt.figure()\n",
    "plt.scatter(yhat_c, res_c)\n",
    "plt.axhline(0, linestyle='--')\n",
    "plt.xlabel(\"Fitted values\")\n",
    "plt.ylabel(\"Residuals\")\n",
    "plt.title(\"Curved pattern: nonlinearity (linear model misspecified)\")\n",
    "plt.show()"
   ]
  },
  {
   "cell_type": "markdown",
   "id": "ae6843c0",
   "metadata": {},
   "source": [
    "### 5.3 Outliers / high leverage"
   ]
  },
  {
   "cell_type": "code",
   "execution_count": null,
   "id": "451e9829",
   "metadata": {},
   "outputs": [],
   "source": [
    "rng = np.random.default_rng(404)\n",
    "x_o = np.linspace(0, 10, 80)\n",
    "y_o = 3 + 0.8*x_o + rng.normal(0, 0.7, len(x_o))\n",
    "# Add clear outliers\n",
    "x_o = np.concatenate([x_o, [4.0, 11.5]])\n",
    "y_o = np.concatenate([y_o, [12.0, -3.0]])\n",
    "\n",
    "lr_o = LinearRegression().fit(x_o.reshape(-1,1), y_o)\n",
    "yhat_o = lr_o.predict(x_o.reshape(-1,1))\n",
    "res_o = y_o - yhat_o\n",
    "\n",
    "plt.figure()\n",
    "plt.scatter(yhat_o, res_o)\n",
    "plt.axhline(0, linestyle='--')\n",
    "plt.xlabel(\"Fitted values\")\n",
    "plt.ylabel(\"Residuals\")\n",
    "plt.title(\"Outliers / high leverage: distortion visible\")\n",
    "plt.show()"
   ]
  },
  {
   "cell_type": "code",
   "execution_count": null,
   "id": "c03991ac",
   "metadata": {},
   "outputs": [],
   "source": [
    "# Show distortion vs clean fit\n",
    "x_clean = np.linspace(0, 10, 80)\n",
    "y_clean = 3 + 0.8*x_clean + rng.normal(0, 0.7, len(x_clean))\n",
    "m_clean = LinearRegression().fit(x_clean.reshape(-1,1), y_clean)\n",
    "yhat_clean = m_clean.predict(x_clean.reshape(-1,1))\n",
    "\n",
    "plt.figure()\n",
    "plt.scatter(x_o, y_o, label='Data (with outliers)', alpha=0.7)\n",
    "plt.plot(x_clean, yhat_clean, label='Fit without outliers')\n",
    "plt.plot(x_o, yhat_o, label='Fit with outliers')\n",
    "plt.xlabel(\"X\")\n",
    "plt.ylabel(\"Y\")\n",
    "plt.legend()\n",
    "plt.title(\"Effect of outliers on regression line\")\n",
    "plt.show()"
   ]
  }
 ],
 "metadata": {
  "kernelspec": {
   "display_name": "Python 3",
   "language": "python",
   "name": "python3"
  },
  "language_info": {
   "codemirror_mode": {
    "name": "ipython",
    "version": 3
   },
   "file_extension": ".py",
   "mimetype": "text/x-python",
   "name": "python",
   "nbconvert_exporter": "python",
   "pygments_lexer": "ipython3",
   "version": "3.12.1"
  }
 },
 "nbformat": 4,
 "nbformat_minor": 5
}
