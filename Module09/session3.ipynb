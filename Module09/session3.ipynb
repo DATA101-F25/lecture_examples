{
 "cells": [
  {
   "cell_type": "markdown",
   "id": "5272b476",
   "metadata": {},
   "source": [
    "# DATA 101 — Model Evaluation & Generalization (Session 3)\n",
    "\n",
    "This notebook is self-contained:\n",
    "- Creates an Advertising-like dataset if `Advertising.csv` is not present.\n",
    "- Shows train/test split, R²/MAE/RMSE on test data.\n",
    "- Demonstrates 5-fold cross-validation.\n",
    "- Compares simple vs complex models using test metrics."
   ]
  },
  {
   "cell_type": "markdown",
   "id": "01d8e9bd",
   "metadata": {},
   "source": [
    "## 0. Setup"
   ]
  },
  {
   "cell_type": "code",
   "execution_count": 1,
   "id": "942d7ebf",
   "metadata": {},
   "outputs": [
    {
     "name": "stdout",
     "output_type": "stream",
     "text": [
      "numpy: 2.3.1\n",
      "pandas: 2.3.1\n",
      "matplotlib: 3.10.3\n",
      "statsmodels: 0.14.5\n"
     ]
    }
   ],
   "source": [
    "import os\n",
    "import numpy as np\n",
    "import pandas as pd\n",
    "import matplotlib.pyplot as plt\n",
    "\n",
    "from sklearn.model_selection import train_test_split, KFold, cross_val_score\n",
    "from sklearn.metrics import r2_score, mean_absolute_error, root_mean_squared_error\n",
    "from sklearn.linear_model import LinearRegression\n",
    "from sklearn.preprocessing import PolynomialFeatures\n",
    "\n",
    "import statsmodels.api as sm\n",
    "\n",
    "print(\"numpy:\", np.__version__)\n",
    "print(\"pandas:\", pd.__version__)\n",
    "print(\"matplotlib:\", plt.matplotlib.__version__)\n",
    "print(\"statsmodels:\", sm.__version__)"
   ]
  },
  {
   "cell_type": "markdown",
   "id": "8d149b5e",
   "metadata": {},
   "source": [
    "## 1. Load data or create a realistic synthetic dataset"
   ]
  },
  {
   "cell_type": "code",
   "execution_count": 2,
   "id": "2d714641",
   "metadata": {},
   "outputs": [
    {
     "data": {
      "text/html": [
       "<div>\n",
       "<style scoped>\n",
       "    .dataframe tbody tr th:only-of-type {\n",
       "        vertical-align: middle;\n",
       "    }\n",
       "\n",
       "    .dataframe tbody tr th {\n",
       "        vertical-align: top;\n",
       "    }\n",
       "\n",
       "    .dataframe thead th {\n",
       "        text-align: right;\n",
       "    }\n",
       "</style>\n",
       "<table border=\"1\" class=\"dataframe\">\n",
       "  <thead>\n",
       "    <tr style=\"text-align: right;\">\n",
       "      <th></th>\n",
       "      <th>TV</th>\n",
       "      <th>Radio</th>\n",
       "      <th>Newspaper</th>\n",
       "      <th>Sales</th>\n",
       "    </tr>\n",
       "  </thead>\n",
       "  <tbody>\n",
       "    <tr>\n",
       "      <th>0</th>\n",
       "      <td>283.059752</td>\n",
       "      <td>22.400382</td>\n",
       "      <td>13.046499</td>\n",
       "      <td>20.792160</td>\n",
       "    </tr>\n",
       "    <tr>\n",
       "      <th>1</th>\n",
       "      <td>107.826310</td>\n",
       "      <td>17.833197</td>\n",
       "      <td>17.377088</td>\n",
       "      <td>10.954803</td>\n",
       "    </tr>\n",
       "    <tr>\n",
       "      <th>2</th>\n",
       "      <td>235.441624</td>\n",
       "      <td>8.592322</td>\n",
       "      <td>25.762048</td>\n",
       "      <td>16.113905</td>\n",
       "    </tr>\n",
       "    <tr>\n",
       "      <th>3</th>\n",
       "      <td>177.383456</td>\n",
       "      <td>34.092156</td>\n",
       "      <td>92.782412</td>\n",
       "      <td>16.974606</td>\n",
       "    </tr>\n",
       "    <tr>\n",
       "      <th>4</th>\n",
       "      <td>88.298568</td>\n",
       "      <td>44.342255</td>\n",
       "      <td>80.859978</td>\n",
       "      <td>15.688330</td>\n",
       "    </tr>\n",
       "  </tbody>\n",
       "</table>\n",
       "</div>"
      ],
      "text/plain": [
       "           TV      Radio  Newspaper      Sales\n",
       "0  283.059752  22.400382  13.046499  20.792160\n",
       "1  107.826310  17.833197  17.377088  10.954803\n",
       "2  235.441624   8.592322  25.762048  16.113905\n",
       "3  177.383456  34.092156  92.782412  16.974606\n",
       "4   88.298568  44.342255  80.859978  15.688330"
      ]
     },
     "execution_count": 2,
     "metadata": {},
     "output_type": "execute_result"
    }
   ],
   "source": [
    "csv_path = \"./data/Advertising.csv\"\n",
    "\n",
    "if os.path.exists(csv_path):\n",
    "    df = pd.read_csv(csv_path)\n",
    "else:\n",
    "    rng = np.random.default_rng(2025)\n",
    "    n = 200\n",
    "    TV = rng.uniform(0, 300, n)\n",
    "    Radio = rng.uniform(0, 50, n)\n",
    "    Newspaper = rng.uniform(0, 100, n)\n",
    "    Sales = 3.0 + 0.045*TV + 0.18*Radio + 0.01*Newspaper + rng.normal(0, 1.2, n)\n",
    "    df = pd.DataFrame({\"TV\": TV, \"Radio\": Radio, \"Newspaper\": Newspaper, \"Sales\": Sales})\n",
    "    df.to_csv(csv_path, index=False)\n",
    "\n",
    "df.head()"
   ]
  },
  {
   "cell_type": "markdown",
   "id": "ce9b854d",
   "metadata": {},
   "source": [
    "## 2. Train/Test Split (reproducible)"
   ]
  },
  {
   "cell_type": "code",
   "execution_count": 3,
   "id": "5be7d7d2",
   "metadata": {},
   "outputs": [
    {
     "name": "stdout",
     "output_type": "stream",
     "text": [
      "                            OLS Regression Results                            \n",
      "==============================================================================\n",
      "Dep. Variable:                      y   R-squared:                       0.930\n",
      "Model:                            OLS   Adj. R-squared:                  0.929\n",
      "Method:                 Least Squares   F-statistic:                     604.6\n",
      "Date:                Fri, 24 Oct 2025   Prob (F-statistic):           2.08e-78\n",
      "Time:                        14:00:03   Log-Likelihood:                -232.45\n",
      "No. Observations:                 140   AIC:                             472.9\n",
      "Df Residuals:                     136   BIC:                             484.7\n",
      "Df Model:                           3                                         \n",
      "Covariance Type:            nonrobust                                         \n",
      "==============================================================================\n"
     ]
    }
   ],
   "source": [
    "X = df[[\"TV\",\"Radio\",\"Newspaper\"]].values\n",
    "y = df[\"Sales\"].values\n",
    "\n",
    "X_train, X_test, y_train, y_test = train_test_split(\n",
    "    X, y, test_size=0.30, random_state=42\n",
    ")\n",
    "\n",
    "model_train = sm.OLS(y_train, sm.add_constant(X_train)).fit()\n",
    "y_pred_test = model_train.predict(sm.add_constant(X_test))\n",
    "\n",
    "print(model_train.summary().tables[0])"
   ]
  },
  {
   "cell_type": "markdown",
   "id": "aa284027",
   "metadata": {},
   "source": [
    "## 3. Evaluate Predictions on Test Data"
   ]
  },
  {
   "cell_type": "code",
   "execution_count": 4,
   "id": "daffcc44",
   "metadata": {},
   "outputs": [
    {
     "name": "stdout",
     "output_type": "stream",
     "text": [
      "Test R^2:  0.923\n",
      "Test MAE:  1.092\n",
      "Test RMSE: 1.332\n"
     ]
    },
    {
     "data": {
      "image/png": "[encoded data removed]",
      "text/plain": [
       "<Figure size 640x480 with 1 Axes>"
      ]
     },
     "metadata": {},
     "output_type": "display_data"
    }
   ],
   "source": [
    "r2_test = r2_score(y_test, y_pred_test)\n",
    "mae_test = mean_absolute_error(y_test, y_pred_test)\n",
    "rmse_test = root_mean_squared_error(y_test, y_pred_test)\n",
    "\n",
    "print(f\"Test R^2:  {r2_test:.3f}\")\n",
    "print(f\"Test MAE:  {mae_test:.3f}\")\n",
    "print(f\"Test RMSE: {rmse_test:.3f}\")\n",
    "\n",
    "plt.figure()\n",
    "plt.scatter(y_test, y_pred_test)\n",
    "plt.xlabel(\"Actual Sales\")\n",
    "plt.ylabel(\"Predicted Sales\")\n",
    "plt.title(\"Predicted vs Actual (Test Set)\")\n",
    "plt.plot([y_test.min(), y_test.max()], [y_test.min(), y_test.max()])\n",
    "plt.show()"
   ]
  },
  {
   "cell_type": "markdown",
   "id": "270d0483",
   "metadata": {},
   "source": [
    "Interpretation of results:\n",
    "\n",
    "* **Test (R^2 = 0.923):**\n",
    "  The model explains about **92.3% of the variation** in sales for **unseen (test) data**.\n",
    "  This indicates a **strong predictive relationship** — the model generalizes well.\n",
    "\n",
    "* **Test MAE = 1.09:**\n",
    "  On average, the model’s predictions are **off by about 1.1 sales units** from the actual values, regardless of direction.\n",
    "  (MAE measures the *typical absolute prediction error*.)\n",
    "\n",
    "* **Test RMSE = 1.33:**\n",
    "  The model’s **root mean squared error** is about **1.33 sales units**, meaning that most predictions fall within roughly ±1.3 of the true sales values.\n",
    "  RMSE gives more weight to larger errors, so it’s slightly higher than MAE.\n",
    "\n",
    "**Summary interpretation:**\n",
    "\n",
    "> The model performs well on new data — it explains over 90% of the sales variation and typically predicts sales within **about 1 to 1.3 units** of the actual value.\n",
    "> Errors are small relative to the sales range, suggesting **strong and reliable generalization**."
   ]
  },
  {
   "cell_type": "markdown",
   "id": "cc0b67ae",
   "metadata": {},
   "source": [
    "## 4. 5-Fold Cross-Validation (R²)"
   ]
  },
  {
   "cell_type": "code",
   "execution_count": 5,
   "id": "3904f65d",
   "metadata": {},
   "outputs": [
    {
     "name": "stdout",
     "output_type": "stream",
     "text": [
      "Fold R^2 scores: [0.929 0.933 0.875 0.928 0.928]\n",
      "Average Cross-Validated R^2: 0.919\n"
     ]
    }
   ],
   "source": [
    "lin = LinearRegression()\n",
    "cv_scores = cross_val_score(lin, X, y, cv=5, scoring='r2')\n",
    "print(\"Fold R^2 scores:\", np.round(cv_scores, 3))\n",
    "print(\"Average Cross-Validated R^2:\", np.round(cv_scores.mean(), 3))"
   ]
  },
  {
   "cell_type": "markdown",
   "id": "0934780c",
   "metadata": {},
   "source": [
    "## 5. Comparing Models on the Same Split"
   ]
  },
  {
   "cell_type": "code",
   "execution_count": 6,
   "id": "edbbbe76",
   "metadata": {},
   "outputs": [
    {
     "data": {
      "text/html": [
       "<div>\n",
       "<style scoped>\n",
       "    .dataframe tbody tr th:only-of-type {\n",
       "        vertical-align: middle;\n",
       "    }\n",
       "\n",
       "    .dataframe tbody tr th {\n",
       "        vertical-align: top;\n",
       "    }\n",
       "\n",
       "    .dataframe thead th {\n",
       "        text-align: right;\n",
       "    }\n",
       "</style>\n",
       "<table border=\"1\" class=\"dataframe\">\n",
       "  <thead>\n",
       "    <tr style=\"text-align: right;\">\n",
       "      <th></th>\n",
       "      <th>Model</th>\n",
       "      <th>Train_R2</th>\n",
       "      <th>Test_R2</th>\n",
       "      <th>Test_RMSE</th>\n",
       "      <th>Complexity</th>\n",
       "    </tr>\n",
       "  </thead>\n",
       "  <tbody>\n",
       "    <tr>\n",
       "      <th>0</th>\n",
       "      <td>Simple (TV)</td>\n",
       "      <td>0.620</td>\n",
       "      <td>0.585</td>\n",
       "      <td>3.087</td>\n",
       "      <td>Low</td>\n",
       "    </tr>\n",
       "    <tr>\n",
       "      <th>1</th>\n",
       "      <td>Reduced (TV+Radio)</td>\n",
       "      <td>0.929</td>\n",
       "      <td>0.919</td>\n",
       "      <td>1.362</td>\n",
       "      <td>Medium</td>\n",
       "    </tr>\n",
       "    <tr>\n",
       "      <th>2</th>\n",
       "      <td>Full (TV+Radio+News)</td>\n",
       "      <td>0.930</td>\n",
       "      <td>0.923</td>\n",
       "      <td>1.332</td>\n",
       "      <td>Higher</td>\n",
       "    </tr>\n",
       "  </tbody>\n",
       "</table>\n",
       "</div>"
      ],
      "text/plain": [
       "                  Model  Train_R2  Test_R2  Test_RMSE Complexity\n",
       "0           Simple (TV)     0.620    0.585      3.087        Low\n",
       "1    Reduced (TV+Radio)     0.929    0.919      1.362     Medium\n",
       "2  Full (TV+Radio+News)     0.930    0.923      1.332     Higher"
      ]
     },
     "execution_count": 6,
     "metadata": {},
     "output_type": "execute_result"
    }
   ],
   "source": [
    "def test_metrics(Xtr, Xte, ytr, yte):\n",
    "    mdl = sm.OLS(ytr, sm.add_constant(Xtr)).fit()\n",
    "    pred_tr = mdl.predict(sm.add_constant(Xtr))\n",
    "    pred_te = mdl.predict(sm.add_constant(Xte))\n",
    "    return (\n",
    "        r2_score(ytr, pred_tr), \n",
    "        r2_score(yte, pred_te), \n",
    "        root_mean_squared_error(yte, pred_te)\n",
    "    )\n",
    "\n",
    "X = df[[\"TV\",\"Radio\",\"Newspaper\"]].values\n",
    "y = df[\"Sales\"].values\n",
    "X_train, X_test, y_train, y_test = train_test_split(X, y, test_size=0.30, random_state=42)\n",
    "\n",
    "tr_r2_s, te_r2_s, te_rmse_s = test_metrics(X_train[:, [0]], X_test[:, [0]], y_train, y_test)\n",
    "tr_r2_r, te_r2_r, te_rmse_r = test_metrics(X_train[:, [0,1]], X_test[:, [0,1]], y_train, y_test)\n",
    "tr_r2_f, te_r2_f, te_rmse_f = test_metrics(X_train, X_test, y_train, y_test)\n",
    "\n",
    "cmp = pd.DataFrame({\n",
    "    \"Model\": [\"Simple (TV)\", \"Reduced (TV+Radio)\", \"Full (TV+Radio+News)\"],\n",
    "    \"Train_R2\": np.round([tr_r2_s, tr_r2_r, tr_r2_f], 3),\n",
    "    \"Test_R2\": np.round([te_r2_s, te_r2_r, te_r2_f], 3),\n",
    "    \"Test_RMSE\": np.round([te_rmse_s, te_rmse_r, te_rmse_f], 3),\n",
    "    \"Complexity\": [\"Low\", \"Medium\", \"Higher\"]\n",
    "})\n",
    "cmp"
   ]
  }
 ],
 "metadata": {
  "kernelspec": {
   "display_name": "Python 3",
   "language": "python",
   "name": "python3"
  },
  "language_info": {
   "codemirror_mode": {
    "name": "ipython",
    "version": 3
   },
   "file_extension": ".py",
   "mimetype": "text/x-python",
   "name": "python",
   "nbconvert_exporter": "python",
   "pygments_lexer": "ipython3",
   "version": "3.12.1"
  }
 },
 "nbformat": 4,
 "nbformat_minor": 5
}
