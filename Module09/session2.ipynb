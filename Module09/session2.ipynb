{
 "cells": [
  {
   "cell_type": "markdown",
   "id": "5a792759",
   "metadata": {},
   "source": [
    "# DATA 101 — Intro to Modeling (Session 2)\n",
    "\n",
    "**Focus:** Multiple regression, interpretation, multicollinearity (VIF), interaction terms, adjusted $R^2$, Q–Q plot (normality), and simple model comparison.\n",
    "\n",
    "> This notebook is self-contained. If `Advertising.csv` is not present, it will generate a realistic synthetic dataset.\n"
   ]
  },
  {
   "cell_type": "markdown",
   "id": "644d67c9",
   "metadata": {},
   "source": [
    "## 0. Setup"
   ]
  },
  {
   "cell_type": "code",
   "execution_count": 1,
   "id": "00904472",
   "metadata": {},
   "outputs": [
    {
     "name": "stdout",
     "output_type": "stream",
     "text": [
      "numpy: 2.3.1\n",
      "pandas: 2.3.1\n",
      "matplotlib: 3.10.3\n",
      "statsmodels: 0.14.5\n"
     ]
    }
   ],
   "source": [
    "import os\n",
    "import numpy as np\n",
    "import pandas as pd\n",
    "import matplotlib.pyplot as plt\n",
    "\n",
    "import statsmodels.api as sm\n",
    "from statsmodels.stats.outliers_influence import variance_inflation_factor\n",
    "\n",
    "print(\"numpy:\", np.__version__)\n",
    "print(\"pandas:\", pd.__version__)\n",
    "print(\"matplotlib:\", plt.matplotlib.__version__)\n",
    "print(\"statsmodels:\", sm.__version__)"
   ]
  },
  {
   "cell_type": "markdown",
   "id": "1561aee4",
   "metadata": {},
   "source": [
    "## 1. Load data (or create synthetic Advertising-like data)"
   ]
  },
  {
   "cell_type": "code",
   "execution_count": 2,
   "id": "3fa8d074",
   "metadata": {},
   "outputs": [
    {
     "data": {
      "text/html": [
       "<div>\n",
       "<style scoped>\n",
       "    .dataframe tbody tr th:only-of-type {\n",
       "        vertical-align: middle;\n",
       "    }\n",
       "\n",
       "    .dataframe tbody tr th {\n",
       "        vertical-align: top;\n",
       "    }\n",
       "\n",
       "    .dataframe thead th {\n",
       "        text-align: right;\n",
       "    }\n",
       "</style>\n",
       "<table border=\"1\" class=\"dataframe\">\n",
       "  <thead>\n",
       "    <tr style=\"text-align: right;\">\n",
       "      <th></th>\n",
       "      <th>TV</th>\n",
       "      <th>Radio</th>\n",
       "      <th>Newspaper</th>\n",
       "      <th>Sales</th>\n",
       "    </tr>\n",
       "  </thead>\n",
       "  <tbody>\n",
       "    <tr>\n",
       "      <th>0</th>\n",
       "      <td>283.059752</td>\n",
       "      <td>22.400382</td>\n",
       "      <td>13.046499</td>\n",
       "      <td>20.792160</td>\n",
       "    </tr>\n",
       "    <tr>\n",
       "      <th>1</th>\n",
       "      <td>107.826310</td>\n",
       "      <td>17.833197</td>\n",
       "      <td>17.377088</td>\n",
       "      <td>10.954803</td>\n",
       "    </tr>\n",
       "    <tr>\n",
       "      <th>2</th>\n",
       "      <td>235.441624</td>\n",
       "      <td>8.592322</td>\n",
       "      <td>25.762048</td>\n",
       "      <td>16.113905</td>\n",
       "    </tr>\n",
       "    <tr>\n",
       "      <th>3</th>\n",
       "      <td>177.383456</td>\n",
       "      <td>34.092156</td>\n",
       "      <td>92.782412</td>\n",
       "      <td>16.974606</td>\n",
       "    </tr>\n",
       "    <tr>\n",
       "      <th>4</th>\n",
       "      <td>88.298568</td>\n",
       "      <td>44.342255</td>\n",
       "      <td>80.859978</td>\n",
       "      <td>15.688330</td>\n",
       "    </tr>\n",
       "  </tbody>\n",
       "</table>\n",
       "</div>"
      ],
      "text/plain": [
       "           TV      Radio  Newspaper      Sales\n",
       "0  283.059752  22.400382  13.046499  20.792160\n",
       "1  107.826310  17.833197  17.377088  10.954803\n",
       "2  235.441624   8.592322  25.762048  16.113905\n",
       "3  177.383456  34.092156  92.782412  16.974606\n",
       "4   88.298568  44.342255  80.859978  15.688330"
      ]
     },
     "execution_count": 2,
     "metadata": {},
     "output_type": "execute_result"
    }
   ],
   "source": [
    "csv_path = \"./data/Advertising.csv\"\n",
    "\n",
    "if os.path.exists(csv_path):\n",
    "    df = pd.read_csv(csv_path)\n",
    "else:\n",
    "    # Generate a dataset similar to ISLR's Advertising\n",
    "    rng = np.random.default_rng(2025)\n",
    "    n = 200\n",
    "    TV = rng.uniform(0, 300, n)          # $k\n",
    "    Radio = rng.uniform(0, 50, n)        # $k\n",
    "    Newspaper = rng.uniform(0, 100, n)   # $k\n",
    "    # True relationship with noise\n",
    "    Sales = 3.0 + 0.045*TV + 0.18*Radio + 0.01*Newspaper + rng.normal(0, 1.2, n)\n",
    "    df = pd.DataFrame({\"TV\": TV, \"Radio\": Radio, \"Newspaper\": Newspaper, \"Sales\": Sales})\n",
    "    df.to_csv(csv_path, index=False)\n",
    "\n",
    "df.head()"
   ]
  },
  {
   "cell_type": "markdown",
   "id": "0f76fd75",
   "metadata": {},
   "source": [
    "## 2. Multiple Regression: `Sales ~ TV + Radio + Newspaper`"
   ]
  },
  {
   "cell_type": "code",
   "execution_count": 3,
   "id": "dcafb911",
   "metadata": {},
   "outputs": [
    {
     "name": "stdout",
     "output_type": "stream",
     "text": [
      "                            OLS Regression Results                            \n",
      "==============================================================================\n",
      "Dep. Variable:                  Sales   R-squared:                       0.929\n",
      "Model:                            OLS   Adj. R-squared:                  0.928\n",
      "Method:                 Least Squares   F-statistic:                     855.1\n",
      "Date:                Wed, 22 Oct 2025   Prob (F-statistic):          2.79e-112\n",
      "Time:                        14:06:05   Log-Likelihood:                -333.76\n",
      "No. Observations:                 200   AIC:                             675.5\n",
      "Df Residuals:                     196   BIC:                             688.7\n",
      "Df Model:                           3                                         \n",
      "Covariance Type:            nonrobust                                         \n",
      "==============================================================================\n",
      "                 coef    std err          t      P>|t|      [0.025      0.975]\n",
      "------------------------------------------------------------------------------\n",
      "const          2.8913      0.302      9.570      0.000       2.295       3.487\n",
      "TV             0.0453      0.001     42.600      0.000       0.043       0.047\n",
      "Radio          0.1866      0.006     29.629      0.000       0.174       0.199\n",
      "Newspaper      0.0066      0.003      2.142      0.033       0.001       0.013\n",
      "==============================================================================\n",
      "Omnibus:                        3.766   Durbin-Watson:                   1.931\n",
      "Prob(Omnibus):                  0.152   Jarque-Bera (JB):                3.561\n",
      "Skew:                           0.326   Prob(JB):                        0.169\n",
      "Kurtosis:                       3.046   Cond. No.                         597.\n",
      "==============================================================================\n",
      "\n",
      "Notes:\n",
      "[1] Standard Errors assume that the covariance matrix of the errors is correctly specified.\n"
     ]
    }
   ],
   "source": [
    "X = sm.add_constant(df[[\"TV\",\"Radio\",\"Newspaper\"]])\n",
    "y = df[\"Sales\"]\n",
    "\n",
    "model_full = sm.OLS(y, X).fit()\n",
    "print(model_full.summary())"
   ]
  },
  {
   "cell_type": "markdown",
   "id": "5bc57bbd",
   "metadata": {},
   "source": [
    "### 2.1 Coefficient table (estimates, standard errors, p-values)"
   ]
  },
  {
   "cell_type": "code",
   "execution_count": 4,
   "id": "b8ba215f",
   "metadata": {},
   "outputs": [
    {
     "data": {
      "text/html": [
       "<div>\n",
       "<style scoped>\n",
       "    .dataframe tbody tr th:only-of-type {\n",
       "        vertical-align: middle;\n",
       "    }\n",
       "\n",
       "    .dataframe tbody tr th {\n",
       "        vertical-align: top;\n",
       "    }\n",
       "\n",
       "    .dataframe thead th {\n",
       "        text-align: right;\n",
       "    }\n",
       "</style>\n",
       "<table border=\"1\" class=\"dataframe\">\n",
       "  <thead>\n",
       "    <tr style=\"text-align: right;\">\n",
       "      <th></th>\n",
       "      <th>coef</th>\n",
       "      <th>std_err</th>\n",
       "      <th>t</th>\n",
       "      <th>p_value</th>\n",
       "    </tr>\n",
       "  </thead>\n",
       "  <tbody>\n",
       "    <tr>\n",
       "      <th>const</th>\n",
       "      <td>2.891262</td>\n",
       "      <td>0.302130</td>\n",
       "      <td>9.569606</td>\n",
       "      <td>4.811735e-18</td>\n",
       "    </tr>\n",
       "    <tr>\n",
       "      <th>TV</th>\n",
       "      <td>0.045349</td>\n",
       "      <td>0.001065</td>\n",
       "      <td>42.599835</td>\n",
       "      <td>4.890812e-101</td>\n",
       "    </tr>\n",
       "    <tr>\n",
       "      <th>Radio</th>\n",
       "      <td>0.186626</td>\n",
       "      <td>0.006299</td>\n",
       "      <td>29.628924</td>\n",
       "      <td>2.548206e-74</td>\n",
       "    </tr>\n",
       "    <tr>\n",
       "      <th>Newspaper</th>\n",
       "      <td>0.006561</td>\n",
       "      <td>0.003063</td>\n",
       "      <td>2.142152</td>\n",
       "      <td>3.341505e-02</td>\n",
       "    </tr>\n",
       "  </tbody>\n",
       "</table>\n",
       "</div>"
      ],
      "text/plain": [
       "               coef   std_err          t        p_value\n",
       "const      2.891262  0.302130   9.569606   4.811735e-18\n",
       "TV         0.045349  0.001065  42.599835  4.890812e-101\n",
       "Radio      0.186626  0.006299  29.628924   2.548206e-74\n",
       "Newspaper  0.006561  0.003063   2.142152   3.341505e-02"
      ]
     },
     "execution_count": 4,
     "metadata": {},
     "output_type": "execute_result"
    }
   ],
   "source": [
    "coef_table = pd.DataFrame({\n",
    "    \"coef\": model_full.params,\n",
    "    \"std_err\": model_full.bse,\n",
    "    \"t\": model_full.tvalues,\n",
    "    \"p_value\": model_full.pvalues\n",
    "})\n",
    "coef_table"
   ]
  },
  {
   "cell_type": "markdown",
   "id": "cf78db3f",
   "metadata": {},
   "source": [
    "### Interpretation:\n",
    "\n",
    "* **Intercept (2.89):**\n",
    "  When all advertising spending is zero (TV, Radio, and Newspaper = 0), predicted sales are **about 2.9 units**.\n",
    "\n",
    "* **TV (0.045):**\n",
    "  For each additional **$1,000 spent on TV advertising**, sales increase by **about 0.045 units**, assuming Radio and Newspaper spending stay the same.\n",
    "\n",
    "* **Radio (0.187):**\n",
    "  For each additional **$1,000 spent on Radio advertising**, sales increase by **about 0.19 units**, holding TV and Newspaper constant.\n",
    "\n",
    "* **Newspaper (0.0066):**\n",
    "  For each additional **$1,000 spent on Newspaper ads**, sales increase by **about 0.007 units**, controlling for TV and Radio.\n",
    "  This effect is small but statistically significant (p ≈ 0.03).\n",
    "\n",
    "**Summary interpretation:**\n",
    "TV and Radio both have strong, significant effects on sales; Newspaper has a weaker but still statistically detectable effect.\n"
   ]
  },
  {
   "cell_type": "markdown",
   "id": "8ac346a3",
   "metadata": {},
   "source": [
    "## 3. Model Fit and Comparison (Adjusted $R^2$)"
   ]
  },
  {
   "cell_type": "code",
   "execution_count": 5,
   "id": "2df625bb",
   "metadata": {},
   "outputs": [
    {
     "name": "stdout",
     "output_type": "stream",
     "text": [
      "Full model Adj R^2: 0.9279\n",
      "Reduced model Adj R^2: 0.9266\n"
     ]
    }
   ],
   "source": [
    "\n",
    "# Reduced model: drop Newspaper to see comparison\n",
    "X_red = sm.add_constant(df[[\"TV\",\"Radio\"]])\n",
    "model_reduced = sm.OLS(y, X_red).fit()\n",
    "\n",
    "print(\"Full model Adj R^2:\", round(model_full.rsquared_adj, 4))\n",
    "print(\"Reduced model Adj R^2:\", round(model_reduced.rsquared_adj, 4))\n"
   ]
  },
  {
   "cell_type": "markdown",
   "id": "4fe1f840",
   "metadata": {},
   "source": [
    "### Interpretation:\n",
    "\n",
    "* The **full model** (with TV, Radio, and Newspaper) explains about **92.8%** of the variation in Sales after adjusting for the number of predictors.\n",
    "* The **reduced model** (with only TV and Radio) explains about **92.7%** of the variation.\n",
    "\n",
    "The difference (0.9279 − 0.9266 = 0.0013) is **very small**, meaning that adding **Newspaper** barely improves the model’s explanatory power.\n",
    "\n",
    "**Conclusion:**\n",
    "The simpler model with only **TV and Radio** performs almost as well as the full model, so it’s preferable for clarity and efficiency."
   ]
  },
  {
   "cell_type": "markdown",
   "id": "5ebca2e3",
   "metadata": {},
   "source": [
    "## 4. Multicollinearity: Variance Inflation Factor (VIF)"
   ]
  },
  {
   "cell_type": "code",
   "execution_count": 6,
   "id": "c813029c",
   "metadata": {},
   "outputs": [
    {
     "data": {
      "text/html": [
       "<div>\n",
       "<style scoped>\n",
       "    .dataframe tbody tr th:only-of-type {\n",
       "        vertical-align: middle;\n",
       "    }\n",
       "\n",
       "    .dataframe tbody tr th {\n",
       "        vertical-align: top;\n",
       "    }\n",
       "\n",
       "    .dataframe thead th {\n",
       "        text-align: right;\n",
       "    }\n",
       "</style>\n",
       "<table border=\"1\" class=\"dataframe\">\n",
       "  <thead>\n",
       "    <tr style=\"text-align: right;\">\n",
       "      <th></th>\n",
       "      <th>feature</th>\n",
       "      <th>VIF</th>\n",
       "    </tr>\n",
       "  </thead>\n",
       "  <tbody>\n",
       "    <tr>\n",
       "      <th>0</th>\n",
       "      <td>const</td>\n",
       "      <td>10.854825</td>\n",
       "    </tr>\n",
       "    <tr>\n",
       "      <th>1</th>\n",
       "      <td>TV</td>\n",
       "      <td>1.012438</td>\n",
       "    </tr>\n",
       "    <tr>\n",
       "      <th>2</th>\n",
       "      <td>Radio</td>\n",
       "      <td>1.007246</td>\n",
       "    </tr>\n",
       "    <tr>\n",
       "      <th>3</th>\n",
       "      <td>Newspaper</td>\n",
       "      <td>1.013304</td>\n",
       "    </tr>\n",
       "  </tbody>\n",
       "</table>\n",
       "</div>"
      ],
      "text/plain": [
       "     feature        VIF\n",
       "0      const  10.854825\n",
       "1         TV   1.012438\n",
       "2      Radio   1.007246\n",
       "3  Newspaper   1.013304"
      ]
     },
     "execution_count": 6,
     "metadata": {},
     "output_type": "execute_result"
    }
   ],
   "source": [
    "# Compute VIFs for the predictors in the full model (exclude the constant)\n",
    "X_vif = df[[\"TV\",\"Radio\",\"Newspaper\"]].copy()\n",
    "X_vif_const = sm.add_constant(X_vif)\n",
    "\n",
    "from statsmodels.stats.outliers_influence import variance_inflation_factor\n",
    "vif_df = pd.DataFrame({\n",
    "    \"feature\": [\"const\"] + list(X_vif.columns),\n",
    "    \"VIF\": [variance_inflation_factor(X_vif_const.values, i) for i in range(X_vif_const.shape[1])]\n",
    "})\n",
    "vif_df"
   ]
  },
  {
   "cell_type": "markdown",
   "id": "b4e8714f",
   "metadata": {},
   "source": [
    "### Interpretation:\n",
    "\n",
    "* **TV (1.01), Radio (1.01), Newspaper (1.01):**\n",
    "  All VIF values are very close to **1**, meaning the predictors are **not correlated** with each other.\n",
    "  There is **no evidence of multicollinearity** in this model.\n",
    "\n",
    "* **Constant (10.85):**\n",
    "  The intercept’s VIF is often high and **not meaningful**, since it depends on variable scaling and centering.\n",
    "  It can be safely ignored when assessing multicollinearity.\n",
    "\n",
    "**Conclusion:**\n",
    "All predictors are independent enough for reliable coefficient interpretation."
   ]
  },
  {
   "cell_type": "markdown",
   "id": "a5bd4555",
   "metadata": {},
   "source": [
    "## 5. Interaction Terms"
   ]
  },
  {
   "cell_type": "markdown",
   "id": "53dbd38f",
   "metadata": {},
   "source": [
    "We add an interaction between `TV` and `Radio` to allow the effect of `TV` to depend on the level of `Radio` (and vice versa):\n",
    "\n",
    "$\\;\\;\\;\\; Sales = \\beta_0 + \\beta_1\\,TV + \\beta_2\\,Radio + \\beta_3\\,(TV \\times Radio) + \\varepsilon$\n"
   ]
  },
  {
   "cell_type": "code",
   "execution_count": 7,
   "id": "8d49d299",
   "metadata": {},
   "outputs": [
    {
     "name": "stdout",
     "output_type": "stream",
     "text": [
      "                            OLS Regression Results                            \n",
      "==============================================================================\n",
      "Dep. Variable:                  Sales   R-squared:                       0.928\n",
      "Model:                            OLS   Adj. R-squared:                  0.927\n",
      "Method:                 Least Squares   F-statistic:                     847.0\n",
      "Date:                Wed, 22 Oct 2025   Prob (F-statistic):          6.65e-112\n",
      "Time:                        14:06:05   Log-Likelihood:                -334.65\n",
      "No. Observations:                 200   AIC:                             677.3\n",
      "Df Residuals:                     196   BIC:                             690.5\n",
      "Df Model:                           3                                         \n",
      "Covariance Type:            nonrobust                                         \n",
      "==============================================================================\n",
      "                 coef    std err          t      P>|t|      [0.025      0.975]\n",
      "------------------------------------------------------------------------------\n",
      "const          2.8233      0.364      7.756      0.000       2.105       3.541\n",
      "TV             0.0480      0.002     23.817      0.000       0.044       0.052\n",
      "Radio          0.2042      0.013     16.092      0.000       0.179       0.229\n",
      "TVxRadio      -0.0001   7.08e-05     -1.679      0.095      -0.000    2.08e-05\n",
      "==============================================================================\n",
      "Omnibus:                        5.098   Durbin-Watson:                   1.902\n",
      "Prob(Omnibus):                  0.078   Jarque-Bera (JB):                4.743\n",
      "Skew:                           0.363   Prob(JB):                       0.0934\n",
      "Kurtosis:                       3.205   Cond. No.                     1.90e+04\n",
      "==============================================================================\n",
      "\n",
      "Notes:\n",
      "[1] Standard Errors assume that the covariance matrix of the errors is correctly specified.\n",
      "[2] The condition number is large, 1.9e+04. This might indicate that there are\n",
      "strong multicollinearity or other numerical problems.\n"
     ]
    }
   ],
   "source": [
    "df[\"TVxRadio\"] = df[\"TV\"] * df[\"Radio\"]\n",
    "X_int = sm.add_constant(df[[\"TV\",\"Radio\",\"TVxRadio\"]])\n",
    "model_int = sm.OLS(y, X_int).fit()\n",
    "print(model_int.summary())"
   ]
  },
  {
   "cell_type": "markdown",
   "id": "0954d590",
   "metadata": {},
   "source": [
    "### 5.1 Interpreting the interaction"
   ]
  },
  {
   "cell_type": "code",
   "execution_count": 8,
   "id": "f4e04625",
   "metadata": {},
   "outputs": [
    {
     "name": "stdout",
     "output_type": "stream",
     "text": [
      "Estimated coefficients:\n",
      "Intercept: 2.823, TV: 0.0480, Radio: 0.2042, TVxRadio: -0.000119\n",
      "Marginal effect of TV when Radio=0.00: 0.0480 (change in Sales per 1k TV)\n",
      "Marginal effect of TV when Radio=22.71: 0.0453 (change in Sales per 1k TV)\n"
     ]
    }
   ],
   "source": [
    "b0, b_tv, b_radio, b_int = model_int.params\n",
    "print(\"Estimated coefficients:\")\n",
    "print(f\"Intercept: {b0:.3f}, TV: {b_tv:.4f}, Radio: {b_radio:.4f}, TVxRadio: {b_int:.6f}\")\n",
    "\n",
    "# Example: marginal effect of TV at two Radio levels\n",
    "for r in [0, df['Radio'].median()]:\n",
    "    slope_tv_at_r = b_tv + b_int * r\n",
    "    print(f\"Marginal effect of TV when Radio={r:.2f}: {slope_tv_at_r:.4f} (change in Sales per 1k TV)\")"
   ]
  },
  {
   "cell_type": "markdown",
   "id": "4d7bd5ae",
   "metadata": {},
   "source": [
    "### Interpretation:\n",
    "\n",
    "* **Intercept (2.82):**\n",
    "  Predicted sales are about **2.8 units** when both TV and Radio spending are zero.\n",
    "\n",
    "* **TV (0.048):**\n",
    "  When Radio spending is zero, each additional **$1,000 in TV advertising** increases sales by **0.048 units**.\n",
    "\n",
    "* **Radio (0.204):**\n",
    "  When TV spending is zero, each additional **$1,000 in Radio advertising** increases sales by **0.204 units**.\n",
    "\n",
    "* **Interaction (–0.000119):**\n",
    "  The negative sign means that the effect of TV **slightly decreases** as Radio spending increases —\n",
    "  in other words, combining the two channels yields a **smaller incremental gain** than the sum of their separate effects.\n",
    "\n",
    "**Example:**\n",
    "\n",
    "* At **Radio = 0**, TV’s effect ≈ 0.048 per $1k.\n",
    "* At **Radio = 22.7**, TV’s effect ≈ 0.045 per $1k.\n",
    "\n",
    "**Conclusion:**\n",
    "TV and Radio are both strong predictors of sales, but their joint effect shows **diminishing returns** — running both ads together adds less incremental value than running each independently."
   ]
  },
  {
   "cell_type": "markdown",
   "id": "5a5f3b0f",
   "metadata": {},
   "source": [
    "### Interpretation with that p-value included:\n",
    "\n",
    "* The **interaction coefficient (–0.000119)** has a **p-value of 0.095**, which is **slightly above** the common 0.05 cutoff.\n",
    "  This means the interaction between TV and Radio is **not statistically significant at the 5% level**, though it shows a **weak trend** toward diminishing joint effects.\n",
    "\n",
    "**In simple terms:**\n",
    "\n",
    "* The data hint that combining TV and Radio ads may slightly reduce each other’s marginal impact,\n",
    "  but this pattern is **not strong enough** to conclude that a real interaction exists.\n",
    "\n",
    "**Conclusion:**\n",
    "You can mention the negative interaction as an *interesting possibility*, but from a statistical standpoint,\n",
    "the safer interpretation is that **TV and Radio effects are mostly additive** — each channel contributes to sales independently."
   ]
  },
  {
   "cell_type": "markdown",
   "id": "87746cdc",
   "metadata": {},
   "source": [
    "## 6. Normality Check: Q–Q Plot of Residuals"
   ]
  },
  {
   "cell_type": "code",
   "execution_count": 9,
   "id": "12ba063b",
   "metadata": {},
   "outputs": [
    {
     "data": {
      "image/png": "[encoded data removed]",
      "text/plain": [
       "<Figure size 640x480 with 1 Axes>"
      ]
     },
     "metadata": {},
     "output_type": "display_data"
    }
   ],
   "source": [
    "residuals = model_full.resid\n",
    "sm.qqplot(residuals, line='45', fit=True)\n",
    "plt.title(\"Q–Q Plot of Residuals (Full Model)\")\n",
    "plt.xlabel(\"Theoretical Quantiles\")\n",
    "plt.ylabel(\"Sample Quantiles\")\n",
    "plt.show()"
   ]
  },
  {
   "cell_type": "markdown",
   "id": "258341fc",
   "metadata": {},
   "source": [
    "### 6.1 Optional: Histogram of Residuals"
   ]
  },
  {
   "cell_type": "code",
   "execution_count": 10,
   "id": "0f6559b1",
   "metadata": {},
   "outputs": [
    {
     "data": {
      "image/png": "[encoded data removed]",
      "text/plain": [
       "<Figure size 640x480 with 1 Axes>"
      ]
     },
     "metadata": {},
     "output_type": "display_data"
    }
   ],
   "source": [
    "plt.hist(residuals, bins=10, edgecolor='black')\n",
    "plt.title(\"Histogram of Residuals (Full Model)\")\n",
    "plt.xlabel(\"Residual\")\n",
    "plt.ylabel(\"Frequency\")\n",
    "plt.show()"
   ]
  }
 ],
 "metadata": {
  "kernelspec": {
   "display_name": "Python 3",
   "language": "python",
   "name": "python3"
  },
  "language_info": {
   "codemirror_mode": {
    "name": "ipython",
    "version": 3
   },
   "file_extension": ".py",
   "mimetype": "text/x-python",
   "name": "python",
   "nbconvert_exporter": "python",
   "pygments_lexer": "ipython3",
   "version": "3.12.1"
  }
 },
 "nbformat": 4,
 "nbformat_minor": 5
}
