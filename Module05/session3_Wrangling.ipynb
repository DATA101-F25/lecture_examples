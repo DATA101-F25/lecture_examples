{
 "cells": [
  {
   "cell_type": "markdown",
   "id": "0b6bff6c",
   "metadata": {},
   "source": [
    "# Data 101 — Module 5, Session 3\n",
    "## Wrangling & Summarizing Data (Demo Notebook)\n",
    "\n",
    "This notebook mirrors the Session 3 slides:\n",
    "- Import raw data\n",
    "- Inspect and detect issues\n",
    "- Handle missing values\n",
    "- Fix data types\n",
    "- Remove duplicates and inconsistencies\n",
    "- Detect potential outliers\n",
    "- Create derived columns\n",
    "- Aggregate, group, and pivot\n",
    "- Export cleaned data"
   ]
  },
  {
   "cell_type": "markdown",
   "id": "fbbaf1f5",
   "metadata": {},
   "source": [
    "## Import and Read Raw Data"
   ]
  },
  {
   "cell_type": "code",
   "execution_count": 1,
   "id": "7d27d0be",
   "metadata": {},
   "outputs": [
    {
     "name": "stdout",
     "output_type": "stream",
     "text": [
      "Shape: (42, 6)\n"
     ]
    }
   ],
   "source": [
    "import pandas as pd, numpy as np\n",
    "df = pd.read_csv(\"./data/students_messy.csv\")\n",
    "print(\"Shape:\", df.shape)"
   ]
  },
  {
   "cell_type": "code",
   "execution_count": 2,
   "id": "ad007cda",
   "metadata": {},
   "outputs": [
    {
     "data": {
      "text/html": [
       "<div>\n",
       "<style scoped>\n",
       "    .dataframe tbody tr th:only-of-type {\n",
       "        vertical-align: middle;\n",
       "    }\n",
       "\n",
       "    .dataframe tbody tr th {\n",
       "        vertical-align: top;\n",
       "    }\n",
       "\n",
       "    .dataframe thead th {\n",
       "        text-align: right;\n",
       "    }\n",
       "</style>\n",
       "<table border=\"1\" class=\"dataframe\">\n",
       "  <thead>\n",
       "    <tr style=\"text-align: right;\">\n",
       "      <th></th>\n",
       "      <th>Name</th>\n",
       "      <th>Gender</th>\n",
       "      <th>Major</th>\n",
       "      <th>GPA</th>\n",
       "      <th>Hours_Studied</th>\n",
       "      <th>ExamDate</th>\n",
       "    </tr>\n",
       "  </thead>\n",
       "  <tbody>\n",
       "    <tr>\n",
       "      <th>0</th>\n",
       "      <td>Alex</td>\n",
       "      <td>F</td>\n",
       "      <td>Mathematics</td>\n",
       "      <td>3.30</td>\n",
       "      <td>NaN</td>\n",
       "      <td>09/15/2025</td>\n",
       "    </tr>\n",
       "    <tr>\n",
       "      <th>1</th>\n",
       "      <td>Sam</td>\n",
       "      <td>M</td>\n",
       "      <td>Mathematics</td>\n",
       "      <td>2.66</td>\n",
       "      <td>13.0</td>\n",
       "      <td>NaN</td>\n",
       "    </tr>\n",
       "    <tr>\n",
       "      <th>2</th>\n",
       "      <td>Casey</td>\n",
       "      <td>F</td>\n",
       "      <td>MATH</td>\n",
       "      <td>3.15</td>\n",
       "      <td>13.0</td>\n",
       "      <td>09/15/2025</td>\n",
       "    </tr>\n",
       "    <tr>\n",
       "      <th>3</th>\n",
       "      <td>Sam</td>\n",
       "      <td>F</td>\n",
       "      <td>cs</td>\n",
       "      <td>NaN</td>\n",
       "      <td>8.0</td>\n",
       "      <td>2025-09-08</td>\n",
       "    </tr>\n",
       "    <tr>\n",
       "      <th>4</th>\n",
       "      <td>Casey</td>\n",
       "      <td>M</td>\n",
       "      <td>Math</td>\n",
       "      <td>3.80</td>\n",
       "      <td>7.0</td>\n",
       "      <td>2025-09-06</td>\n",
       "    </tr>\n",
       "  </tbody>\n",
       "</table>\n",
       "</div>"
      ],
      "text/plain": [
       "    Name Gender        Major   GPA  Hours_Studied    ExamDate\n",
       "0   Alex      F  Mathematics  3.30            NaN  09/15/2025\n",
       "1    Sam      M  Mathematics  2.66           13.0         NaN\n",
       "2  Casey      F         MATH  3.15           13.0  09/15/2025\n",
       "3    Sam      F          cs    NaN            8.0  2025-09-08\n",
       "4  Casey      M         Math  3.80            7.0  2025-09-06"
      ]
     },
     "metadata": {},
     "output_type": "display_data"
    }
   ],
   "source": [
    "display(df.head())"
   ]
  },
  {
   "cell_type": "code",
   "execution_count": 3,
   "id": "238a429e",
   "metadata": {},
   "outputs": [
    {
     "name": "stdout",
     "output_type": "stream",
     "text": [
      "\n",
      "Info:\n",
      "<class 'pandas.core.frame.DataFrame'>\n",
      "RangeIndex: 42 entries, 0 to 41\n",
      "Data columns (total 6 columns):\n",
      " #   Column         Non-Null Count  Dtype  \n",
      "---  ------         --------------  -----  \n",
      " 0   Name           42 non-null     object \n",
      " 1   Gender         42 non-null     object \n",
      " 2   Major          42 non-null     object \n",
      " 3   GPA            28 non-null     float64\n",
      " 4   Hours_Studied  29 non-null     float64\n",
      " 5   ExamDate       38 non-null     object \n",
      "dtypes: float64(2), object(4)\n",
      "memory usage: 2.1+ KB\n"
     ]
    },
    {
     "data": {
      "text/plain": [
       "None"
      ]
     },
     "metadata": {},
     "output_type": "display_data"
    }
   ],
   "source": [
    "print(\"\\nInfo:\")\n",
    "display(df.info())"
   ]
  },
  {
   "cell_type": "markdown",
   "id": "e002f07d",
   "metadata": {},
   "source": [
    "## Inspect Missingness and Basic Profiling"
   ]
  },
  {
   "cell_type": "code",
   "execution_count": 6,
   "id": "5abeb153",
   "metadata": {},
   "outputs": [
    {
     "data": {
      "text/html": [
       "<div>\n",
       "<style scoped>\n",
       "    .dataframe tbody tr th:only-of-type {\n",
       "        vertical-align: middle;\n",
       "    }\n",
       "\n",
       "    .dataframe tbody tr th {\n",
       "        vertical-align: top;\n",
       "    }\n",
       "\n",
       "    .dataframe thead th {\n",
       "        text-align: right;\n",
       "    }\n",
       "</style>\n",
       "<table border=\"1\" class=\"dataframe\">\n",
       "  <thead>\n",
       "    <tr style=\"text-align: right;\">\n",
       "      <th></th>\n",
       "      <th>Name</th>\n",
       "      <th>Gender</th>\n",
       "      <th>Major</th>\n",
       "      <th>GPA</th>\n",
       "      <th>Hours_Studied</th>\n",
       "      <th>ExamDate</th>\n",
       "    </tr>\n",
       "  </thead>\n",
       "  <tbody>\n",
       "    <tr>\n",
       "      <th>0</th>\n",
       "      <td>False</td>\n",
       "      <td>False</td>\n",
       "      <td>False</td>\n",
       "      <td>False</td>\n",
       "      <td>True</td>\n",
       "      <td>False</td>\n",
       "    </tr>\n",
       "    <tr>\n",
       "      <th>1</th>\n",
       "      <td>False</td>\n",
       "      <td>False</td>\n",
       "      <td>False</td>\n",
       "      <td>False</td>\n",
       "      <td>False</td>\n",
       "      <td>True</td>\n",
       "    </tr>\n",
       "    <tr>\n",
       "      <th>2</th>\n",
       "      <td>False</td>\n",
       "      <td>False</td>\n",
       "      <td>False</td>\n",
       "      <td>False</td>\n",
       "      <td>False</td>\n",
       "      <td>False</td>\n",
       "    </tr>\n",
       "    <tr>\n",
       "      <th>3</th>\n",
       "      <td>False</td>\n",
       "      <td>False</td>\n",
       "      <td>False</td>\n",
       "      <td>True</td>\n",
       "      <td>False</td>\n",
       "      <td>False</td>\n",
       "    </tr>\n",
       "    <tr>\n",
       "      <th>4</th>\n",
       "      <td>False</td>\n",
       "      <td>False</td>\n",
       "      <td>False</td>\n",
       "      <td>False</td>\n",
       "      <td>False</td>\n",
       "      <td>False</td>\n",
       "    </tr>\n",
       "  </tbody>\n",
       "</table>\n",
       "</div>"
      ],
      "text/plain": [
       "    Name  Gender  Major    GPA  Hours_Studied  ExamDate\n",
       "0  False   False  False  False           True     False\n",
       "1  False   False  False  False          False      True\n",
       "2  False   False  False  False          False     False\n",
       "3  False   False  False   True          False     False\n",
       "4  False   False  False  False          False     False"
      ]
     },
     "execution_count": 6,
     "metadata": {},
     "output_type": "execute_result"
    }
   ],
   "source": [
    "df.isnull().head()"
   ]
  },
  {
   "cell_type": "code",
   "execution_count": 4,
   "id": "1c95315e",
   "metadata": {},
   "outputs": [
    {
     "name": "stdout",
     "output_type": "stream",
     "text": [
      "Missing values per column:\n",
      " Name              0\n",
      "Gender            0\n",
      "Major             0\n",
      "GPA              14\n",
      "Hours_Studied    13\n",
      "ExamDate          4\n",
      "dtype: int64\n"
     ]
    }
   ],
   "source": [
    "missing_counts = df.isnull().sum()\n",
    "print(\"Missing values per column:\\n\", missing_counts)"
   ]
  },
  {
   "cell_type": "code",
   "execution_count": 8,
   "id": "759dee9d",
   "metadata": {},
   "outputs": [
    {
     "data": {
      "text/plain": [
       "<Axes: >"
      ]
     },
     "execution_count": 8,
     "metadata": {},
     "output_type": "execute_result"
    },
    {
     "data": {
      "image/png": "[encoded data removed]",
      "text/plain": [
       "<Figure size 640x480 with 1 Axes>"
      ]
     },
     "metadata": {},
     "output_type": "display_data"
    }
   ],
   "source": [
    "df.isnull().sum().plot.bar()"
   ]
  },
  {
   "cell_type": "code",
   "execution_count": 9,
   "id": "37434313",
   "metadata": {},
   "outputs": [
    {
     "name": "stdout",
     "output_type": "stream",
     "text": [
      "\n",
      "Describe numeric columns:\n"
     ]
    },
    {
     "data": {
      "text/html": [
       "<div>\n",
       "<style scoped>\n",
       "    .dataframe tbody tr th:only-of-type {\n",
       "        vertical-align: middle;\n",
       "    }\n",
       "\n",
       "    .dataframe tbody tr th {\n",
       "        vertical-align: top;\n",
       "    }\n",
       "\n",
       "    .dataframe thead th {\n",
       "        text-align: right;\n",
       "    }\n",
       "</style>\n",
       "<table border=\"1\" class=\"dataframe\">\n",
       "  <thead>\n",
       "    <tr style=\"text-align: right;\">\n",
       "      <th></th>\n",
       "      <th>GPA</th>\n",
       "      <th>Hours_Studied</th>\n",
       "    </tr>\n",
       "  </thead>\n",
       "  <tbody>\n",
       "    <tr>\n",
       "      <th>count</th>\n",
       "      <td>28.000000</td>\n",
       "      <td>29.000000</td>\n",
       "    </tr>\n",
       "    <tr>\n",
       "      <th>mean</th>\n",
       "      <td>3.056071</td>\n",
       "      <td>7.827586</td>\n",
       "    </tr>\n",
       "    <tr>\n",
       "      <th>std</th>\n",
       "      <td>0.386450</td>\n",
       "      <td>3.263094</td>\n",
       "    </tr>\n",
       "    <tr>\n",
       "      <th>min</th>\n",
       "      <td>2.490000</td>\n",
       "      <td>1.000000</td>\n",
       "    </tr>\n",
       "    <tr>\n",
       "      <th>25%</th>\n",
       "      <td>2.815000</td>\n",
       "      <td>6.000000</td>\n",
       "    </tr>\n",
       "    <tr>\n",
       "      <th>50%</th>\n",
       "      <td>2.950000</td>\n",
       "      <td>8.000000</td>\n",
       "    </tr>\n",
       "    <tr>\n",
       "      <th>75%</th>\n",
       "      <td>3.185000</td>\n",
       "      <td>10.000000</td>\n",
       "    </tr>\n",
       "    <tr>\n",
       "      <th>max</th>\n",
       "      <td>3.800000</td>\n",
       "      <td>13.000000</td>\n",
       "    </tr>\n",
       "  </tbody>\n",
       "</table>\n",
       "</div>"
      ],
      "text/plain": [
       "             GPA  Hours_Studied\n",
       "count  28.000000      29.000000\n",
       "mean    3.056071       7.827586\n",
       "std     0.386450       3.263094\n",
       "min     2.490000       1.000000\n",
       "25%     2.815000       6.000000\n",
       "50%     2.950000       8.000000\n",
       "75%     3.185000      10.000000\n",
       "max     3.800000      13.000000"
      ]
     },
     "metadata": {},
     "output_type": "display_data"
    }
   ],
   "source": [
    "print(\"\\nDescribe numeric columns:\")\n",
    "display(df.describe())"
   ]
  },
  {
   "cell_type": "markdown",
   "id": "05f3c647",
   "metadata": {},
   "source": [
    "## Handle Missing Values"
   ]
  },
  {
   "cell_type": "code",
   "execution_count": 12,
   "id": "a9602c0d",
   "metadata": {},
   "outputs": [
    {
     "name": "stdout",
     "output_type": "stream",
     "text": [
      "Post-imputation missingness:\n",
      "Name              0\n",
      "Gender            0\n",
      "Major             0\n",
      "GPA               0\n",
      "Hours_Studied    13\n",
      "ExamDate          4\n",
      "dtype: int64\n"
     ]
    },
    {
     "data": {
      "text/html": [
       "<div>\n",
       "<style scoped>\n",
       "    .dataframe tbody tr th:only-of-type {\n",
       "        vertical-align: middle;\n",
       "    }\n",
       "\n",
       "    .dataframe tbody tr th {\n",
       "        vertical-align: top;\n",
       "    }\n",
       "\n",
       "    .dataframe thead th {\n",
       "        text-align: right;\n",
       "    }\n",
       "</style>\n",
       "<table border=\"1\" class=\"dataframe\">\n",
       "  <thead>\n",
       "    <tr style=\"text-align: right;\">\n",
       "      <th></th>\n",
       "      <th>Name</th>\n",
       "      <th>Gender</th>\n",
       "      <th>Major</th>\n",
       "      <th>GPA</th>\n",
       "      <th>Hours_Studied</th>\n",
       "      <th>ExamDate</th>\n",
       "    </tr>\n",
       "  </thead>\n",
       "  <tbody>\n",
       "    <tr>\n",
       "      <th>0</th>\n",
       "      <td>Alex</td>\n",
       "      <td>F</td>\n",
       "      <td>Math</td>\n",
       "      <td>3.300000</td>\n",
       "      <td>NaN</td>\n",
       "      <td>09/15/2025</td>\n",
       "    </tr>\n",
       "    <tr>\n",
       "      <th>1</th>\n",
       "      <td>Sam</td>\n",
       "      <td>M</td>\n",
       "      <td>Math</td>\n",
       "      <td>2.660000</td>\n",
       "      <td>13.0</td>\n",
       "      <td>NaN</td>\n",
       "    </tr>\n",
       "    <tr>\n",
       "      <th>2</th>\n",
       "      <td>Casey</td>\n",
       "      <td>F</td>\n",
       "      <td>Math</td>\n",
       "      <td>3.150000</td>\n",
       "      <td>13.0</td>\n",
       "      <td>09/15/2025</td>\n",
       "    </tr>\n",
       "    <tr>\n",
       "      <th>3</th>\n",
       "      <td>Sam</td>\n",
       "      <td>F</td>\n",
       "      <td>Cs</td>\n",
       "      <td>3.056071</td>\n",
       "      <td>8.0</td>\n",
       "      <td>2025-09-08</td>\n",
       "    </tr>\n",
       "    <tr>\n",
       "      <th>4</th>\n",
       "      <td>Casey</td>\n",
       "      <td>M</td>\n",
       "      <td>Math</td>\n",
       "      <td>3.800000</td>\n",
       "      <td>7.0</td>\n",
       "      <td>2025-09-06</td>\n",
       "    </tr>\n",
       "  </tbody>\n",
       "</table>\n",
       "</div>"
      ],
      "text/plain": [
       "    Name Gender Major       GPA  Hours_Studied    ExamDate\n",
       "0   Alex      F  Math  3.300000            NaN  09/15/2025\n",
       "1    Sam      M  Math  2.660000           13.0         NaN\n",
       "2  Casey      F  Math  3.150000           13.0  09/15/2025\n",
       "3    Sam      F    Cs  3.056071            8.0  2025-09-08\n",
       "4  Casey      M  Math  3.800000            7.0  2025-09-06"
      ]
     },
     "metadata": {},
     "output_type": "display_data"
    }
   ],
   "source": [
    "df[\"GPA\"] = pd.to_numeric(df[\"GPA\"].astype(str).str.strip(), errors=\"coerce\")\n",
    "df[\"GPA\"] = df[\"GPA\"].fillna(df[\"GPA\"].mean())\n",
    "print(\"Post-imputation missingness:\")\n",
    "print(df.isnull().sum())\n",
    "display(df.head())"
   ]
  },
  {
   "cell_type": "code",
   "execution_count": 13,
   "id": "0c90dd26",
   "metadata": {},
   "outputs": [
    {
     "name": "stdout",
     "output_type": "stream",
     "text": [
      "Post-imputation missingness:\n",
      "Name             0\n",
      "Gender           0\n",
      "Major            0\n",
      "GPA              0\n",
      "Hours_Studied    0\n",
      "ExamDate         4\n",
      "dtype: int64\n"
     ]
    },
    {
     "data": {
      "text/html": [
       "<div>\n",
       "<style scoped>\n",
       "    .dataframe tbody tr th:only-of-type {\n",
       "        vertical-align: middle;\n",
       "    }\n",
       "\n",
       "    .dataframe tbody tr th {\n",
       "        vertical-align: top;\n",
       "    }\n",
       "\n",
       "    .dataframe thead th {\n",
       "        text-align: right;\n",
       "    }\n",
       "</style>\n",
       "<table border=\"1\" class=\"dataframe\">\n",
       "  <thead>\n",
       "    <tr style=\"text-align: right;\">\n",
       "      <th></th>\n",
       "      <th>Name</th>\n",
       "      <th>Gender</th>\n",
       "      <th>Major</th>\n",
       "      <th>GPA</th>\n",
       "      <th>Hours_Studied</th>\n",
       "      <th>ExamDate</th>\n",
       "    </tr>\n",
       "  </thead>\n",
       "  <tbody>\n",
       "    <tr>\n",
       "      <th>0</th>\n",
       "      <td>Alex</td>\n",
       "      <td>F</td>\n",
       "      <td>Math</td>\n",
       "      <td>3.300000</td>\n",
       "      <td>8.0</td>\n",
       "      <td>09/15/2025</td>\n",
       "    </tr>\n",
       "    <tr>\n",
       "      <th>1</th>\n",
       "      <td>Sam</td>\n",
       "      <td>M</td>\n",
       "      <td>Math</td>\n",
       "      <td>2.660000</td>\n",
       "      <td>13.0</td>\n",
       "      <td>NaN</td>\n",
       "    </tr>\n",
       "    <tr>\n",
       "      <th>2</th>\n",
       "      <td>Casey</td>\n",
       "      <td>F</td>\n",
       "      <td>Math</td>\n",
       "      <td>3.150000</td>\n",
       "      <td>13.0</td>\n",
       "      <td>09/15/2025</td>\n",
       "    </tr>\n",
       "    <tr>\n",
       "      <th>3</th>\n",
       "      <td>Sam</td>\n",
       "      <td>F</td>\n",
       "      <td>Cs</td>\n",
       "      <td>3.056071</td>\n",
       "      <td>8.0</td>\n",
       "      <td>2025-09-08</td>\n",
       "    </tr>\n",
       "    <tr>\n",
       "      <th>4</th>\n",
       "      <td>Casey</td>\n",
       "      <td>M</td>\n",
       "      <td>Math</td>\n",
       "      <td>3.800000</td>\n",
       "      <td>7.0</td>\n",
       "      <td>2025-09-06</td>\n",
       "    </tr>\n",
       "  </tbody>\n",
       "</table>\n",
       "</div>"
      ],
      "text/plain": [
       "    Name Gender Major       GPA  Hours_Studied    ExamDate\n",
       "0   Alex      F  Math  3.300000            8.0  09/15/2025\n",
       "1    Sam      M  Math  2.660000           13.0         NaN\n",
       "2  Casey      F  Math  3.150000           13.0  09/15/2025\n",
       "3    Sam      F    Cs  3.056071            8.0  2025-09-08\n",
       "4  Casey      M  Math  3.800000            7.0  2025-09-06"
      ]
     },
     "metadata": {},
     "output_type": "display_data"
    }
   ],
   "source": [
    "df[\"Hours_Studied\"] = pd.to_numeric(df[\"Hours_Studied\"], errors=\"coerce\")\n",
    "df[\"Hours_Studied\"] = df[\"Hours_Studied\"].fillna(df[\"Hours_Studied\"].median())\n",
    "print(\"Post-imputation missingness:\")\n",
    "print(df.isnull().sum())\n",
    "display(df.head())"
   ]
  },
  {
   "cell_type": "code",
   "execution_count": 14,
   "id": "a09a568e",
   "metadata": {},
   "outputs": [
    {
     "name": "stdout",
     "output_type": "stream",
     "text": [
      "Name              0\n",
      "Gender            0\n",
      "Major             0\n",
      "GPA               0\n",
      "Hours_Studied     0\n",
      "ExamDate         12\n",
      "dtype: int64\n"
     ]
    },
    {
     "data": {
      "text/html": [
       "<div>\n",
       "<style scoped>\n",
       "    .dataframe tbody tr th:only-of-type {\n",
       "        vertical-align: middle;\n",
       "    }\n",
       "\n",
       "    .dataframe tbody tr th {\n",
       "        vertical-align: top;\n",
       "    }\n",
       "\n",
       "    .dataframe thead th {\n",
       "        text-align: right;\n",
       "    }\n",
       "</style>\n",
       "<table border=\"1\" class=\"dataframe\">\n",
       "  <thead>\n",
       "    <tr style=\"text-align: right;\">\n",
       "      <th></th>\n",
       "      <th>Name</th>\n",
       "      <th>Gender</th>\n",
       "      <th>Major</th>\n",
       "      <th>GPA</th>\n",
       "      <th>Hours_Studied</th>\n",
       "      <th>ExamDate</th>\n",
       "    </tr>\n",
       "  </thead>\n",
       "  <tbody>\n",
       "    <tr>\n",
       "      <th>0</th>\n",
       "      <td>Alex</td>\n",
       "      <td>F</td>\n",
       "      <td>Math</td>\n",
       "      <td>3.300000</td>\n",
       "      <td>8.0</td>\n",
       "      <td>NaT</td>\n",
       "    </tr>\n",
       "    <tr>\n",
       "      <th>1</th>\n",
       "      <td>Sam</td>\n",
       "      <td>M</td>\n",
       "      <td>Math</td>\n",
       "      <td>2.660000</td>\n",
       "      <td>13.0</td>\n",
       "      <td>NaT</td>\n",
       "    </tr>\n",
       "    <tr>\n",
       "      <th>2</th>\n",
       "      <td>Casey</td>\n",
       "      <td>F</td>\n",
       "      <td>Math</td>\n",
       "      <td>3.150000</td>\n",
       "      <td>13.0</td>\n",
       "      <td>NaT</td>\n",
       "    </tr>\n",
       "    <tr>\n",
       "      <th>3</th>\n",
       "      <td>Sam</td>\n",
       "      <td>F</td>\n",
       "      <td>Cs</td>\n",
       "      <td>3.056071</td>\n",
       "      <td>8.0</td>\n",
       "      <td>2025-09-08</td>\n",
       "    </tr>\n",
       "    <tr>\n",
       "      <th>4</th>\n",
       "      <td>Casey</td>\n",
       "      <td>M</td>\n",
       "      <td>Math</td>\n",
       "      <td>3.800000</td>\n",
       "      <td>7.0</td>\n",
       "      <td>2025-09-06</td>\n",
       "    </tr>\n",
       "  </tbody>\n",
       "</table>\n",
       "</div>"
      ],
      "text/plain": [
       "    Name Gender Major       GPA  Hours_Studied   ExamDate\n",
       "0   Alex      F  Math  3.300000            8.0        NaT\n",
       "1    Sam      M  Math  2.660000           13.0        NaT\n",
       "2  Casey      F  Math  3.150000           13.0        NaT\n",
       "3    Sam      F    Cs  3.056071            8.0 2025-09-08\n",
       "4  Casey      M  Math  3.800000            7.0 2025-09-06"
      ]
     },
     "metadata": {},
     "output_type": "display_data"
    }
   ],
   "source": [
    "df[\"ExamDate\"] = pd.to_datetime(df[\"ExamDate\"], format=\"%Y-%m-%d\", errors=\"coerce\")\n",
    "print(df.isnull().sum())\n",
    "display(df.head())"
   ]
  },
  {
   "cell_type": "code",
   "execution_count": 15,
   "id": "a821baf0",
   "metadata": {},
   "outputs": [
    {
     "name": "stdout",
     "output_type": "stream",
     "text": [
      "Name             0\n",
      "Gender           0\n",
      "Major            0\n",
      "GPA              0\n",
      "Hours_Studied    0\n",
      "ExamDate         0\n",
      "dtype: int64\n"
     ]
    },
    {
     "data": {
      "text/html": [
       "<div>\n",
       "<style scoped>\n",
       "    .dataframe tbody tr th:only-of-type {\n",
       "        vertical-align: middle;\n",
       "    }\n",
       "\n",
       "    .dataframe tbody tr th {\n",
       "        vertical-align: top;\n",
       "    }\n",
       "\n",
       "    .dataframe thead th {\n",
       "        text-align: right;\n",
       "    }\n",
       "</style>\n",
       "<table border=\"1\" class=\"dataframe\">\n",
       "  <thead>\n",
       "    <tr style=\"text-align: right;\">\n",
       "      <th></th>\n",
       "      <th>Name</th>\n",
       "      <th>Gender</th>\n",
       "      <th>Major</th>\n",
       "      <th>GPA</th>\n",
       "      <th>Hours_Studied</th>\n",
       "      <th>ExamDate</th>\n",
       "    </tr>\n",
       "  </thead>\n",
       "  <tbody>\n",
       "    <tr>\n",
       "      <th>3</th>\n",
       "      <td>Sam</td>\n",
       "      <td>F</td>\n",
       "      <td>Cs</td>\n",
       "      <td>3.056071</td>\n",
       "      <td>8.0</td>\n",
       "      <td>2025-09-08</td>\n",
       "    </tr>\n",
       "    <tr>\n",
       "      <th>4</th>\n",
       "      <td>Casey</td>\n",
       "      <td>M</td>\n",
       "      <td>Math</td>\n",
       "      <td>3.800000</td>\n",
       "      <td>7.0</td>\n",
       "      <td>2025-09-06</td>\n",
       "    </tr>\n",
       "    <tr>\n",
       "      <th>8</th>\n",
       "      <td>Casey</td>\n",
       "      <td>M</td>\n",
       "      <td>Math</td>\n",
       "      <td>2.890000</td>\n",
       "      <td>6.0</td>\n",
       "      <td>2025-09-05</td>\n",
       "    </tr>\n",
       "    <tr>\n",
       "      <th>9</th>\n",
       "      <td>Alex</td>\n",
       "      <td>M</td>\n",
       "      <td>Math</td>\n",
       "      <td>3.230000</td>\n",
       "      <td>13.0</td>\n",
       "      <td>2025-09-06</td>\n",
       "    </tr>\n",
       "    <tr>\n",
       "      <th>10</th>\n",
       "      <td>Avery</td>\n",
       "      <td>F</td>\n",
       "      <td>Physics</td>\n",
       "      <td>2.490000</td>\n",
       "      <td>6.0</td>\n",
       "      <td>2025-09-04</td>\n",
       "    </tr>\n",
       "  </tbody>\n",
       "</table>\n",
       "</div>"
      ],
      "text/plain": [
       "     Name Gender    Major       GPA  Hours_Studied   ExamDate\n",
       "3     Sam      F       Cs  3.056071            8.0 2025-09-08\n",
       "4   Casey      M     Math  3.800000            7.0 2025-09-06\n",
       "8   Casey      M     Math  2.890000            6.0 2025-09-05\n",
       "9    Alex      M     Math  3.230000           13.0 2025-09-06\n",
       "10  Avery      F  Physics  2.490000            6.0 2025-09-04"
      ]
     },
     "metadata": {},
     "output_type": "display_data"
    }
   ],
   "source": [
    "df = df.dropna(subset=[\"ExamDate\"])\n",
    "print(df.isnull().sum())\n",
    "display(df.head())"
   ]
  },
  {
   "cell_type": "code",
   "execution_count": 16,
   "id": "aa30498c",
   "metadata": {},
   "outputs": [
    {
     "name": "stdout",
     "output_type": "stream",
     "text": [
      "   Score\n",
      "0   10.0\n",
      "1    NaN\n",
      "2    NaN\n",
      "3   20.0\n",
      "4    NaN\n",
      "5   30.0\n"
     ]
    }
   ],
   "source": [
    "dft = pd.DataFrame({\"Score\": [10, None, None, 20, None, 30]})\n",
    "print(dft)"
   ]
  },
  {
   "cell_type": "code",
   "execution_count": 17,
   "id": "82d5b0df",
   "metadata": {},
   "outputs": [
    {
     "name": "stdout",
     "output_type": "stream",
     "text": [
      "   Score\n",
      "0   10.0\n",
      "1   10.0\n",
      "2   10.0\n",
      "3   20.0\n",
      "4   20.0\n",
      "5   30.0\n"
     ]
    }
   ],
   "source": [
    "print(dft.ffill())"
   ]
  },
  {
   "cell_type": "code",
   "execution_count": 18,
   "id": "86fb3aa1",
   "metadata": {},
   "outputs": [
    {
     "name": "stdout",
     "output_type": "stream",
     "text": [
      "   Score\n",
      "0   10.0\n",
      "1   20.0\n",
      "2   20.0\n",
      "3   20.0\n",
      "4   30.0\n",
      "5   30.0\n"
     ]
    }
   ],
   "source": [
    "print(dft.bfill())"
   ]
  },
  {
   "cell_type": "markdown",
   "id": "6675ecf0",
   "metadata": {},
   "source": [
    "## Fix Types and Standardize Categories"
   ]
  },
  {
   "cell_type": "code",
   "execution_count": 10,
   "id": "98aeb68b",
   "metadata": {},
   "outputs": [
    {
     "name": "stdout",
     "output_type": "stream",
     "text": [
      "\n",
      "Unique values in 'Major' (notice inconsistencies):\n",
      "[' MATH', 'CS', 'Computer Science', 'Cs', 'Math', 'Mathematics', 'PHYS', 'Physics', 'cs ', 'physics']\n"
     ]
    }
   ],
   "source": [
    "print(\"\\nUnique values in 'Major' (notice inconsistencies):\")\n",
    "print(sorted(df[\"Major\"].astype(str).unique()))"
   ]
  },
  {
   "cell_type": "code",
   "execution_count": 11,
   "id": "f65fb3e8",
   "metadata": {},
   "outputs": [
    {
     "data": {
      "text/html": [
       "<div>\n",
       "<style scoped>\n",
       "    .dataframe tbody tr th:only-of-type {\n",
       "        vertical-align: middle;\n",
       "    }\n",
       "\n",
       "    .dataframe tbody tr th {\n",
       "        vertical-align: top;\n",
       "    }\n",
       "\n",
       "    .dataframe thead th {\n",
       "        text-align: right;\n",
       "    }\n",
       "</style>\n",
       "<table border=\"1\" class=\"dataframe\">\n",
       "  <thead>\n",
       "    <tr style=\"text-align: right;\">\n",
       "      <th></th>\n",
       "      <th>Name</th>\n",
       "      <th>Gender</th>\n",
       "      <th>Major</th>\n",
       "      <th>GPA</th>\n",
       "      <th>Hours_Studied</th>\n",
       "      <th>ExamDate</th>\n",
       "    </tr>\n",
       "  </thead>\n",
       "  <tbody>\n",
       "    <tr>\n",
       "      <th>30</th>\n",
       "      <td>Sam</td>\n",
       "      <td>F</td>\n",
       "      <td>Physics</td>\n",
       "      <td>NaN</td>\n",
       "      <td>4.0</td>\n",
       "      <td>2025-09-02</td>\n",
       "    </tr>\n",
       "    <tr>\n",
       "      <th>36</th>\n",
       "      <td>Jordan</td>\n",
       "      <td>M</td>\n",
       "      <td>Physics</td>\n",
       "      <td>3.73</td>\n",
       "      <td>5.0</td>\n",
       "      <td>2025-09-06</td>\n",
       "    </tr>\n",
       "    <tr>\n",
       "      <th>27</th>\n",
       "      <td>Alex</td>\n",
       "      <td>M</td>\n",
       "      <td>Cs</td>\n",
       "      <td>NaN</td>\n",
       "      <td>9.0</td>\n",
       "      <td>2025-09-02</td>\n",
       "    </tr>\n",
       "    <tr>\n",
       "      <th>4</th>\n",
       "      <td>Casey</td>\n",
       "      <td>M</td>\n",
       "      <td>Math</td>\n",
       "      <td>3.80</td>\n",
       "      <td>7.0</td>\n",
       "      <td>2025-09-06</td>\n",
       "    </tr>\n",
       "    <tr>\n",
       "      <th>10</th>\n",
       "      <td>Avery</td>\n",
       "      <td>F</td>\n",
       "      <td>Physics</td>\n",
       "      <td>2.49</td>\n",
       "      <td>6.0</td>\n",
       "      <td>2025-09-04</td>\n",
       "    </tr>\n",
       "  </tbody>\n",
       "</table>\n",
       "</div>"
      ],
      "text/plain": [
       "      Name Gender    Major   GPA  Hours_Studied    ExamDate\n",
       "30     Sam      F  Physics   NaN            4.0  2025-09-02\n",
       "36  Jordan      M  Physics  3.73            5.0  2025-09-06\n",
       "27    Alex      M       Cs   NaN            9.0  2025-09-02\n",
       "4    Casey      M     Math  3.80            7.0  2025-09-06\n",
       "10   Avery      F  Physics  2.49            6.0  2025-09-04"
      ]
     },
     "metadata": {},
     "output_type": "display_data"
    },
    {
     "name": "stdout",
     "output_type": "stream",
     "text": [
      "Name               object\n",
      "Gender           category\n",
      "Major            category\n",
      "GPA               float64\n",
      "Hours_Studied     float64\n",
      "ExamDate           object\n",
      "dtype: object\n"
     ]
    }
   ],
   "source": [
    "df[\"Major\"] = (df[\"Major\"].astype(str).str.strip().str.lower()\n",
    "    .replace({\"computer science\":\"cs\",\"mathematics\":\"math\",\"phys\":\"physics\"})\n",
    "    .str.replace(r\"\\s+\", \" \", regex=True))\n",
    "df[\"Major\"] = df[\"Major\"].map(lambda x: x.title())\n",
    "df[\"Major\"] = df[\"Major\"].astype(\"category\")\n",
    "df[\"Gender\"] = df[\"Gender\"].astype(\"category\")\n",
    "display(df.sample(5, random_state=0))\n",
    "print(df.dtypes)"
   ]
  },
  {
   "cell_type": "markdown",
   "id": "2ed425e6",
   "metadata": {},
   "source": [
    "## Remove Duplicates"
   ]
  },
  {
   "cell_type": "code",
   "execution_count": 19,
   "id": "3c937447",
   "metadata": {},
   "outputs": [
    {
     "name": "stdout",
     "output_type": "stream",
     "text": [
      "Duplicate rows before: 1\n",
      "Duplicate rows after: 0\n",
      "New shape: (29, 6)\n"
     ]
    }
   ],
   "source": [
    "print(\"Duplicate rows before:\", df.duplicated().sum())\n",
    "df = df.drop_duplicates().reset_index(drop=True)\n",
    "print(\"Duplicate rows after:\", df.duplicated().sum())\n",
    "print(\"New shape:\", df.shape)"
   ]
  },
  {
   "cell_type": "markdown",
   "id": "fc94c227",
   "metadata": {},
   "source": [
    "## Potential Outliers (IQR Method)"
   ]
  },
  {
   "cell_type": "code",
   "execution_count": 20,
   "id": "469e399c",
   "metadata": {},
   "outputs": [
    {
     "name": "stdout",
     "output_type": "stream",
     "text": [
      "GPA: 7 potential outliers outside [2.60, 3.40]\n"
     ]
    },
    {
     "data": {
      "text/html": [
       "<div>\n",
       "<style scoped>\n",
       "    .dataframe tbody tr th:only-of-type {\n",
       "        vertical-align: middle;\n",
       "    }\n",
       "\n",
       "    .dataframe tbody tr th {\n",
       "        vertical-align: top;\n",
       "    }\n",
       "\n",
       "    .dataframe thead th {\n",
       "        text-align: right;\n",
       "    }\n",
       "</style>\n",
       "<table border=\"1\" class=\"dataframe\">\n",
       "  <thead>\n",
       "    <tr style=\"text-align: right;\">\n",
       "      <th></th>\n",
       "      <th>Name</th>\n",
       "      <th>Major</th>\n",
       "      <th>Gender</th>\n",
       "      <th>GPA</th>\n",
       "    </tr>\n",
       "  </thead>\n",
       "  <tbody>\n",
       "    <tr>\n",
       "      <th>1</th>\n",
       "      <td>Casey</td>\n",
       "      <td>Math</td>\n",
       "      <td>M</td>\n",
       "      <td>3.80</td>\n",
       "    </tr>\n",
       "    <tr>\n",
       "      <th>4</th>\n",
       "      <td>Avery</td>\n",
       "      <td>Physics</td>\n",
       "      <td>F</td>\n",
       "      <td>2.49</td>\n",
       "    </tr>\n",
       "    <tr>\n",
       "      <th>6</th>\n",
       "      <td>Taylor</td>\n",
       "      <td>Cs</td>\n",
       "      <td>M</td>\n",
       "      <td>2.52</td>\n",
       "    </tr>\n",
       "    <tr>\n",
       "      <th>11</th>\n",
       "      <td>Jamie</td>\n",
       "      <td>Cs</td>\n",
       "      <td>F</td>\n",
       "      <td>3.59</td>\n",
       "    </tr>\n",
       "    <tr>\n",
       "      <th>12</th>\n",
       "      <td>Riley</td>\n",
       "      <td>Cs</td>\n",
       "      <td>F</td>\n",
       "      <td>3.80</td>\n",
       "    </tr>\n",
       "  </tbody>\n",
       "</table>\n",
       "</div>"
      ],
      "text/plain": [
       "      Name    Major Gender   GPA\n",
       "1    Casey     Math      M  3.80\n",
       "4    Avery  Physics      F  2.49\n",
       "6   Taylor       Cs      M  2.52\n",
       "11   Jamie       Cs      F  3.59\n",
       "12   Riley       Cs      F  3.80"
      ]
     },
     "metadata": {},
     "output_type": "display_data"
    },
    {
     "name": "stdout",
     "output_type": "stream",
     "text": [
      "Hours_Studied: 9 potential outliers outside [5.50, 9.50]\n"
     ]
    },
    {
     "data": {
      "text/html": [
       "<div>\n",
       "<style scoped>\n",
       "    .dataframe tbody tr th:only-of-type {\n",
       "        vertical-align: middle;\n",
       "    }\n",
       "\n",
       "    .dataframe tbody tr th {\n",
       "        vertical-align: top;\n",
       "    }\n",
       "\n",
       "    .dataframe thead th {\n",
       "        text-align: right;\n",
       "    }\n",
       "</style>\n",
       "<table border=\"1\" class=\"dataframe\">\n",
       "  <thead>\n",
       "    <tr style=\"text-align: right;\">\n",
       "      <th></th>\n",
       "      <th>Name</th>\n",
       "      <th>Major</th>\n",
       "      <th>Gender</th>\n",
       "      <th>Hours_Studied</th>\n",
       "    </tr>\n",
       "  </thead>\n",
       "  <tbody>\n",
       "    <tr>\n",
       "      <th>3</th>\n",
       "      <td>Alex</td>\n",
       "      <td>Math</td>\n",
       "      <td>M</td>\n",
       "      <td>13.0</td>\n",
       "    </tr>\n",
       "    <tr>\n",
       "      <th>10</th>\n",
       "      <td>Taylor</td>\n",
       "      <td>Cs</td>\n",
       "      <td>M</td>\n",
       "      <td>10.0</td>\n",
       "    </tr>\n",
       "    <tr>\n",
       "      <th>13</th>\n",
       "      <td>Jordan</td>\n",
       "      <td>Math</td>\n",
       "      <td>F</td>\n",
       "      <td>1.0</td>\n",
       "    </tr>\n",
       "    <tr>\n",
       "      <th>14</th>\n",
       "      <td>Casey</td>\n",
       "      <td>Physics</td>\n",
       "      <td>F</td>\n",
       "      <td>10.0</td>\n",
       "    </tr>\n",
       "    <tr>\n",
       "      <th>21</th>\n",
       "      <td>Sam</td>\n",
       "      <td>Physics</td>\n",
       "      <td>F</td>\n",
       "      <td>4.0</td>\n",
       "    </tr>\n",
       "  </tbody>\n",
       "</table>\n",
       "</div>"
      ],
      "text/plain": [
       "      Name    Major Gender  Hours_Studied\n",
       "3     Alex     Math      M           13.0\n",
       "10  Taylor       Cs      M           10.0\n",
       "13  Jordan     Math      F            1.0\n",
       "14   Casey  Physics      F           10.0\n",
       "21     Sam  Physics      F            4.0"
      ]
     },
     "metadata": {},
     "output_type": "display_data"
    }
   ],
   "source": [
    "def iqr_filter(series, k=1.5):\n",
    "    q1, q3 = series.quantile([0.25, 0.75])\n",
    "    iqr = q3 - q1\n",
    "    return q1 - k*iqr, q3 + k*iqr\n",
    "\n",
    "for col in [\"GPA\", \"Hours_Studied\"]:\n",
    "    low, high = iqr_filter(df[col])\n",
    "    mask = ~df[col].between(low, high)\n",
    "    print(f\"{col}: {mask.sum()} potential outliers outside [{low:.2f}, {high:.2f}]\")\n",
    "    display(df.loc[mask, [\"Name\",\"Major\",\"Gender\",col]].head())"
   ]
  },
  {
   "cell_type": "markdown",
   "id": "bc25929a",
   "metadata": {},
   "source": [
    "## Create Derived Columns"
   ]
  },
  {
   "cell_type": "code",
   "execution_count": 21,
   "id": "1c403a0d",
   "metadata": {},
   "outputs": [
    {
     "data": {
      "text/html": [
       "<div>\n",
       "<style scoped>\n",
       "    .dataframe tbody tr th:only-of-type {\n",
       "        vertical-align: middle;\n",
       "    }\n",
       "\n",
       "    .dataframe tbody tr th {\n",
       "        vertical-align: top;\n",
       "    }\n",
       "\n",
       "    .dataframe thead th {\n",
       "        text-align: right;\n",
       "    }\n",
       "</style>\n",
       "<table border=\"1\" class=\"dataframe\">\n",
       "  <thead>\n",
       "    <tr style=\"text-align: right;\">\n",
       "      <th></th>\n",
       "      <th>Name</th>\n",
       "      <th>Gender</th>\n",
       "      <th>Major</th>\n",
       "      <th>GPA</th>\n",
       "      <th>Hours_Studied</th>\n",
       "      <th>ExamDate</th>\n",
       "      <th>Passed</th>\n",
       "      <th>Study_Efficiency</th>\n",
       "      <th>ExamMonth</th>\n",
       "    </tr>\n",
       "  </thead>\n",
       "  <tbody>\n",
       "    <tr>\n",
       "      <th>0</th>\n",
       "      <td>Sam</td>\n",
       "      <td>F</td>\n",
       "      <td>Cs</td>\n",
       "      <td>3.056071</td>\n",
       "      <td>8.0</td>\n",
       "      <td>2025-09-08</td>\n",
       "      <td>Yes</td>\n",
       "      <td>0.382009</td>\n",
       "      <td>9</td>\n",
       "    </tr>\n",
       "    <tr>\n",
       "      <th>1</th>\n",
       "      <td>Casey</td>\n",
       "      <td>M</td>\n",
       "      <td>Math</td>\n",
       "      <td>3.800000</td>\n",
       "      <td>7.0</td>\n",
       "      <td>2025-09-06</td>\n",
       "      <td>Yes</td>\n",
       "      <td>0.542857</td>\n",
       "      <td>9</td>\n",
       "    </tr>\n",
       "    <tr>\n",
       "      <th>2</th>\n",
       "      <td>Casey</td>\n",
       "      <td>M</td>\n",
       "      <td>Math</td>\n",
       "      <td>2.890000</td>\n",
       "      <td>6.0</td>\n",
       "      <td>2025-09-05</td>\n",
       "      <td>Yes</td>\n",
       "      <td>0.481667</td>\n",
       "      <td>9</td>\n",
       "    </tr>\n",
       "    <tr>\n",
       "      <th>3</th>\n",
       "      <td>Alex</td>\n",
       "      <td>M</td>\n",
       "      <td>Math</td>\n",
       "      <td>3.230000</td>\n",
       "      <td>13.0</td>\n",
       "      <td>2025-09-06</td>\n",
       "      <td>Yes</td>\n",
       "      <td>0.248462</td>\n",
       "      <td>9</td>\n",
       "    </tr>\n",
       "    <tr>\n",
       "      <th>4</th>\n",
       "      <td>Avery</td>\n",
       "      <td>F</td>\n",
       "      <td>Physics</td>\n",
       "      <td>2.490000</td>\n",
       "      <td>6.0</td>\n",
       "      <td>2025-09-04</td>\n",
       "      <td>Yes</td>\n",
       "      <td>0.415000</td>\n",
       "      <td>9</td>\n",
       "    </tr>\n",
       "  </tbody>\n",
       "</table>\n",
       "</div>"
      ],
      "text/plain": [
       "    Name Gender    Major       GPA  Hours_Studied   ExamDate Passed  \\\n",
       "0    Sam      F       Cs  3.056071            8.0 2025-09-08    Yes   \n",
       "1  Casey      M     Math  3.800000            7.0 2025-09-06    Yes   \n",
       "2  Casey      M     Math  2.890000            6.0 2025-09-05    Yes   \n",
       "3   Alex      M     Math  3.230000           13.0 2025-09-06    Yes   \n",
       "4  Avery      F  Physics  2.490000            6.0 2025-09-04    Yes   \n",
       "\n",
       "   Study_Efficiency  ExamMonth  \n",
       "0          0.382009          9  \n",
       "1          0.542857          9  \n",
       "2          0.481667          9  \n",
       "3          0.248462          9  \n",
       "4          0.415000          9  "
      ]
     },
     "metadata": {},
     "output_type": "display_data"
    }
   ],
   "source": [
    "df[\"Passed\"] = np.where(df[\"GPA\"] >= 2.0, \"Yes\", \"No\")\n",
    "df[\"Study_Efficiency\"] = df[\"GPA\"] / df[\"Hours_Studied\"].replace(0, np.nan)\n",
    "df[\"ExamMonth\"] = df[\"ExamDate\"].dt.month\n",
    "df[\"ExamMonth\"] = df[\"ExamMonth\"].fillna(-1).astype(int)\n",
    "display(df.head())"
   ]
  },
  {
   "cell_type": "markdown",
   "id": "a4d14630",
   "metadata": {},
   "source": [
    "## Aggregation and Grouping"
   ]
  },
  {
   "cell_type": "code",
   "execution_count": 22,
   "id": "5f97b33f",
   "metadata": {},
   "outputs": [
    {
     "data": {
      "text/html": [
       "<div>\n",
       "<style scoped>\n",
       "    .dataframe tbody tr th:only-of-type {\n",
       "        vertical-align: middle;\n",
       "    }\n",
       "\n",
       "    .dataframe tbody tr th {\n",
       "        vertical-align: top;\n",
       "    }\n",
       "\n",
       "    .dataframe thead th {\n",
       "        text-align: right;\n",
       "    }\n",
       "</style>\n",
       "<table border=\"1\" class=\"dataframe\">\n",
       "  <thead>\n",
       "    <tr style=\"text-align: right;\">\n",
       "      <th></th>\n",
       "      <th>GPA</th>\n",
       "      <th>Hours_Studied</th>\n",
       "    </tr>\n",
       "  </thead>\n",
       "  <tbody>\n",
       "    <tr>\n",
       "      <th>mean</th>\n",
       "      <td>3.085333</td>\n",
       "      <td>7.448276</td>\n",
       "    </tr>\n",
       "    <tr>\n",
       "      <th>median</th>\n",
       "      <td>3.056071</td>\n",
       "      <td>8.000000</td>\n",
       "    </tr>\n",
       "    <tr>\n",
       "      <th>min</th>\n",
       "      <td>2.490000</td>\n",
       "      <td>1.000000</td>\n",
       "    </tr>\n",
       "    <tr>\n",
       "      <th>max</th>\n",
       "      <td>3.800000</td>\n",
       "      <td>13.000000</td>\n",
       "    </tr>\n",
       "    <tr>\n",
       "      <th>std</th>\n",
       "      <td>0.352888</td>\n",
       "      <td>2.428789</td>\n",
       "    </tr>\n",
       "  </tbody>\n",
       "</table>\n",
       "</div>"
      ],
      "text/plain": [
       "             GPA  Hours_Studied\n",
       "mean    3.085333       7.448276\n",
       "median  3.056071       8.000000\n",
       "min     2.490000       1.000000\n",
       "max     3.800000      13.000000\n",
       "std     0.352888       2.428789"
      ]
     },
     "metadata": {},
     "output_type": "display_data"
    }
   ],
   "source": [
    "summary = df.agg({\n",
    "    \"GPA\": [\"mean\",\"median\",\"min\",\"max\",\"std\"],\n",
    "    \"Hours_Studied\": [\"mean\",\"median\",\"min\",\"max\",\"std\"]\n",
    "})\n",
    "display(summary)"
   ]
  },
  {
   "cell_type": "code",
   "execution_count": 23,
   "id": "345ee30f",
   "metadata": {},
   "outputs": [
    {
     "data": {
      "text/html": [
       "<div>\n",
       "<style scoped>\n",
       "    .dataframe tbody tr th:only-of-type {\n",
       "        vertical-align: middle;\n",
       "    }\n",
       "\n",
       "    .dataframe tbody tr th {\n",
       "        vertical-align: top;\n",
       "    }\n",
       "\n",
       "    .dataframe thead th {\n",
       "        text-align: right;\n",
       "    }\n",
       "</style>\n",
       "<table border=\"1\" class=\"dataframe\">\n",
       "  <thead>\n",
       "    <tr style=\"text-align: right;\">\n",
       "      <th></th>\n",
       "      <th></th>\n",
       "      <th>GPA_mean</th>\n",
       "      <th>GPA_std</th>\n",
       "      <th>Hours_mean</th>\n",
       "    </tr>\n",
       "    <tr>\n",
       "      <th>Major</th>\n",
       "      <th>Gender</th>\n",
       "      <th></th>\n",
       "      <th></th>\n",
       "      <th></th>\n",
       "    </tr>\n",
       "  </thead>\n",
       "  <tbody>\n",
       "    <tr>\n",
       "      <th>Physics</th>\n",
       "      <th>M</th>\n",
       "      <td>3.765000</td>\n",
       "      <td>0.049497</td>\n",
       "      <td>8.000000</td>\n",
       "    </tr>\n",
       "    <tr>\n",
       "      <th rowspan=\"2\" valign=\"top\">Math</th>\n",
       "      <th>M</th>\n",
       "      <td>3.179214</td>\n",
       "      <td>0.372141</td>\n",
       "      <td>8.400000</td>\n",
       "    </tr>\n",
       "    <tr>\n",
       "      <th>F</th>\n",
       "      <td>3.170000</td>\n",
       "      <td>NaN</td>\n",
       "      <td>1.000000</td>\n",
       "    </tr>\n",
       "    <tr>\n",
       "      <th rowspan=\"2\" valign=\"top\">Cs</th>\n",
       "      <th>F</th>\n",
       "      <td>3.083474</td>\n",
       "      <td>0.331826</td>\n",
       "      <td>7.090909</td>\n",
       "    </tr>\n",
       "    <tr>\n",
       "      <th>M</th>\n",
       "      <td>2.918429</td>\n",
       "      <td>0.232926</td>\n",
       "      <td>8.600000</td>\n",
       "    </tr>\n",
       "    <tr>\n",
       "      <th>Physics</th>\n",
       "      <th>F</th>\n",
       "      <td>2.873643</td>\n",
       "      <td>0.261630</td>\n",
       "      <td>7.200000</td>\n",
       "    </tr>\n",
       "  </tbody>\n",
       "</table>\n",
       "</div>"
      ],
      "text/plain": [
       "                GPA_mean   GPA_std  Hours_mean\n",
       "Major   Gender                                \n",
       "Physics M       3.765000  0.049497    8.000000\n",
       "Math    M       3.179214  0.372141    8.400000\n",
       "        F       3.170000       NaN    1.000000\n",
       "Cs      F       3.083474  0.331826    7.090909\n",
       "        M       2.918429  0.232926    8.600000\n",
       "Physics F       2.873643  0.261630    7.200000"
      ]
     },
     "metadata": {},
     "output_type": "display_data"
    }
   ],
   "source": [
    "grouped = (df.groupby([\"Major\",\"Gender\"], observed=True)\n",
    "    .agg(GPA_mean=(\"GPA\",\"mean\"), GPA_std=(\"GPA\",\"std\"),\n",
    "         Hours_mean=(\"Hours_Studied\",\"mean\"))\n",
    "    .sort_values([\"GPA_mean\"], ascending=False))\n",
    "display(grouped.head(10))"
   ]
  },
  {
   "cell_type": "markdown",
   "id": "456faa8c",
   "metadata": {},
   "source": [
    "## Pivot Table"
   ]
  },
  {
   "cell_type": "code",
   "execution_count": 24,
   "id": "2fb857a7",
   "metadata": {},
   "outputs": [
    {
     "data": {
      "text/html": [
       "<div>\n",
       "<style scoped>\n",
       "    .dataframe tbody tr th:only-of-type {\n",
       "        vertical-align: middle;\n",
       "    }\n",
       "\n",
       "    .dataframe tbody tr th {\n",
       "        vertical-align: top;\n",
       "    }\n",
       "\n",
       "    .dataframe thead th {\n",
       "        text-align: right;\n",
       "    }\n",
       "</style>\n",
       "<table border=\"1\" class=\"dataframe\">\n",
       "  <thead>\n",
       "    <tr style=\"text-align: right;\">\n",
       "      <th>Gender</th>\n",
       "      <th>F</th>\n",
       "      <th>M</th>\n",
       "    </tr>\n",
       "    <tr>\n",
       "      <th>Major</th>\n",
       "      <th></th>\n",
       "      <th></th>\n",
       "    </tr>\n",
       "  </thead>\n",
       "  <tbody>\n",
       "    <tr>\n",
       "      <th>Cs</th>\n",
       "      <td>3.083474</td>\n",
       "      <td>2.918429</td>\n",
       "    </tr>\n",
       "    <tr>\n",
       "      <th>Math</th>\n",
       "      <td>3.170000</td>\n",
       "      <td>3.179214</td>\n",
       "    </tr>\n",
       "    <tr>\n",
       "      <th>Physics</th>\n",
       "      <td>2.873643</td>\n",
       "      <td>3.765000</td>\n",
       "    </tr>\n",
       "  </tbody>\n",
       "</table>\n",
       "</div>"
      ],
      "text/plain": [
       "Gender          F         M\n",
       "Major                      \n",
       "Cs       3.083474  2.918429\n",
       "Math     3.170000  3.179214\n",
       "Physics  2.873643  3.765000"
      ]
     },
     "metadata": {},
     "output_type": "display_data"
    }
   ],
   "source": [
    "pivot = pd.pivot_table(df, values=\"GPA\", index=\"Major\", columns=\"Gender\", aggfunc=\"mean\", observed=True)\n",
    "display(pivot)"
   ]
  },
  {
   "cell_type": "markdown",
   "id": "85a51d72",
   "metadata": {},
   "source": [
    "## Optional: GPA Distribution Plot"
   ]
  },
  {
   "cell_type": "code",
   "execution_count": 25,
   "id": "de185282",
   "metadata": {},
   "outputs": [
    {
     "data": {
      "image/png": "[encoded data removed]",
      "text/plain": [
       "<Figure size 640x480 with 1 Axes>"
      ]
     },
     "metadata": {},
     "output_type": "display_data"
    }
   ],
   "source": [
    "import matplotlib.pyplot as plt\n",
    "plt.figure()\n",
    "df[\"GPA\"].plot(kind=\"hist\", bins=10)\n",
    "plt.title(\"GPA Distribution\")\n",
    "plt.xlabel(\"GPA\")\n",
    "plt.ylabel(\"Count\")\n",
    "plt.grid(True)\n",
    "plt.show()"
   ]
  },
  {
   "cell_type": "markdown",
   "id": "9560860e",
   "metadata": {},
   "source": [
    "## Export Cleaned Data"
   ]
  },
  {
   "cell_type": "code",
   "execution_count": 26,
   "id": "b1997a65",
   "metadata": {},
   "outputs": [
    {
     "name": "stdout",
     "output_type": "stream",
     "text": [
      "Saved: ./data/students_clean.csv\n"
     ]
    }
   ],
   "source": [
    "out_path = \"./data/students_clean.csv\"\n",
    "df.to_csv(out_path, index=False)\n",
    "print(\"Saved:\", out_path)"
   ]
  },
  {
   "cell_type": "markdown",
   "id": "d211b422",
   "metadata": {},
   "source": [
    "## Summary\n",
    "- Imported raw data and inspected structure and missingness.\n",
    "- Cleaned missing values, fixed data types, standardized categories.\n",
    "- Removed duplicates, flagged potential outliers via IQR.\n",
    "- Engineered features and summarized with aggregation, groupby, and pivot tables.\n",
    "- Exported a reproducible cleaned dataset."
   ]
  }
 ],
 "metadata": {
  "kernelspec": {
   "display_name": "Python 3",
   "language": "python",
   "name": "python3"
  },
  "language_info": {
   "codemirror_mode": {
    "name": "ipython",
    "version": 3
   },
   "file_extension": ".py",
   "mimetype": "text/x-python",
   "name": "python",
   "nbconvert_exporter": "python",
   "pygments_lexer": "ipython3",
   "version": "3.12.1"
  }
 },
 "nbformat": 4,
 "nbformat_minor": 5
}
