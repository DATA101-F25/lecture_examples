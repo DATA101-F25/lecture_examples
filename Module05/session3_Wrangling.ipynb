{
 "cells": [
  {
   "cell_type": "markdown",
   "id": "0b6bff6c",
   "metadata": {},
   "source": [
    "# Data 101 — Module 5, Session 3\n",
    "## Wrangling & Summarizing Data (Demo Notebook)\n",
    "\n",
    "This notebook mirrors the Session 3 slides:\n",
    "- Import raw data\n",
    "- Inspect and detect issues\n",
    "- Handle missing values\n",
    "- Fix data types\n",
    "- Remove duplicates and inconsistencies\n",
    "- Detect potential outliers\n",
    "- Create derived columns\n",
    "- Aggregate, group, and pivot\n",
    "- Export cleaned data"
   ]
  },
  {
   "cell_type": "markdown",
   "id": "fbbaf1f5",
   "metadata": {},
   "source": [
    "## Import and Read Raw Data"
   ]
  },
  {
   "cell_type": "code",
   "execution_count": null,
   "id": "7d27d0be",
   "metadata": {},
   "outputs": [],
   "source": [
    "import pandas as pd, numpy as np\n",
    "df = pd.read_csv(\"./data/students_messy.csv\")\n",
    "print(\"Shape:\", df.shape)"
   ]
  },
  {
   "cell_type": "code",
   "execution_count": null,
   "id": "ad007cda",
   "metadata": {},
   "outputs": [],
   "source": [
    "display(df.head())"
   ]
  },
  {
   "cell_type": "code",
   "execution_count": null,
   "id": "238a429e",
   "metadata": {},
   "outputs": [],
   "source": [
    "print(\"\\nInfo:\")\n",
    "display(df.info())"
   ]
  },
  {
   "cell_type": "markdown",
   "id": "e002f07d",
   "metadata": {},
   "source": [
    "## Inspect Missingness and Basic Profiling"
   ]
  },
  {
   "cell_type": "code",
   "execution_count": null,
   "id": "1c95315e",
   "metadata": {},
   "outputs": [],
   "source": [
    "missing_counts = df.isnull().sum()\n",
    "print(\"Missing values per column:\\n\", missing_counts)"
   ]
  },
  {
   "cell_type": "code",
   "execution_count": null,
   "id": "759dee9d",
   "metadata": {},
   "outputs": [],
   "source": [
    "df.isnull().mean().plot.bar()"
   ]
  },
  {
   "cell_type": "code",
   "execution_count": null,
   "id": "37434313",
   "metadata": {},
   "outputs": [],
   "source": [
    "print(\"\\nDescribe numeric columns:\")\n",
    "display(df.describe())"
   ]
  },
  {
   "cell_type": "code",
   "execution_count": null,
   "id": "98aeb68b",
   "metadata": {},
   "outputs": [],
   "source": [
    "print(\"\\nUnique values in 'Major' (notice inconsistencies):\")\n",
    "print(sorted(df[\"Major\"].astype(str).unique()))"
   ]
  },
  {
   "cell_type": "markdown",
   "id": "05f3c647",
   "metadata": {},
   "source": [
    "## Handle Missing Values"
   ]
  },
  {
   "cell_type": "code",
   "execution_count": null,
   "id": "a9602c0d",
   "metadata": {},
   "outputs": [],
   "source": [
    "df[\"GPA\"] = pd.to_numeric(df[\"GPA\"].astype(str).str.strip(), errors=\"coerce\")\n",
    "df[\"GPA\"] = df[\"GPA\"].fillna(df[\"GPA\"].mean())\n",
    "print(\"Post-imputation missingness:\")\n",
    "print(df.isnull().sum())\n",
    "display(df.head())"
   ]
  },
  {
   "cell_type": "code",
   "execution_count": null,
   "id": "0c90dd26",
   "metadata": {},
   "outputs": [],
   "source": [
    "df[\"Hours_Studied\"] = pd.to_numeric(df[\"Hours_Studied\"], errors=\"coerce\")\n",
    "df[\"Hours_Studied\"] = df[\"Hours_Studied\"].fillna(df[\"Hours_Studied\"].median())\n",
    "print(\"Post-imputation missingness:\")\n",
    "print(df.isnull().sum())\n",
    "display(df.head())"
   ]
  },
  {
   "cell_type": "code",
   "execution_count": null,
   "id": "a09a568e",
   "metadata": {},
   "outputs": [],
   "source": [
    "df[\"ExamDate\"] = pd.to_datetime(df[\"ExamDate\"], format=\"%Y-%m-%d\", errors=\"coerce\")\n",
    "print(df.isnull().sum())\n",
    "display(df.head())"
   ]
  },
  {
   "cell_type": "code",
   "execution_count": null,
   "id": "a821baf0",
   "metadata": {},
   "outputs": [],
   "source": [
    "df = df.dropna(subset=[\"ExamDate\"])\n",
    "print(df.isnull().sum())\n",
    "display(df.head())"
   ]
  },
  {
   "cell_type": "code",
   "execution_count": null,
   "id": "aa30498c",
   "metadata": {},
   "outputs": [],
   "source": [
    "dft = pd.DataFrame({\"Score\": [10, None, None, 20, None, 30]})\n",
    "print(dft)"
   ]
  },
  {
   "cell_type": "code",
   "execution_count": null,
   "id": "82d5b0df",
   "metadata": {},
   "outputs": [],
   "source": [
    "print(dft.ffill())"
   ]
  },
  {
   "cell_type": "code",
   "execution_count": null,
   "id": "86fb3aa1",
   "metadata": {},
   "outputs": [],
   "source": [
    "print(dft.bfill())"
   ]
  },
  {
   "cell_type": "markdown",
   "id": "6675ecf0",
   "metadata": {},
   "source": [
    "## Fix Types and Standardize Categories"
   ]
  },
  {
   "cell_type": "code",
   "execution_count": null,
   "id": "f65fb3e8",
   "metadata": {},
   "outputs": [],
   "source": [
    "df[\"Major\"] = (df[\"Major\"].astype(str).str.strip().str.lower()\n",
    "    .replace({\"computer science\":\"cs\",\"mathematics\":\"math\",\"phys\":\"physics\"})\n",
    "    .str.replace(r\"\\s+\", \" \", regex=True))\n",
    "df[\"Major\"] = df[\"Major\"].map(lambda x: x.title())\n",
    "df[\"Major\"] = df[\"Major\"].astype(\"category\")\n",
    "df[\"Gender\"] = df[\"Gender\"].astype(\"category\")\n",
    "display(df.sample(5, random_state=0))\n",
    "print(df.dtypes)"
   ]
  },
  {
   "cell_type": "markdown",
   "id": "2ed425e6",
   "metadata": {},
   "source": [
    "## Remove Duplicates"
   ]
  },
  {
   "cell_type": "code",
   "execution_count": null,
   "id": "3c937447",
   "metadata": {},
   "outputs": [],
   "source": [
    "print(\"Duplicate rows before:\", df.duplicated().sum())\n",
    "df = df.drop_duplicates().reset_index(drop=True)\n",
    "print(\"Duplicate rows after:\", df.duplicated().sum())\n",
    "print(\"New shape:\", df.shape)"
   ]
  },
  {
   "cell_type": "markdown",
   "id": "fc94c227",
   "metadata": {},
   "source": [
    "## Potential Outliers (IQR Method)"
   ]
  },
  {
   "cell_type": "code",
   "execution_count": null,
   "id": "469e399c",
   "metadata": {},
   "outputs": [],
   "source": [
    "def iqr_filter(series, k=1.5):\n",
    "    q1, q3 = series.quantile([0.25, 0.75])\n",
    "    iqr = q3 - q1\n",
    "    return q1 - k*iqr, q3 + k*iqr\n",
    "\n",
    "for col in [\"GPA\", \"Hours_Studied\"]:\n",
    "    low, high = iqr_filter(df[col])\n",
    "    mask = ~df[col].between(low, high)\n",
    "    print(f\"{col}: {mask.sum()} potential outliers outside [{low:.2f}, {high:.2f}]\")\n",
    "    display(df.loc[mask, [\"Name\",\"Major\",\"Gender\",col]].head())"
   ]
  },
  {
   "cell_type": "markdown",
   "id": "bc25929a",
   "metadata": {},
   "source": [
    "## Create Derived Columns"
   ]
  },
  {
   "cell_type": "code",
   "execution_count": null,
   "id": "1c403a0d",
   "metadata": {},
   "outputs": [],
   "source": [
    "df[\"Passed\"] = np.where(df[\"GPA\"] >= 2.0, \"Yes\", \"No\")\n",
    "df[\"Study_Efficiency\"] = df[\"GPA\"] / df[\"Hours_Studied\"].replace(0, np.nan)\n",
    "df[\"ExamMonth\"] = df[\"ExamDate\"].dt.month\n",
    "df[\"ExamMonth\"] = df[\"ExamMonth\"].fillna(-1).astype(int)\n",
    "display(df.head())"
   ]
  },
  {
   "cell_type": "markdown",
   "id": "a4d14630",
   "metadata": {},
   "source": [
    "## Aggregation and Grouping"
   ]
  },
  {
   "cell_type": "code",
   "execution_count": null,
   "id": "5f97b33f",
   "metadata": {},
   "outputs": [],
   "source": [
    "summary = df.agg({\n",
    "    \"GPA\": [\"mean\",\"median\",\"min\",\"max\",\"std\"],\n",
    "    \"Hours_Studied\": [\"mean\",\"median\",\"min\",\"max\",\"std\"]\n",
    "})\n",
    "display(summary)"
   ]
  },
  {
   "cell_type": "code",
   "execution_count": null,
   "id": "345ee30f",
   "metadata": {},
   "outputs": [],
   "source": [
    "grouped = (df.groupby([\"Major\",\"Gender\"], observed=True)\n",
    "    .agg(GPA_mean=(\"GPA\",\"mean\"), GPA_std=(\"GPA\",\"std\"),\n",
    "         Hours_mean=(\"Hours_Studied\",\"mean\"))\n",
    "    .sort_values([\"GPA_mean\"], ascending=False))\n",
    "display(grouped.head(10))"
   ]
  },
  {
   "cell_type": "markdown",
   "id": "456faa8c",
   "metadata": {},
   "source": [
    "## Pivot Table"
   ]
  },
  {
   "cell_type": "code",
   "execution_count": null,
   "id": "2fb857a7",
   "metadata": {},
   "outputs": [],
   "source": [
    "pivot = pd.pivot_table(df, values=\"GPA\", index=\"Major\", columns=\"Gender\", aggfunc=\"mean\", observed=True)\n",
    "display(pivot)"
   ]
  },
  {
   "cell_type": "markdown",
   "id": "85a51d72",
   "metadata": {},
   "source": [
    "## Optional: GPA Distribution Plot"
   ]
  },
  {
   "cell_type": "code",
   "execution_count": null,
   "id": "de185282",
   "metadata": {},
   "outputs": [],
   "source": [
    "import matplotlib.pyplot as plt\n",
    "plt.figure()\n",
    "df[\"GPA\"].plot(kind=\"hist\", bins=10)\n",
    "plt.title(\"GPA Distribution\")\n",
    "plt.xlabel(\"GPA\")\n",
    "plt.ylabel(\"Count\")\n",
    "plt.grid(True)\n",
    "plt.show()"
   ]
  },
  {
   "cell_type": "markdown",
   "id": "9560860e",
   "metadata": {},
   "source": [
    "## Export Cleaned Data"
   ]
  },
  {
   "cell_type": "code",
   "execution_count": null,
   "id": "b1997a65",
   "metadata": {},
   "outputs": [],
   "source": [
    "out_path = \"./data/students_clean.csv\"\n",
    "df.to_csv(out_path, index=False)\n",
    "print(\"Saved:\", out_path)"
   ]
  },
  {
   "cell_type": "markdown",
   "id": "d211b422",
   "metadata": {},
   "source": [
    "## Summary\n",
    "- Imported raw data and inspected structure and missingness.\n",
    "- Cleaned missing values, fixed data types, standardized categories.\n",
    "- Removed duplicates, flagged potential outliers via IQR.\n",
    "- Engineered features and summarized with aggregation, groupby, and pivot tables.\n",
    "- Exported a reproducible cleaned dataset."
   ]
  }
 ],
 "metadata": {
  "kernelspec": {
   "display_name": "Python 3",
   "language": "python",
   "name": "python3"
  },
  "language_info": {
   "codemirror_mode": {
    "name": "ipython",
    "version": 3
   },
   "file_extension": ".py",
   "mimetype": "text/x-python",
   "name": "python",
   "nbconvert_exporter": "python",
   "pygments_lexer": "ipython3",
   "version": "3.12.1"
  }
 },
 "nbformat": 4,
 "nbformat_minor": 5
}
