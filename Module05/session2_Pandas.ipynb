{
 "cells": [
  {
   "cell_type": "markdown",
   "id": "7e3f5e7d",
   "metadata": {},
   "source": [
    "\n",
    "# Data 101 — Module 5, Session 2\n",
    "## Pandas Basics (Demo Notebook)\n",
    "\n",
    "This notebook follows the Session 2 slide outline:\n",
    "- Importing Pandas\n",
    "- Series and DataFrames\n",
    "- Loading a CSV\n",
    "- Selecting columns and rows (`loc` vs `iloc`)\n",
    "- Column slicing with `loc`\n",
    "- Boolean filtering\n",
    "- Modifying data\n",
    "- Summary statistics and grouping\n"
   ]
  },
  {
   "cell_type": "markdown",
   "id": "86b84dc7",
   "metadata": {},
   "source": [
    "## Import Pandas"
   ]
  },
  {
   "cell_type": "code",
   "execution_count": null,
   "id": "cdf632b9",
   "metadata": {},
   "outputs": [],
   "source": [
    "\n",
    "import pandas as pd\n",
    "import numpy as np\n",
    "\n",
    "print(\"pandas:\", pd.__version__)\n",
    "print(\"numpy:\", np.__version__)\n"
   ]
  },
  {
   "cell_type": "markdown",
   "id": "f2d0dfb1",
   "metadata": {},
   "source": [
    "## Series"
   ]
  },
  {
   "cell_type": "code",
   "execution_count": null,
   "id": "a0d215d9",
   "metadata": {},
   "outputs": [],
   "source": [
    "s = pd.Series([10, 20, 30], index=[\"a\", \"b\", \"c\"])\n",
    "display(s)"
   ]
  },
  {
   "cell_type": "code",
   "execution_count": null,
   "id": "04f6ca5e",
   "metadata": {},
   "outputs": [],
   "source": [
    "print(\"Access by label:\", s[\"b\"])"
   ]
  },
  {
   "cell_type": "code",
   "execution_count": null,
   "id": "1a17bcad",
   "metadata": {},
   "outputs": [],
   "source": [
    "print(\"Access by position:\", s[1])"
   ]
  },
  {
   "cell_type": "markdown",
   "id": "f00a0557",
   "metadata": {},
   "source": [
    "## DataFrame"
   ]
  },
  {
   "cell_type": "code",
   "execution_count": null,
   "id": "354c85e6",
   "metadata": {},
   "outputs": [],
   "source": [
    "\n",
    "data = {\"Name\": [\"Alex\", \"Jamie\"], \"GPA\": [3.4, 3.8]}\n",
    "df_small = pd.DataFrame(data)\n",
    "display(df_small)\n"
   ]
  },
  {
   "cell_type": "markdown",
   "id": "29d18acb",
   "metadata": {},
   "source": [
    "## Load Data from CSV"
   ]
  },
  {
   "cell_type": "code",
   "execution_count": null,
   "id": "1f7b8057",
   "metadata": {},
   "outputs": [],
   "source": [
    "# A sample CSV is saved at: ./data/students.csv\n",
    "df = pd.read_csv(\"./data/students.csv\")\n",
    "display(df.head())\n"
   ]
  },
  {
   "cell_type": "code",
   "execution_count": null,
   "id": "72538ced",
   "metadata": {},
   "outputs": [],
   "source": [
    "print(\"\\nInfo:\")\n",
    "display(df.info())"
   ]
  },
  {
   "cell_type": "code",
   "execution_count": null,
   "id": "09d9f45f",
   "metadata": {},
   "outputs": [],
   "source": [
    "print(\"\\nDescribe:\")\n",
    "display(df.describe())"
   ]
  },
  {
   "cell_type": "code",
   "execution_count": null,
   "id": "bc55a735",
   "metadata": {},
   "outputs": [],
   "source": [
    "print(\"\\nDescribe:\")\n",
    "display(df.describe(include=\"all\"))"
   ]
  },
  {
   "cell_type": "markdown",
   "id": "acbca4b1",
   "metadata": {},
   "source": [
    "## Selecting Columns"
   ]
  },
  {
   "cell_type": "code",
   "execution_count": null,
   "id": "1951962b",
   "metadata": {},
   "outputs": [],
   "source": [
    "gpa_series = df[\"GPA\"]\n",
    "display(gpa_series.head())\n"
   ]
  },
  {
   "cell_type": "code",
   "execution_count": null,
   "id": "4ae3adba",
   "metadata": {},
   "outputs": [],
   "source": [
    "name_gpa_df = df[[\"Name\", \"GPA\"]]\n",
    "display(name_gpa_df.head())"
   ]
  },
  {
   "cell_type": "markdown",
   "id": "1a100b1e",
   "metadata": {},
   "source": [
    "## Selecting Rows with `.loc` (label-based)"
   ]
  },
  {
   "cell_type": "code",
   "execution_count": null,
   "id": "1feefd95",
   "metadata": {},
   "outputs": [],
   "source": [
    "\n",
    "df = df.reset_index(drop=True)\n",
    "\n",
    "row_label_0 = df.loc[0]\n",
    "rows_0_to_2 = df.loc[0:2]\n",
    "gpa_all_rows = df.loc[:, \"GPA\"]\n",
    "\n",
    "display(row_label_0)\n",
    "display(rows_0_to_2)\n",
    "display(gpa_all_rows.head())\n"
   ]
  },
  {
   "cell_type": "markdown",
   "id": "772e410c",
   "metadata": {},
   "source": [
    "## Selecting Rows with `.iloc` (position-based)"
   ]
  },
  {
   "cell_type": "code",
   "execution_count": null,
   "id": "05a634fa",
   "metadata": {},
   "outputs": [],
   "source": [
    "\n",
    "first_row = df.iloc[0]\n",
    "first_three_rows = df.iloc[0:3]\n",
    "second_column_all_rows = df.iloc[:, 1]\n",
    "\n",
    "display(first_row)\n",
    "display(first_three_rows)\n",
    "display(second_column_all_rows.head())\n"
   ]
  },
  {
   "cell_type": "markdown",
   "id": "f0735d4b",
   "metadata": {},
   "source": [
    "## `loc` vs `iloc` example"
   ]
  },
  {
   "cell_type": "code",
   "execution_count": null,
   "id": "2871ec01",
   "metadata": {},
   "outputs": [],
   "source": [
    "\n",
    "example_loc = df.loc[2, \"GPA\"]   # row label 2, column \"GPA\"\n",
    "example_iloc = df.iloc[2, 3]     # third row, fourth column (0-based indexing)\n",
    "print(\"df.loc[2, 'GPA']  ->\", example_loc)\n",
    "print(\"df.iloc[2, 3]     ->\", example_iloc)\n"
   ]
  },
  {
   "cell_type": "markdown",
   "id": "fd950a1c",
   "metadata": {},
   "source": [
    "## Column Slicing with `loc` and a common pitfall"
   ]
  },
  {
   "cell_type": "code",
   "execution_count": null,
   "id": "16faf7f7",
   "metadata": {},
   "outputs": [],
   "source": [
    "\n",
    "one_col = df.loc[:, \"GPA\"]\n",
    "multi_cols = df.loc[:, [\"Name\", \"GPA\"]]\n",
    "range_cols = df.loc[:, \"Name\":\"GPA\"]\n",
    "\n",
    "display(one_col.head())\n",
    "display(multi_cols.head())\n",
    "display(range_cols.head())\n",
    "\n",
    "try:\n",
    "    bad = df[:, \"GPA\"]\n",
    "except Exception as e:\n",
    "    print(\"Using df[:, 'GPA'] raises ->\", repr(e))\n"
   ]
  },
  {
   "cell_type": "markdown",
   "id": "7fa33520",
   "metadata": {},
   "source": [
    "## Boolean Filtering"
   ]
  },
  {
   "cell_type": "code",
   "execution_count": null,
   "id": "55b466fa",
   "metadata": {},
   "outputs": [],
   "source": [
    "\n",
    "high_gpa = df[df[\"GPA\"] > 3.5]\n",
    "cs_or_math = df[(df[\"Major\"] == \"CS\") | (df[\"Major\"] == \"Math\")]\n",
    "display(high_gpa)\n",
    "display(cs_or_math)\n"
   ]
  },
  {
   "cell_type": "markdown",
   "id": "a73f3612",
   "metadata": {},
   "source": [
    "## Modifying Data"
   ]
  },
  {
   "cell_type": "code",
   "execution_count": null,
   "id": "f9365b2e",
   "metadata": {},
   "outputs": [],
   "source": [
    "\n",
    "df[\"Passed\"] = df[\"GPA\"] >= 2.0\n",
    "df[\"GPA_rounded\"] = df[\"GPA\"].round(1)\n",
    "display(df.head())\n"
   ]
  },
  {
   "cell_type": "markdown",
   "id": "8a8b5f69",
   "metadata": {},
   "source": [
    "## Summary Statistics"
   ]
  },
  {
   "cell_type": "code",
   "execution_count": null,
   "id": "543edbb2",
   "metadata": {},
   "outputs": [],
   "source": [
    "\n",
    "print(\"mean:\", df[\"GPA\"].mean())\n",
    "print(\"median:\", df[\"GPA\"].median())\n",
    "print(\"mode:\", df[\"GPA\"].mode().tolist())\n",
    "print(\"min:\", df[\"GPA\"].min())\n",
    "print(\"max:\", df[\"GPA\"].max())\n",
    "print(\"std:\", df[\"GPA\"].std())\n",
    "\n",
    "display(df.describe())\n"
   ]
  },
  {
   "cell_type": "markdown",
   "id": "9f9aadd6",
   "metadata": {},
   "source": [
    "## Grouping"
   ]
  },
  {
   "cell_type": "code",
   "execution_count": null,
   "id": "0782103b",
   "metadata": {},
   "outputs": [],
   "source": [
    "\n",
    "avg_gpa_by_major = df.groupby(\"Major\")[\"GPA\"].mean().reset_index(name=\"Avg_GPA\")\n",
    "display(avg_gpa_by_major)\n"
   ]
  },
  {
   "cell_type": "markdown",
   "id": "df4f6dc5",
   "metadata": {},
   "source": [
    "\n",
    "## Summary\n",
    "- `pd.Series` and `pd.DataFrame` are core pandas objects.\n",
    "- Use `.loc` for label-based and `.iloc` for position-based selection.\n",
    "- Always select with `[rows, columns]` when slicing tables.\n",
    "- Filter rows with boolean conditions.\n",
    "- Create or transform columns for analysis.\n",
    "- Compute descriptive statistics and group summaries.\n"
   ]
  }
 ],
 "metadata": {
  "kernelspec": {
   "display_name": "Python 3",
   "language": "python",
   "name": "python3"
  },
  "language_info": {
   "codemirror_mode": {
    "name": "ipython",
    "version": 3
   },
   "file_extension": ".py",
   "mimetype": "text/x-python",
   "name": "python",
   "nbconvert_exporter": "python",
   "pygments_lexer": "ipython3",
   "version": "3.12.1"
  }
 },
 "nbformat": 4,
 "nbformat_minor": 5
}
