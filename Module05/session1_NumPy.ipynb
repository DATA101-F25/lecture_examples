{
 "cells": [
  {
   "cell_type": "markdown",
   "id": "7a5d01aa",
   "metadata": {},
   "source": [
    "\n",
    "# Data 101 — Module 5, Session 1\n",
    "## NumPy Foundations (Demo Notebook)\n",
    "\n",
    "This notebook demonstrates core NumPy operations for **Working with Data in Code**.\n",
    "Run cells top to bottom.\n"
   ]
  },
  {
   "cell_type": "code",
   "execution_count": 1,
   "id": "c012c10b",
   "metadata": {},
   "outputs": [
    {
     "name": "stdout",
     "output_type": "stream",
     "text": [
      "NumPy version: 2.3.1\n"
     ]
    }
   ],
   "source": [
    "import numpy as np\n",
    "\n",
    "print(\"NumPy version:\", np.__version__)"
   ]
  },
  {
   "cell_type": "markdown",
   "id": "e1a65b4b",
   "metadata": {},
   "source": [
    "\n",
    "## Python Lists vs. NumPy Arrays\n",
    "- Lists are flexible and can hold mixed types.\n",
    "- NumPy arrays are homogeneous and support fast vectorized math.\n"
   ]
  },
  {
   "cell_type": "code",
   "execution_count": 2,
   "id": "2d3d3423",
   "metadata": {},
   "outputs": [
    {
     "data": {
      "text/plain": [
       "[1, 2, 3, 1, 2, 3]"
      ]
     },
     "execution_count": 2,
     "metadata": {},
     "output_type": "execute_result"
    }
   ],
   "source": [
    "l = [1,2,3]\n",
    "l*2"
   ]
  },
  {
   "cell_type": "code",
   "execution_count": 3,
   "id": "53af25b3",
   "metadata": {},
   "outputs": [
    {
     "data": {
      "text/plain": [
       "array([2, 4, 6])"
      ]
     },
     "execution_count": 3,
     "metadata": {},
     "output_type": "execute_result"
    }
   ],
   "source": [
    "a=np.array(l)\n",
    "a*2 "
   ]
  },
  {
   "cell_type": "markdown",
   "id": "877e4e07",
   "metadata": {},
   "source": [
    "\n",
    "## Creating Arrays\n",
    "Common constructors: `np.array`, `np.arange`, `np.zeros`, `np.ones`, `np.linspace`.\n"
   ]
  },
  {
   "cell_type": "code",
   "execution_count": 4,
   "id": "709b599e",
   "metadata": {},
   "outputs": [
    {
     "name": "stdout",
     "output_type": "stream",
     "text": [
      "a: [1 2 3]\n"
     ]
    }
   ],
   "source": [
    "a = np.array([1, 2, 3])\n",
    "print(\"a:\", a)"
   ]
  },
  {
   "cell_type": "code",
   "execution_count": 9,
   "id": "7b7d602b",
   "metadata": {},
   "outputs": [
    {
     "name": "stdout",
     "output_type": "stream",
     "text": [
      "b: [0 2 4 6 8]\n"
     ]
    }
   ],
   "source": [
    "b = np.arange(0, 10, 2)\n",
    "print(\"b:\", b)"
   ]
  },
  {
   "cell_type": "code",
   "execution_count": 6,
   "id": "e003bfdc",
   "metadata": {},
   "outputs": [
    {
     "name": "stdout",
     "output_type": "stream",
     "text": [
      "z:\n",
      " [[0. 0. 0.]\n",
      " [0. 0. 0.]]\n"
     ]
    }
   ],
   "source": [
    "z = np.zeros((2, 3))\n",
    "print(\"z:\\n\", z)"
   ]
  },
  {
   "cell_type": "code",
   "execution_count": 7,
   "id": "7ddc45ca",
   "metadata": {},
   "outputs": [
    {
     "name": "stdout",
     "output_type": "stream",
     "text": [
      "o:\n",
      " [[1. 1.]\n",
      " [1. 1.]\n",
      " [1. 1.]]\n"
     ]
    }
   ],
   "source": [
    "o = np.ones((3, 2))\n",
    "print(\"o:\\n\", o)"
   ]
  },
  {
   "cell_type": "code",
   "execution_count": 8,
   "id": "ab96479a",
   "metadata": {},
   "outputs": [
    {
     "name": "stdout",
     "output_type": "stream",
     "text": [
      "l: [0.   0.25 0.5  0.75 1.  ]\n"
     ]
    }
   ],
   "source": [
    "l = np.linspace(0, 1, num=5)\n",
    "print(\"l:\", l)"
   ]
  },
  {
   "cell_type": "markdown",
   "id": "39a8f805",
   "metadata": {},
   "source": [
    "\n",
    "## Array Attributes\n",
    "Key properties: `.shape`, `.dtype`, `.ndim`, `.size`.\n"
   ]
  },
  {
   "cell_type": "code",
   "execution_count": 10,
   "id": "2b6c5eaa",
   "metadata": {},
   "outputs": [
    {
     "name": "stdout",
     "output_type": "stream",
     "text": [
      "arr =\n",
      " [[ 0  1  2  3]\n",
      " [ 4  5  6  7]\n",
      " [ 8  9 10 11]]\n"
     ]
    }
   ],
   "source": [
    "\n",
    "arr = np.arange(12).reshape(3, 4)\n",
    "print(\"arr =\\n\", arr)"
   ]
  },
  {
   "cell_type": "code",
   "execution_count": 11,
   "id": "422c5799",
   "metadata": {},
   "outputs": [
    {
     "name": "stdout",
     "output_type": "stream",
     "text": [
      "shape: (3, 4)\n"
     ]
    }
   ],
   "source": [
    "print(\"shape:\", arr.shape)"
   ]
  },
  {
   "cell_type": "code",
   "execution_count": 12,
   "id": "30091e44",
   "metadata": {},
   "outputs": [
    {
     "name": "stdout",
     "output_type": "stream",
     "text": [
      "dtype: int64\n"
     ]
    }
   ],
   "source": [
    "print(\"dtype:\", arr.dtype)"
   ]
  },
  {
   "cell_type": "code",
   "execution_count": 13,
   "id": "bd81b261",
   "metadata": {},
   "outputs": [
    {
     "name": "stdout",
     "output_type": "stream",
     "text": [
      "ndim: 2\n"
     ]
    }
   ],
   "source": [
    "print(\"ndim:\", arr.ndim)"
   ]
  },
  {
   "cell_type": "code",
   "execution_count": 14,
   "id": "d584342b",
   "metadata": {},
   "outputs": [
    {
     "name": "stdout",
     "output_type": "stream",
     "text": [
      "size: 12\n"
     ]
    }
   ],
   "source": [
    "print(\"size:\", arr.size)"
   ]
  },
  {
   "cell_type": "markdown",
   "id": "cc1a2550",
   "metadata": {},
   "source": [
    "\n",
    "## Indexing and Slicing\n",
    "Use square brackets to access elements and subarrays.\n"
   ]
  },
  {
   "cell_type": "code",
   "execution_count": 15,
   "id": "a992a5bb",
   "metadata": {},
   "outputs": [
    {
     "name": "stdout",
     "output_type": "stream",
     "text": [
      "x: [0 1 2 3 4 5 6 7 8 9]\n"
     ]
    }
   ],
   "source": [
    "\n",
    "x = np.arange(10)\n",
    "print(\"x:\", x)\n"
   ]
  },
  {
   "cell_type": "code",
   "execution_count": 16,
   "id": "5bf63ee0",
   "metadata": {},
   "outputs": [
    {
     "name": "stdout",
     "output_type": "stream",
     "text": [
      "x[0] = 0\n"
     ]
    }
   ],
   "source": [
    "print(\"x[0] =\", x[0])"
   ]
  },
  {
   "cell_type": "code",
   "execution_count": 17,
   "id": "5696d42a",
   "metadata": {},
   "outputs": [
    {
     "name": "stdout",
     "output_type": "stream",
     "text": [
      "x[2:6] = [2 3 4 5]\n"
     ]
    }
   ],
   "source": [
    "print(\"x[2:6] =\", x[2:6])"
   ]
  },
  {
   "cell_type": "code",
   "execution_count": 18,
   "id": "62e5ad89",
   "metadata": {},
   "outputs": [
    {
     "name": "stdout",
     "output_type": "stream",
     "text": [
      "\n",
      "y =\n",
      " [[ 0  1  2  3]\n",
      " [ 4  5  6  7]\n",
      " [ 8  9 10 11]]\n"
     ]
    }
   ],
   "source": [
    "y = np.arange(12).reshape(3, 4)\n",
    "print(\"\\ny =\\n\", y)"
   ]
  },
  {
   "cell_type": "code",
   "execution_count": 19,
   "id": "f6f2164f",
   "metadata": {},
   "outputs": [
    {
     "name": "stdout",
     "output_type": "stream",
     "text": [
      "y[0, 1] = 1\n"
     ]
    }
   ],
   "source": [
    "print(\"y[0, 1] =\", y[0, 1])"
   ]
  },
  {
   "cell_type": "code",
   "execution_count": 20,
   "id": "74a8188b",
   "metadata": {},
   "outputs": [
    {
     "name": "stdout",
     "output_type": "stream",
     "text": [
      "y[:, 0] = [0 4 8]\n"
     ]
    }
   ],
   "source": [
    "print(\"y[:, 0] =\", y[:, 0])"
   ]
  },
  {
   "cell_type": "code",
   "execution_count": 21,
   "id": "2dd610ea",
   "metadata": {},
   "outputs": [
    {
     "name": "stdout",
     "output_type": "stream",
     "text": [
      "y[1, :] = [4 5 6 7]\n"
     ]
    }
   ],
   "source": [
    "print(\"y[1, :] =\", y[1, :])"
   ]
  },
  {
   "cell_type": "code",
   "execution_count": 22,
   "id": "4f7b288c",
   "metadata": {},
   "outputs": [
    {
     "name": "stdout",
     "output_type": "stream",
     "text": [
      "y[0:2, 1:3] =\n",
      " [[1 2]\n",
      " [5 6]]\n"
     ]
    }
   ],
   "source": [
    "print(\"y[0:2, 1:3] =\\n\", y[0:2, 1:3])"
   ]
  },
  {
   "cell_type": "markdown",
   "id": "713b9c5c",
   "metadata": {},
   "source": [
    "\n",
    "## Elementwise Operations and Broadcasting\n",
    "Vectorized math applies operations to entire arrays without explicit loops.\n"
   ]
  },
  {
   "cell_type": "code",
   "execution_count": 23,
   "id": "31c5de03",
   "metadata": {},
   "outputs": [
    {
     "name": "stdout",
     "output_type": "stream",
     "text": [
      "u + v = [11 12 13 14]\n",
      "u * v = [10 20 30 40]\n",
      "u ** 2 = [ 1  4  9 16]\n"
     ]
    }
   ],
   "source": [
    "\n",
    "u = np.array([1, 2, 3, 4])\n",
    "v = np.array([10, 10, 10, 10])\n",
    "\n",
    "print(\"u + v =\", u + v)\n",
    "print(\"u * v =\", u * v)\n",
    "print(\"u ** 2 =\", u ** 2)"
   ]
  },
  {
   "cell_type": "code",
   "execution_count": 24,
   "id": "35482764",
   "metadata": {},
   "outputs": [
    {
     "name": "stdout",
     "output_type": "stream",
     "text": [
      "u + 5 = [6 7 8 9]\n"
     ]
    }
   ],
   "source": [
    "# Broadcasting with a scalar\n",
    "print(\"u + 5 =\", u + 5)"
   ]
  },
  {
   "cell_type": "code",
   "execution_count": 25,
   "id": "6057a1dc",
   "metadata": {},
   "outputs": [
    {
     "name": "stdout",
     "output_type": "stream",
     "text": [
      "\n",
      "M =\n",
      " [[ 0  1  2  3]\n",
      " [ 4  5  6  7]\n",
      " [ 8  9 10 11]]\n",
      "row = [ 1  0 -1  2]\n"
     ]
    }
   ],
   "source": [
    "# Broadcasting with different shapes\n",
    "M = np.arange(12).reshape(3, 4)\n",
    "row = np.array([1, 0, -1, 2])\n",
    "print(\"\\nM =\\n\", M)\n",
    "print(\"row =\", row)"
   ]
  },
  {
   "cell_type": "code",
   "execution_count": 26,
   "id": "3e5330e7",
   "metadata": {},
   "outputs": [
    {
     "name": "stdout",
     "output_type": "stream",
     "text": [
      "M + row =\n",
      " [[ 1  1  1  5]\n",
      " [ 5  5  5  9]\n",
      " [ 9  9  9 13]]\n"
     ]
    }
   ],
   "source": [
    "print(\"M + row =\\n\", M + row)"
   ]
  },
  {
   "cell_type": "markdown",
   "id": "b36eb59b",
   "metadata": {},
   "source": [
    "\n",
    "## Speed: Vectorization vs. Loops\n",
    "Simple timing to compare Python loops and NumPy vectorization.\n"
   ]
  },
  {
   "cell_type": "code",
   "execution_count": 27,
   "id": "4cd8e493",
   "metadata": {},
   "outputs": [
    {
     "name": "stdout",
     "output_type": "stream",
     "text": [
      "Python list comprehension: 0.9000 sec\n",
      "NumPy vectorized:          0.1095 sec\n"
     ]
    }
   ],
   "source": [
    "\n",
    "import time\n",
    "\n",
    "n = 20_000_000  # 20M elements\n",
    "py_list = list(range(n))\n",
    "\n",
    "# Python loop\n",
    "t0 = time.perf_counter()\n",
    "py_out = [val * 2 for val in py_list]\n",
    "t1 = time.perf_counter()\n",
    "\n",
    "# NumPy vectorized\n",
    "arr = np.arange(n)\n",
    "t2 = time.perf_counter()\n",
    "np_out = arr * 2\n",
    "t3 = time.perf_counter()\n",
    "\n",
    "print(f\"Python list comprehension: {(t1 - t0):.4f} sec\")\n",
    "print(f\"NumPy vectorized:          {(t3 - t2):.4f} sec\")\n"
   ]
  },
  {
   "cell_type": "markdown",
   "id": "40429266",
   "metadata": {},
   "source": [
    "\n",
    "## Reshaping and Stacking\n",
    "Change array shapes and combine arrays along axes.\n"
   ]
  },
  {
   "cell_type": "code",
   "execution_count": 28,
   "id": "e16c3fe1",
   "metadata": {},
   "outputs": [
    {
     "name": "stdout",
     "output_type": "stream",
     "text": [
      "A =\n",
      " [[0 1 2]\n",
      " [3 4 5]]\n",
      "B =\n",
      " [[ 6  7  8]\n",
      " [ 9 10 11]]\n"
     ]
    }
   ],
   "source": [
    "\n",
    "A = np.arange(6).reshape(2, 3)\n",
    "B = np.arange(6, 12).reshape(2, 3)\n",
    "\n",
    "print(\"A =\\n\", A)\n",
    "print(\"B =\\n\", B)\n"
   ]
  },
  {
   "cell_type": "code",
   "execution_count": 29,
   "id": "a14bde0b",
   "metadata": {},
   "outputs": [
    {
     "name": "stdout",
     "output_type": "stream",
     "text": [
      "\n",
      "Concatenate rows (axis=0):\n",
      " [[ 0  1  2]\n",
      " [ 3  4  5]\n",
      " [ 6  7  8]\n",
      " [ 9 10 11]]\n"
     ]
    }
   ],
   "source": [
    "print(\"\\nConcatenate rows (axis=0):\\n\", np.concatenate([A, B], axis=0))"
   ]
  },
  {
   "cell_type": "code",
   "execution_count": 30,
   "id": "ef7f9085",
   "metadata": {},
   "outputs": [
    {
     "name": "stdout",
     "output_type": "stream",
     "text": [
      "\n",
      "Concatenate cols (axis=1):\n",
      " [[ 0  1  2  6  7  8]\n",
      " [ 3  4  5  9 10 11]]\n"
     ]
    }
   ],
   "source": [
    "print(\"\\nConcatenate cols (axis=1):\\n\", np.concatenate([A, B], axis=1))"
   ]
  },
  {
   "cell_type": "code",
   "execution_count": 31,
   "id": "cd17ebab",
   "metadata": {},
   "outputs": [
    {
     "name": "stdout",
     "output_type": "stream",
     "text": [
      "\n",
      "Vertical stack (vstack):\n",
      " [[ 0  1  2]\n",
      " [ 3  4  5]\n",
      " [ 6  7  8]\n",
      " [ 9 10 11]]\n"
     ]
    }
   ],
   "source": [
    "print(\"\\nVertical stack (vstack):\\n\", np.vstack([A, B]))"
   ]
  },
  {
   "cell_type": "code",
   "execution_count": 32,
   "id": "08995bb3",
   "metadata": {},
   "outputs": [
    {
     "name": "stdout",
     "output_type": "stream",
     "text": [
      "\n",
      "Horizontal stack (hstack):\n",
      " [[ 0  1  2  6  7  8]\n",
      " [ 3  4  5  9 10 11]]\n"
     ]
    }
   ],
   "source": [
    "print(\"\\nHorizontal stack (hstack):\\n\", np.hstack([A, B]))"
   ]
  },
  {
   "cell_type": "code",
   "execution_count": 33,
   "id": "bc8b921a",
   "metadata": {},
   "outputs": [
    {
     "name": "stdout",
     "output_type": "stream",
     "text": [
      "\n",
      "Flatten A: [0 1 2 3 4 5]\n"
     ]
    }
   ],
   "source": [
    "print(\"\\nFlatten A:\", A.flatten())"
   ]
  },
  {
   "cell_type": "code",
   "execution_count": 34,
   "id": "7783d9b1",
   "metadata": {},
   "outputs": [
    {
     "name": "stdout",
     "output_type": "stream",
     "text": [
      "B =\n",
      " [[ 6  7  8]\n",
      " [ 9 10 11]]\n",
      "Reshape B to (3, 2):\n",
      " [[ 6  7]\n",
      " [ 8  9]\n",
      " [10 11]]\n"
     ]
    }
   ],
   "source": [
    "print(\"B =\\n\", B)\n",
    "print(\"Reshape B to (3, 2):\\n\", B.reshape(3, 2))"
   ]
  },
  {
   "cell_type": "markdown",
   "id": "007625ef",
   "metadata": {},
   "source": [
    "\n",
    "## Example: Study Hours\n",
    "Rows = students. Columns = weeks. Compute per-student and per-week means.\n"
   ]
  },
  {
   "cell_type": "code",
   "execution_count": 35,
   "id": "45f3086d",
   "metadata": {},
   "outputs": [
    {
     "name": "stdout",
     "output_type": "stream",
     "text": [
      "Hours =\n",
      " [[10 12 14]\n",
      " [ 8  9  7]\n",
      " [15 16 14]\n",
      " [ 6  5  7]\n",
      " [12 11 13]]\n",
      "\n",
      "Average per student: [12.  8. 15.  6. 12.]\n",
      "Average per week: [10.2 10.6 11. ]\n"
     ]
    }
   ],
   "source": [
    "\n",
    "hours = np.array([\n",
    "    [10, 12, 14],\n",
    "    [8, 9, 7],\n",
    "    [15, 16, 14],\n",
    "    [6, 5, 7],\n",
    "    [12, 11, 13]\n",
    "])\n",
    "\n",
    "print(\"Hours =\\n\", hours)\n",
    "per_student = hours.mean(axis=1)\n",
    "per_week = hours.mean(axis=0)\n",
    "\n",
    "print(\"\\nAverage per student:\", per_student)\n",
    "print(\"Average per week:\", per_week)\n"
   ]
  },
  {
   "cell_type": "markdown",
   "id": "e909a5ce",
   "metadata": {},
   "source": [
    "\n",
    "## Summary\n",
    "- Arrays are fast and memory-efficient for numerical data.\n",
    "- Key skills: creation, inspection, indexing, broadcasting, reshaping, stacking.\n",
    "- This prepares you for tabular data with Pandas.\n"
   ]
  }
 ],
 "metadata": {
  "kernelspec": {
   "display_name": "Python 3",
   "language": "python",
   "name": "python3"
  },
  "language_info": {
   "codemirror_mode": {
    "name": "ipython",
    "version": 3
   },
   "file_extension": ".py",
   "mimetype": "text/x-python",
   "name": "python",
   "nbconvert_exporter": "python",
   "pygments_lexer": "ipython3",
   "version": "3.12.1"
  }
 },
 "nbformat": 4,
 "nbformat_minor": 5
}
