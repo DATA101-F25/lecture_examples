{
 "cells": [
  {
   "cell_type": "markdown",
   "metadata": {},
   "source": [
    "# 00 – Environment Check\n",
    "Run each cell. Then add a new cell that prints your name.\n"
   ]
  },
  {
   "cell_type": "code",
   "execution_count": 1,
   "metadata": {},
   "outputs": [
    {
     "name": "stdout",
     "output_type": "stream",
     "text": [
      "Hello, DATA 101!\n"
     ]
    }
   ],
   "source": [
    "print(\"Hello, DATA 101!\")"
   ]
  },
  {
   "cell_type": "markdown",
   "id": "c2d69eb6",
   "metadata": {},
   "source": [
    "## Data Types"
   ]
  },
  {
   "cell_type": "code",
   "execution_count": 2,
   "metadata": {},
   "outputs": [
    {
     "name": "stdout",
     "output_type": "stream",
     "text": [
      "Name: Alex\n",
      "Age: 19\n",
      "GPA: 3.7\n"
     ]
    }
   ],
   "source": [
    "name = \"Alex\"\n",
    "age = 19\n",
    "gpa = 3.7\n",
    "print(\"Name:\", name)\n",
    "print(\"Age:\", age)\n",
    "print(\"GPA:\", gpa)"
   ]
  },
  {
   "cell_type": "code",
   "execution_count": 3,
   "id": "cf8d355f",
   "metadata": {},
   "outputs": [
    {
     "name": "stdout",
     "output_type": "stream",
     "text": [
      "<class 'str'>\n"
     ]
    }
   ],
   "source": [
    "print(type(name))"
   ]
  },
  {
   "cell_type": "code",
   "execution_count": 4,
   "id": "2a52462f",
   "metadata": {},
   "outputs": [
    {
     "name": "stdout",
     "output_type": "stream",
     "text": [
      "<class 'int'>\n"
     ]
    }
   ],
   "source": [
    "print(type(age))"
   ]
  },
  {
   "cell_type": "code",
   "execution_count": 5,
   "id": "9516d2d3",
   "metadata": {},
   "outputs": [
    {
     "name": "stdout",
     "output_type": "stream",
     "text": [
      "<class 'float'>\n"
     ]
    }
   ],
   "source": [
    "print(type(gpa))"
   ]
  },
  {
   "cell_type": "code",
   "execution_count": 6,
   "id": "fd541452",
   "metadata": {},
   "outputs": [
    {
     "name": "stdout",
     "output_type": "stream",
     "text": [
      "Hello A\n",
      "Hello B\n",
      "Hello C\n"
     ]
    }
   ],
   "source": [
    "students = [\"A\", \"B\", \"C\"]\n",
    "\n",
    "for s in students:\n",
    "    print(\"Hello\", s)"
   ]
  },
  {
   "cell_type": "code",
   "execution_count": 7,
   "id": "731b8bf1",
   "metadata": {},
   "outputs": [
    {
     "name": "stdout",
     "output_type": "stream",
     "text": [
      "<class 'list'>\n"
     ]
    }
   ],
   "source": [
    "print(type(students))"
   ]
  },
  {
   "cell_type": "markdown",
   "id": "118130d9",
   "metadata": {},
   "source": [
    "## Simple Arithmetic"
   ]
  },
  {
   "cell_type": "code",
   "execution_count": 8,
   "metadata": {},
   "outputs": [
    {
     "name": "stdout",
     "output_type": "stream",
     "text": [
      "7 hours = 420 minutes\n"
     ]
    }
   ],
   "source": [
    "hours = 7\n",
    "minutes = hours * 60\n",
    "\n",
    "print(f\"{hours} hours = {minutes} minutes\")"
   ]
  },
  {
   "cell_type": "markdown",
   "id": "a882447e",
   "metadata": {},
   "source": [
    "## Conditionals"
   ]
  },
  {
   "cell_type": "code",
   "execution_count": 9,
   "id": "43e5905f",
   "metadata": {},
   "outputs": [
    {
     "name": "stdout",
     "output_type": "stream",
     "text": [
      "Less than 4 hours!\n"
     ]
    }
   ],
   "source": [
    "hours = 3.2\n",
    "minutes = hours * 60\n",
    "if minutes > 240:\n",
    "    print(\"More than 4 hours!\")\n",
    "else:\n",
    "    print(\"Less than 4 hours!\")"
   ]
  },
  {
   "cell_type": "markdown",
   "id": "267c1d7c",
   "metadata": {},
   "source": [
    "## Functions"
   ]
  },
  {
   "cell_type": "code",
   "execution_count": 10,
   "metadata": {},
   "outputs": [
    {
     "name": "stdout",
     "output_type": "stream",
     "text": [
      "Square of 5 = 25\n"
     ]
    }
   ],
   "source": [
    "def square(x):\n",
    "    return x * x\n",
    "\n",
    "print(\"Square of 5 =\", square(5))"
   ]
  }
 ],
 "metadata": {
  "kernelspec": {
   "display_name": "Python 3",
   "language": "python",
   "name": "python3"
  },
  "language_info": {
   "codemirror_mode": {
    "name": "ipython",
    "version": 3
   },
   "file_extension": ".py",
   "mimetype": "text/x-python",
   "name": "python",
   "nbconvert_exporter": "python",
   "pygments_lexer": "ipython3",
   "version": "3.12.1"
  }
 },
 "nbformat": 4,
 "nbformat_minor": 5
}
