{
  "cells": [
    {
      "cell_type": "markdown",
      "metadata": {},
      "source": [
        "# DATA 101 — Module 4 Assignment: Programming Basics\n",
        "\n",
        "Complete the tasks below in the cells labeled **ASSIGNMENT CELL**. Do not change function names or variable names.\n",
        "When finished, run all cells to check local asserts, then commit and push.\n",
        "\n",
        "### Learning goals\n",
        "- Practice variables, lists, dictionaries, sets\n",
        "- Use conditionals and loops\n",
        "- Write small, pure functions\n",
        "- Run and submit via GitHub Classroom\n",
        "\n",
        "### What to submit\n",
        "- Commit this notebook to your assignment repository. No other files are needed.\n",
        "- Autograder will execute this notebook and run tests on your code.\n"
      ]
    },
    {
      "cell_type": "markdown",
      "metadata": {},
      "source": [
        "### Grading rubric (100 pts total)\n",
        "- Q1 Variables: 10 pt  \n",
        "- Q2 Lists: 20 pts  \n",
        "- Q3 Dictionaries: 20 pts  \n",
        "- Q4 Sets: 10 pt  \n",
        "- Q5 Conditionals: 10 pt  \n",
        "- Q6 Loops: 30 pt  "
      ]
    },
    {
      "cell_type": "markdown",
      "metadata": {},
      "source": [
        "## Q1 — Variables\n",
        "Create simple variables with the requested types.\n",
        "- `my_name` (str)\n",
        "- `credits` (int)\n",
        "- `pi_approx` (float)\n",
        "- `is_cs_major` (bool)\n"
      ]
    },
    {
      "cell_type": "code",
      "execution_count": 1,
      "metadata": {},
      "outputs": [],
      "source": [
        "# ASSIGNMENT CELL: Q1\n",
        "# Define the variables with reasonable example values.\n",
        "my_name = \"MJ\"\n",
        "credits = 10\n",
        "pi_approx = 3.1\n",
        "is_cs_major = False"
      ]
    },
    {
      "cell_type": "code",
      "execution_count": 4,
      "id": "723a88a6",
      "metadata": {},
      "outputs": [],
      "source": [
        "# Local sanity checks (won't affect grading, but helpful)\n",
        "assert isinstance(my_name, str)\n",
        "assert isinstance(credits, int)\n",
        "assert isinstance(pi_approx, float)\n",
        "assert isinstance(is_cs_major, bool)"
      ]
    },
    {
      "cell_type": "markdown",
      "metadata": {},
      "source": [
        "## Q2 — Lists\n",
        "- Start from scores = [90, 85, 78, 90, 47]  \n",
        "- Append 100, remove 47  \n",
        "- Write a function `average(nums)` that returns the arithmetic mean (float)\n"
      ]
    },
    {
      "cell_type": "code",
      "execution_count": 2,
      "metadata": {},
      "outputs": [],
      "source": [
        "# ASSIGNMENT CELL: Q2\n",
        "scores = [90,85,78,90,47]\n",
        "scores.append(100)\n",
        "scores.remove(47)\n",
        "\n",
        "def average(nums):\n",
        "    avg = sum(nums)/len(nums)\n",
        "    return avg"
      ]
    },
    {
      "cell_type": "code",
      "execution_count": 3,
      "id": "52b2e38b",
      "metadata": {},
      "outputs": [],
      "source": [
        "# Local sanity checks\n",
        "assert scores[-1] == 100\n",
        "assert 47 not in scores\n",
        "assert round(average([1,2,3]), 2) == 2.00"
      ]
    },
    {
      "cell_type": "markdown",
      "metadata": {},
      "source": [
        "## Q3 — Dictionaries\n",
        "- Create a dictionary named `student` with keys: `\"name\"` (str), `\"gpa\"` (float), `\"courses\"` (list of str)  \n",
        "- Then update `\"gpa\"` to `3.7`.  \n",
        "- Write `get_course_count(d)` returning the number of courses.  \n"
      ]
    },
    {
      "cell_type": "code",
      "execution_count": 3,
      "metadata": {},
      "outputs": [],
      "source": [
        "# ASSIGNMENT CELL: Q3\n",
        "student = {\"name\": \"AA\", \"gpa\": \"3.2\", \"courses\": [\"a\", \"b\"]}\n",
        "student[\"gpa\"] = 3.7\n",
        "\n",
        "def get_course_count(d):\n",
        "    n = len(d[\"courses\"])\n",
        "    return n"
      ]
    },
    {
      "cell_type": "code",
      "execution_count": 4,
      "id": "f837a696",
      "metadata": {},
      "outputs": [],
      "source": [
        "# Local sanity checks\n",
        "assert isinstance(student, dict)\n",
        "assert abs(student[\"gpa\"] - 3.7) < 1e-9\n",
        "assert get_course_count({\"courses\": [\"a\",\"b\"]}) == 2"
      ]
    },
    {
      "cell_type": "markdown",
      "metadata": {},
      "source": [
        "## Q4 — Sets\n",
        "- Create a set `majors` from the list `[\"CS\", \"Math\", \"CS\"]`.  \n",
        "- Define another set `other = {\"Physics\", \"Math\"}`.  \n",
        "- Compute `both = majors & other` and `either = majors | other`.\n"
      ]
    },
    {
      "cell_type": "code",
      "execution_count": 5,
      "metadata": {},
      "outputs": [],
      "source": [
        "# ASSIGNMENT CELL: Q4\n",
        "majors = set([\"CS\",\"Math\", \"CS\"])\n",
        "other = {\"Physics\", \"Math\"}\n",
        "both = majors & other\n",
        "either = majors | other"
      ]
    },
    {
      "cell_type": "code",
      "execution_count": 6,
      "id": "64a1454f",
      "metadata": {},
      "outputs": [],
      "source": [
        "# Local sanity checks\n",
        "assert majors == {\"CS\", \"Math\"}\n",
        "assert both == {\"Math\"}\n",
        "assert either == {\"CS\", \"Math\", \"Physics\"}"
      ]
    },
    {
      "cell_type": "markdown",
      "metadata": {},
      "source": [
        "## Q5 — Conditionals\n",
        "- Write `is_adult(age)` that returns True if `age >= 18`, else False.\n"
      ]
    },
    {
      "cell_type": "code",
      "execution_count": 7,
      "metadata": {},
      "outputs": [],
      "source": [
        "# ASSIGNMENT CELL: Q5\n",
        "def is_adult(age):\n",
        "    return True if age >= 18 else False"
      ]
    },
    {
      "cell_type": "code",
      "execution_count": 8,
      "id": "37ad62e7",
      "metadata": {},
      "outputs": [],
      "source": [
        "# Local sanity checks\n",
        "assert is_adult(18) is True\n",
        "assert is_adult(17) is False"
      ]
    },
    {
      "cell_type": "markdown",
      "metadata": {},
      "source": [
        "## Q6 — Loops\n",
        "- Write `count_vowels(s)` that returns the number of vowels a,e,i,o,u in string `s`.\n",
        "- It should be case-insensitive. Hint: You can use `s.lower()` to change the string `s` to lowercase.\n"
      ]
    },
    {
      "cell_type": "code",
      "execution_count": 9,
      "metadata": {},
      "outputs": [],
      "source": [
        "# ASSIGNMENT CELL: Q6\n",
        "def count_vowels(s):\n",
        "    count = 0\n",
        "    vowels = [\"a\", \"e\", \"i\", \"o\", \"u\"]\n",
        "    for c in s.lower():\n",
        "        if c in vowels:\n",
        "            count += 1\n",
        "    return count"
      ]
    },
    {
      "cell_type": "code",
      "execution_count": 10,
      "id": "135709a4",
      "metadata": {},
      "outputs": [],
      "source": [
        "# Local sanity checks\n",
        "assert count_vowels(\"Data\") == 2\n",
        "assert count_vowels(\"xyz\") == 0"
      ]
    },
    {
      "cell_type": "markdown",
      "metadata": {},
      "source": [
        "---\n",
        "### Submission reminder\n",
        "- Save, commit, and git push.\n",
        "- Verify your latest commit appears on GitHub.\n"
      ]
    }
  ],
  "metadata": {
    "kernelspec": {
      "display_name": "Python 3",
      "language": "python",
      "name": "python3"
    },
    "language_info": {
      "codemirror_mode": {
        "name": "ipython",
        "version": 3
      },
      "file_extension": ".py",
      "mimetype": "text/x-python",
      "name": "python",
      "nbconvert_exporter": "python",
      "pygments_lexer": "ipython3",
      "version": "3.12.11"
    }
  },
  "nbformat": 4,
  "nbformat_minor": 5
}
