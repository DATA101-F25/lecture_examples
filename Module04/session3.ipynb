{
 "cells": [
  {
   "cell_type": "markdown",
   "metadata": {},
   "source": [
    "# Module 4 · Session 3 — Lists, Dictionaries, and Sets\n",
    "\n",
    "In this session you will practice manipulating Python collections:\n",
    "- Create empty lists, dictionaries, and sets\n",
    "- Add, update, and remove elements\n",
    "- Iterate through them\n",
    "- Combine them to represent small datasets\n"
   ]
  },
  {
   "cell_type": "markdown",
   "metadata": {},
   "source": [
    "## 1. Lists"
   ]
  },
  {
   "cell_type": "code",
   "execution_count": null,
   "metadata": {},
   "outputs": [],
   "source": [
    "# Empty list\n",
    "scores = []\n",
    "print(\"Empty list:\", scores)"
   ]
  },
  {
   "cell_type": "code",
   "execution_count": null,
   "id": "51a56cce",
   "metadata": {},
   "outputs": [],
   "source": [
    "# Add elements\n",
    "scores.append(85)\n",
    "scores.append(90)\n",
    "scores.append(78)\n",
    "print(\"After appending:\", scores)"
   ]
  },
  {
   "cell_type": "code",
   "execution_count": null,
   "id": "21991819",
   "metadata": {},
   "outputs": [],
   "source": [
    "# Remove an element\n",
    "scores.remove(90)\n",
    "print(\"After removing:\", scores)"
   ]
  },
  {
   "cell_type": "code",
   "execution_count": null,
   "id": "de4f82df",
   "metadata": {},
   "outputs": [],
   "source": [
    "# add multiple elements\n",
    "scores.extend([10,48,34])\n",
    "print(\"After extending:\", scores)"
   ]
  },
  {
   "cell_type": "code",
   "execution_count": null,
   "id": "37ae0ec5",
   "metadata": {},
   "outputs": [],
   "source": [
    "# Access elements\n",
    "print(\"First element:\", scores[0])"
   ]
  },
  {
   "cell_type": "code",
   "execution_count": null,
   "id": "84c0b0d8",
   "metadata": {},
   "outputs": [],
   "source": [
    "# Sort\n",
    "scores.sort()\n",
    "print(\"Sorted:\", scores)"
   ]
  },
  {
   "cell_type": "code",
   "execution_count": null,
   "metadata": {},
   "outputs": [],
   "source": [
    "# Compute summary values: count, min, max, average\n",
    "count = len(scores)\n",
    "minimum = min(scores)\n",
    "maximum = max(scores)\n",
    "count, minimum, maximum"
   ]
  },
  {
   "cell_type": "code",
   "execution_count": null,
   "id": "ffddd8eb",
   "metadata": {},
   "outputs": [],
   "source": [
    "# Average\n",
    "avg = sum(scores) / len(scores)\n",
    "print(\"Average:\", avg)"
   ]
  },
  {
   "cell_type": "markdown",
   "metadata": {},
   "source": [
    "## 2. Dictionaries"
   ]
  },
  {
   "cell_type": "code",
   "execution_count": null,
   "metadata": {},
   "outputs": [],
   "source": [
    "# Empty dictionary\n",
    "student = {}\n",
    "print(\"Empty dict:\", student)"
   ]
  },
  {
   "cell_type": "code",
   "execution_count": null,
   "id": "8110ab0e",
   "metadata": {},
   "outputs": [],
   "source": [
    "# Add key/value pairs\n",
    "student[\"name\"] = \"Alex\"\n",
    "student[\"gpa\"] = 3.2\n",
    "student[\"hours\"] = 6\n",
    "print(\"Populated dict:\", student)"
   ]
  },
  {
   "cell_type": "code",
   "execution_count": null,
   "id": "c7922ae4",
   "metadata": {},
   "outputs": [],
   "source": [
    "# Update value\n",
    "student[\"gpa\"] = 3.5\n",
    "print(\"Updated GPA:\", student)"
   ]
  },
  {
   "cell_type": "code",
   "execution_count": null,
   "id": "0bb60417",
   "metadata": {},
   "outputs": [],
   "source": [
    "# Access value\n",
    "print(\"Name only:\", student[\"name\"])"
   ]
  },
  {
   "cell_type": "code",
   "execution_count": null,
   "id": "925f93e8",
   "metadata": {},
   "outputs": [],
   "source": [
    "# Iterate\n",
    "for key, value in student.items():\n",
    "    print(key, \":\", value)"
   ]
  },
  {
   "cell_type": "code",
   "execution_count": null,
   "id": "0bff694d",
   "metadata": {},
   "outputs": [],
   "source": [
    "# Iterate\n",
    "for key in student.keys():\n",
    "    print(key)"
   ]
  },
  {
   "cell_type": "code",
   "execution_count": null,
   "id": "fde707b0",
   "metadata": {},
   "outputs": [],
   "source": [
    "# Iterate\n",
    "for key in student.values():\n",
    "    print(key)"
   ]
  },
  {
   "cell_type": "markdown",
   "metadata": {},
   "source": [
    "## 3. Sets\n",
    "\n",
    "**Empty set**:\n",
    "```python\n",
    "majors = set()\n",
    "```\n",
    "⚠️ `{}` makes an empty dict, not a set."
   ]
  },
  {
   "cell_type": "code",
   "execution_count": null,
   "id": "a858c388",
   "metadata": {},
   "outputs": [],
   "source": [
    "# Empty set\n",
    "majors = set()\n",
    "print(\"Empty set:\", majors)"
   ]
  },
  {
   "cell_type": "code",
   "execution_count": null,
   "id": "a30207ab",
   "metadata": {},
   "outputs": [],
   "source": [
    "# Add elements\n",
    "majors.add(\"Math\")\n",
    "majors.add(\"CS\")\n",
    "majors.add(\"Math\")  # duplicate ignored\n",
    "majors.add(\"Biology\")\n",
    "print(\"Set with duplicates added:\", majors)"
   ]
  },
  {
   "cell_type": "code",
   "execution_count": null,
   "id": "beebc883",
   "metadata": {},
   "outputs": [],
   "source": [
    "# remove and discard\n",
    "majors.remove(\"Math\")\n",
    "print(\"Set after remove:\", majors)"
   ]
  },
  {
   "cell_type": "code",
   "execution_count": null,
   "id": "1a4bd2b8",
   "metadata": {},
   "outputs": [],
   "source": [
    "# remove and discard\n",
    "majors.remove(\"Math\")\n",
    "print(\"Set after remove:\", majors)"
   ]
  },
  {
   "cell_type": "code",
   "execution_count": null,
   "id": "57d52e6e",
   "metadata": {},
   "outputs": [],
   "source": [
    "# remove and discard\n",
    "majors.discard(\"Math\")\n",
    "print(\"Set after remove:\", majors)"
   ]
  },
  {
   "cell_type": "code",
   "execution_count": null,
   "id": "91d0c966",
   "metadata": {},
   "outputs": [],
   "source": [
    "# Set operations\n",
    "a = {\"Alex\", \"Sam\", \"Riley\"}\n",
    "b = {\"Sam\", \"Maya\", \"Jordan\"}\n",
    "print(\"Union:\", a | b)\n",
    "print(\"Intersection:\", a & b)\n",
    "print(\"A only:\", a - b)"
   ]
  },
  {
   "cell_type": "markdown",
   "metadata": {},
   "source": [
    "## 4. Mini Dataset (list of dicts)\n",
    "This is how we can represent records before using Pandas."
   ]
  },
  {
   "cell_type": "code",
   "execution_count": null,
   "metadata": {},
   "outputs": [],
   "source": [
    "students = [\n",
    "    {\"name\": \"Alex\", \"hours\": 6, \"gpa\": 3.2},\n",
    "    {\"name\": \"Maya\", \"hours\": 8, \"gpa\": 3.7},\n",
    "    {\"name\": \"Sam\",  \"hours\": 7, \"gpa\": 3.2},\n",
    "]"
   ]
  },
  {
   "cell_type": "code",
   "execution_count": null,
   "metadata": {},
   "outputs": [],
   "source": [
    "# Print each student's name and GPA\n",
    "for s in students:\n",
    "    print(s[\"name\"], \"has GPA\", s[\"gpa\"])"
   ]
  },
  {
   "cell_type": "code",
   "execution_count": null,
   "metadata": {},
   "outputs": [],
   "source": [
    "# Average GPA\n",
    "avg_gpa = sum(s[\"gpa\"] for s in students) / len(students)\n",
    "print(\"Average GPA:\", avg_gpa)"
   ]
  },
  {
   "cell_type": "code",
   "execution_count": null,
   "metadata": {},
   "outputs": [],
   "source": [
    "# Add a new field (minutes studied)\n",
    "def hours_to_minutes(h):\n",
    "    return h * 60\n",
    "\n",
    "for s in students:\n",
    "    s[\"minutes\"] = hours_to_minutes(s[\"hours\"])\n",
    "\n",
    "print(\"With minutes added:\", students)"
   ]
  },
  {
   "cell_type": "code",
   "execution_count": null,
   "metadata": {},
   "outputs": [],
   "source": [
    "# Unique GPAs\n",
    "unique_gpas = set(s[\"gpa\"] for s in students)\n",
    "print(\"Unique GPAs:\", unique_gpas)"
   ]
  }
 ],
 "metadata": {
  "kernelspec": {
   "display_name": "Python 3",
   "language": "python",
   "name": "python3"
  },
  "language_info": {
   "codemirror_mode": {
    "name": "ipython",
    "version": 3
   },
   "file_extension": ".py",
   "mimetype": "text/x-python",
   "name": "python",
   "nbconvert_exporter": "python",
   "pygments_lexer": "ipython3",
   "version": "3.12.1"
  }
 },
 "nbformat": 4,
 "nbformat_minor": 5
}
