{
 "cells": [
  {
   "cell_type": "markdown",
   "metadata": {},
   "source": [
    "# Module 4 · Session 3 — Lists, Dictionaries, and Sets\n",
    "\n",
    "In this session you will practice manipulating Python collections:\n",
    "- Create empty lists, dictionaries, and sets\n",
    "- Add, update, and remove elements\n",
    "- Iterate through them\n",
    "- Combine them to represent small datasets\n"
   ]
  },
  {
   "cell_type": "markdown",
   "metadata": {},
   "source": [
    "## 1. Lists"
   ]
  },
  {
   "cell_type": "code",
   "execution_count": 1,
   "metadata": {},
   "outputs": [
    {
     "name": "stdout",
     "output_type": "stream",
     "text": [
      "Empty list: []\n"
     ]
    }
   ],
   "source": [
    "# Empty list\n",
    "scores = []\n",
    "print(\"Empty list:\", scores)"
   ]
  },
  {
   "cell_type": "code",
   "execution_count": 2,
   "id": "51a56cce",
   "metadata": {},
   "outputs": [
    {
     "name": "stdout",
     "output_type": "stream",
     "text": [
      "After appending: [85, 90, 78]\n"
     ]
    }
   ],
   "source": [
    "# Add elements\n",
    "scores.append(85)\n",
    "scores.append(90)\n",
    "scores.append(78)\n",
    "print(\"After appending:\", scores)"
   ]
  },
  {
   "cell_type": "code",
   "execution_count": 3,
   "id": "21991819",
   "metadata": {},
   "outputs": [
    {
     "name": "stdout",
     "output_type": "stream",
     "text": [
      "After removing: [85, 78]\n"
     ]
    }
   ],
   "source": [
    "# Remove an element\n",
    "scores.remove(90)\n",
    "print(\"After removing:\", scores)"
   ]
  },
  {
   "cell_type": "code",
   "execution_count": null,
   "id": "de4f82df",
   "metadata": {},
   "outputs": [
    {
     "name": "stdout",
     "output_type": "stream",
     "text": [
      "After extending: [85, 78, 10, 48, 34]\n"
     ]
    }
   ],
   "source": [
    "# add multiple elements\n",
    "scores.extend([10,48,34])\n",
    "print(\"After extending:\", scores)"
   ]
  },
  {
   "cell_type": "code",
   "execution_count": 8,
   "id": "37ae0ec5",
   "metadata": {},
   "outputs": [
    {
     "name": "stdout",
     "output_type": "stream",
     "text": [
      "First element: 85\n"
     ]
    }
   ],
   "source": [
    "# Access elements\n",
    "print(\"First element:\", scores[0])"
   ]
  },
  {
   "cell_type": "code",
   "execution_count": 9,
   "id": "84c0b0d8",
   "metadata": {},
   "outputs": [
    {
     "name": "stdout",
     "output_type": "stream",
     "text": [
      "Sorted: [10, 34, 48, 78, 85]\n"
     ]
    }
   ],
   "source": [
    "# Sort\n",
    "scores.sort()\n",
    "print(\"Sorted:\", scores)"
   ]
  },
  {
   "cell_type": "code",
   "execution_count": 10,
   "metadata": {},
   "outputs": [
    {
     "data": {
      "text/plain": [
       "(5, 10, 85)"
      ]
     },
     "execution_count": 10,
     "metadata": {},
     "output_type": "execute_result"
    }
   ],
   "source": [
    "# Compute summary values: count, min, max, average\n",
    "count = len(scores)\n",
    "minimum = min(scores)\n",
    "maximum = max(scores)\n",
    "count, minimum, maximum"
   ]
  },
  {
   "cell_type": "code",
   "execution_count": 11,
   "id": "ffddd8eb",
   "metadata": {},
   "outputs": [
    {
     "name": "stdout",
     "output_type": "stream",
     "text": [
      "Average: 51.0\n"
     ]
    }
   ],
   "source": [
    "# Average\n",
    "avg = sum(scores) / len(scores)\n",
    "print(\"Average:\", avg)"
   ]
  },
  {
   "cell_type": "markdown",
   "metadata": {},
   "source": [
    "## 2. Dictionaries"
   ]
  },
  {
   "cell_type": "code",
   "execution_count": 12,
   "metadata": {},
   "outputs": [
    {
     "name": "stdout",
     "output_type": "stream",
     "text": [
      "Empty dict: {}\n"
     ]
    }
   ],
   "source": [
    "# Empty dictionary\n",
    "student = {}\n",
    "print(\"Empty dict:\", student)"
   ]
  },
  {
   "cell_type": "code",
   "execution_count": 13,
   "id": "8110ab0e",
   "metadata": {},
   "outputs": [
    {
     "name": "stdout",
     "output_type": "stream",
     "text": [
      "Populated dict: {'name': 'Alex', 'gpa': 3.2, 'hours': 6}\n"
     ]
    }
   ],
   "source": [
    "# Add key/value pairs\n",
    "student[\"name\"] = \"Alex\"\n",
    "student[\"gpa\"] = 3.2\n",
    "student[\"hours\"] = 6\n",
    "print(\"Populated dict:\", student)"
   ]
  },
  {
   "cell_type": "code",
   "execution_count": 14,
   "id": "c7922ae4",
   "metadata": {},
   "outputs": [
    {
     "name": "stdout",
     "output_type": "stream",
     "text": [
      "Updated GPA: {'name': 'Alex', 'gpa': 3.5, 'hours': 6}\n"
     ]
    }
   ],
   "source": [
    "# Update value\n",
    "student[\"gpa\"] = 3.5\n",
    "print(\"Updated GPA:\", student)"
   ]
  },
  {
   "cell_type": "code",
   "execution_count": 15,
   "id": "0bb60417",
   "metadata": {},
   "outputs": [
    {
     "name": "stdout",
     "output_type": "stream",
     "text": [
      "Name only: Alex\n"
     ]
    }
   ],
   "source": [
    "# Access value\n",
    "print(\"Name only:\", student[\"name\"])"
   ]
  },
  {
   "cell_type": "code",
   "execution_count": 16,
   "id": "925f93e8",
   "metadata": {},
   "outputs": [
    {
     "name": "stdout",
     "output_type": "stream",
     "text": [
      "name : Alex\n",
      "gpa : 3.5\n",
      "hours : 6\n"
     ]
    }
   ],
   "source": [
    "# Iterate\n",
    "for key, value in student.items():\n",
    "    print(key, \":\", value)"
   ]
  },
  {
   "cell_type": "code",
   "execution_count": 17,
   "id": "0bff694d",
   "metadata": {},
   "outputs": [
    {
     "name": "stdout",
     "output_type": "stream",
     "text": [
      "name\n",
      "gpa\n",
      "hours\n"
     ]
    }
   ],
   "source": [
    "# Iterate\n",
    "for key in student.keys():\n",
    "    print(key)"
   ]
  },
  {
   "cell_type": "code",
   "execution_count": 18,
   "id": "fde707b0",
   "metadata": {},
   "outputs": [
    {
     "name": "stdout",
     "output_type": "stream",
     "text": [
      "Alex\n",
      "3.5\n",
      "6\n"
     ]
    }
   ],
   "source": [
    "# Iterate\n",
    "for key in student.values():\n",
    "    print(key)"
   ]
  },
  {
   "cell_type": "markdown",
   "metadata": {},
   "source": [
    "## 3. Sets\n",
    "\n",
    "**Empty set**:\n",
    "```python\n",
    "majors = set()\n",
    "```\n",
    "⚠️ `{}` makes an empty dict, not a set."
   ]
  },
  {
   "cell_type": "code",
   "execution_count": 19,
   "id": "a858c388",
   "metadata": {},
   "outputs": [
    {
     "name": "stdout",
     "output_type": "stream",
     "text": [
      "Empty set: set()\n"
     ]
    }
   ],
   "source": [
    "# Empty set\n",
    "majors = set()\n",
    "print(\"Empty set:\", majors)"
   ]
  },
  {
   "cell_type": "code",
   "execution_count": 20,
   "id": "a30207ab",
   "metadata": {},
   "outputs": [
    {
     "name": "stdout",
     "output_type": "stream",
     "text": [
      "Set with duplicates added: {'Math', 'Biology', 'CS'}\n"
     ]
    }
   ],
   "source": [
    "# Add elements\n",
    "majors.add(\"Math\")\n",
    "majors.add(\"CS\")\n",
    "majors.add(\"Math\")  # duplicate ignored\n",
    "majors.add(\"Biology\")\n",
    "print(\"Set with duplicates added:\", majors)"
   ]
  },
  {
   "cell_type": "code",
   "execution_count": 21,
   "id": "beebc883",
   "metadata": {},
   "outputs": [
    {
     "name": "stdout",
     "output_type": "stream",
     "text": [
      "Set after remove: {'Biology', 'CS'}\n"
     ]
    }
   ],
   "source": [
    "# remove and discard\n",
    "majors.remove(\"Math\")\n",
    "print(\"Set after remove:\", majors)"
   ]
  },
  {
   "cell_type": "code",
   "execution_count": 22,
   "id": "1a4bd2b8",
   "metadata": {},
   "outputs": [
    {
     "ename": "KeyError",
     "evalue": "'Math'",
     "output_type": "error",
     "traceback": [
      "\u001b[31m---------------------------------------------------------------------------\u001b[39m",
      "\u001b[31mKeyError\u001b[39m                                  Traceback (most recent call last)",
      "\u001b[36mCell\u001b[39m\u001b[36m \u001b[39m\u001b[32mIn[22]\u001b[39m\u001b[32m, line 2\u001b[39m\n\u001b[32m      1\u001b[39m \u001b[38;5;66;03m# remove and discard\u001b[39;00m\n\u001b[32m----> \u001b[39m\u001b[32m2\u001b[39m \u001b[43mmajors\u001b[49m\u001b[43m.\u001b[49m\u001b[43mremove\u001b[49m\u001b[43m(\u001b[49m\u001b[33;43m\"\u001b[39;49m\u001b[33;43mMath\u001b[39;49m\u001b[33;43m\"\u001b[39;49m\u001b[43m)\u001b[49m\n\u001b[32m      3\u001b[39m \u001b[38;5;28mprint\u001b[39m(\u001b[33m\"\u001b[39m\u001b[33mSet after remove:\u001b[39m\u001b[33m\"\u001b[39m, majors)\n",
      "\u001b[31mKeyError\u001b[39m: 'Math'"
     ]
    }
   ],
   "source": [
    "# remove and discard\n",
    "majors.remove(\"Math\")\n",
    "print(\"Set after remove:\", majors)"
   ]
  },
  {
   "cell_type": "code",
   "execution_count": 23,
   "id": "57d52e6e",
   "metadata": {},
   "outputs": [
    {
     "name": "stdout",
     "output_type": "stream",
     "text": [
      "Set after remove: {'Biology', 'CS'}\n"
     ]
    }
   ],
   "source": [
    "# remove and discard\n",
    "majors.discard(\"Math\")\n",
    "print(\"Set after remove:\", majors)"
   ]
  },
  {
   "cell_type": "code",
   "execution_count": 24,
   "id": "91d0c966",
   "metadata": {},
   "outputs": [],
   "source": [
    "# Set operations\n",
    "a = {\"Alex\", \"Sam\", \"Riley\"}\n",
    "b = {\"Sam\", \"Maya\", \"Jordan\"}"
   ]
  },
  {
   "cell_type": "code",
   "execution_count": 25,
   "id": "6f48c0a6",
   "metadata": {},
   "outputs": [
    {
     "name": "stdout",
     "output_type": "stream",
     "text": [
      "Union: {'Sam', 'Maya', 'Riley', 'Alex', 'Jordan'}\n"
     ]
    }
   ],
   "source": [
    "print(\"Union:\", a | b)"
   ]
  },
  {
   "cell_type": "code",
   "execution_count": 26,
   "id": "b20fd595",
   "metadata": {},
   "outputs": [
    {
     "name": "stdout",
     "output_type": "stream",
     "text": [
      "Intersection: {'Sam'}\n"
     ]
    }
   ],
   "source": [
    "print(\"Intersection:\", a & b)"
   ]
  },
  {
   "cell_type": "code",
   "execution_count": 27,
   "id": "c6881667",
   "metadata": {},
   "outputs": [
    {
     "name": "stdout",
     "output_type": "stream",
     "text": [
      "A only: {'Riley', 'Alex'}\n"
     ]
    }
   ],
   "source": [
    "print(\"A only:\", a - b)"
   ]
  },
  {
   "cell_type": "markdown",
   "metadata": {},
   "source": [
    "## 4. Mini Dataset (list of dicts)\n",
    "This is how we can represent records before using Pandas."
   ]
  },
  {
   "cell_type": "code",
   "execution_count": 28,
   "metadata": {},
   "outputs": [],
   "source": [
    "students = [\n",
    "    {\"name\": \"Alex\", \"hours\": 6, \"gpa\": 3.2},\n",
    "    {\"name\": \"Maya\", \"hours\": 8, \"gpa\": 3.7},\n",
    "    {\"name\": \"Sam\",  \"hours\": 7, \"gpa\": 3.2},\n",
    "]"
   ]
  },
  {
   "cell_type": "code",
   "execution_count": 29,
   "metadata": {},
   "outputs": [
    {
     "name": "stdout",
     "output_type": "stream",
     "text": [
      "Alex has GPA 3.2\n",
      "Maya has GPA 3.7\n",
      "Sam has GPA 3.2\n"
     ]
    }
   ],
   "source": [
    "# Print each student's name and GPA\n",
    "for s in students:\n",
    "    print(s[\"name\"], \"has GPA\", s[\"gpa\"])"
   ]
  },
  {
   "cell_type": "code",
   "execution_count": 32,
   "id": "a864630d",
   "metadata": {},
   "outputs": [
    {
     "name": "stdout",
     "output_type": "stream",
     "text": [
      "3.2\n",
      "3.7\n",
      "3.2\n"
     ]
    }
   ],
   "source": [
    "for s in students:\n",
    "    print(s[\"gpa\"])"
   ]
  },
  {
   "cell_type": "code",
   "execution_count": 33,
   "id": "348d386c",
   "metadata": {},
   "outputs": [
    {
     "data": {
      "text/plain": [
       "[3.2, 3.7, 3.2]"
      ]
     },
     "execution_count": 33,
     "metadata": {},
     "output_type": "execute_result"
    }
   ],
   "source": [
    "[s[\"gpa\"] for s in students]"
   ]
  },
  {
   "cell_type": "code",
   "execution_count": 30,
   "metadata": {},
   "outputs": [
    {
     "name": "stdout",
     "output_type": "stream",
     "text": [
      "Average GPA: 3.366666666666667\n"
     ]
    }
   ],
   "source": [
    "# Average GPA\n",
    "avg_gpa = sum(s[\"gpa\"] for s in students) / len(students)\n",
    "print(\"Average GPA:\", avg_gpa)"
   ]
  },
  {
   "cell_type": "code",
   "execution_count": 34,
   "metadata": {},
   "outputs": [
    {
     "name": "stdout",
     "output_type": "stream",
     "text": [
      "With minutes added: [{'name': 'Alex', 'hours': 6, 'gpa': 3.2, 'minutes': 360}, {'name': 'Maya', 'hours': 8, 'gpa': 3.7, 'minutes': 480}, {'name': 'Sam', 'hours': 7, 'gpa': 3.2, 'minutes': 420}]\n"
     ]
    }
   ],
   "source": [
    "# Add a new field (minutes studied)\n",
    "def hours_to_minutes(h):\n",
    "    return h * 60\n",
    "\n",
    "for s in students:\n",
    "    s[\"minutes\"] = hours_to_minutes(s[\"hours\"])\n",
    "\n",
    "print(\"With minutes added:\", students)"
   ]
  },
  {
   "cell_type": "code",
   "execution_count": 35,
   "metadata": {},
   "outputs": [
    {
     "name": "stdout",
     "output_type": "stream",
     "text": [
      "Unique GPAs: {3.7, 3.2}\n"
     ]
    }
   ],
   "source": [
    "# Unique GPAs\n",
    "unique_gpas = set(s[\"gpa\"] for s in students)\n",
    "print(\"Unique GPAs:\", unique_gpas)"
   ]
  }
 ],
 "metadata": {
  "kernelspec": {
   "display_name": "Python 3",
   "language": "python",
   "name": "python3"
  },
  "language_info": {
   "codemirror_mode": {
    "name": "ipython",
    "version": 3
   },
   "file_extension": ".py",
   "mimetype": "text/x-python",
   "name": "python",
   "nbconvert_exporter": "python",
   "pygments_lexer": "ipython3",
   "version": "3.12.1"
  }
 },
 "nbformat": 4,
 "nbformat_minor": 5
}
