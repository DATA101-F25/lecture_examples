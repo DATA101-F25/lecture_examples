{
 "cells": [
  {
   "cell_type": "markdown",
   "id": "4ead1cf5",
   "metadata": {},
   "source": [
    "\n",
    "# DATA 101 — Clustering Demo (Session 2)\n",
    "\n",
    "This notebook demonstrates:\n",
    "- Supervised vs. Unsupervised quick recap\n",
    "- k-Means clustering on synthetic data\n",
    "- Evaluation with **inertia** and **silhouette score**\n",
    "- Choosing **k** with the **elbow method**\n",
    "- Practical considerations: scaling, initialization (`n_init`), random state\n"
   ]
  },
  {
   "cell_type": "code",
   "execution_count": null,
   "id": "8ce75c98",
   "metadata": {},
   "outputs": [],
   "source": [
    "\n",
    "# Imports\n",
    "import numpy as np\n",
    "import pandas as pd\n",
    "from sklearn.datasets import make_blobs, make_moons\n",
    "from sklearn.preprocessing import StandardScaler\n",
    "from sklearn.cluster import KMeans\n",
    "from sklearn.metrics import silhouette_score\n",
    "import matplotlib.pyplot as plt\n",
    "\n",
    "# Make plots a bit larger\n",
    "plt.rcParams[\"figure.figsize\"] = (6,4)\n"
   ]
  },
  {
   "cell_type": "markdown",
   "id": "20565229",
   "metadata": {},
   "source": [
    "\n",
    "## 1) Create a synthetic dataset (blobs)\n",
    "\n",
    "We start with a simple, roughly spherical-cluster dataset that suits k-Means.\n"
   ]
  },
  {
   "cell_type": "code",
   "execution_count": null,
   "id": "21901251",
   "metadata": {},
   "outputs": [],
   "source": [
    "\n",
    "# Reproducibility\n",
    "rng = 1\n",
    "\n",
    "# Make synthetic \"customer-like\" data (3 clusters)\n",
    "X_blobs, y_blobs = make_blobs(n_samples=600, centers=3, cluster_std=[1.0, 1.2, 0.8], random_state=rng)\n",
    "\n",
    "# Put into a DataFrame for convenience\n",
    "df_blobs = pd.DataFrame(X_blobs, columns=[\"feature_1\", \"feature_2\"])\n",
    "df_blobs[\"true_cluster\"] = y_blobs\n",
    "\n",
    "df_blobs.head()\n"
   ]
  },
  {
   "cell_type": "markdown",
   "id": "19f46eb6",
   "metadata": {},
   "source": [
    "\n",
    "## 2) Scale features\n",
    "\n",
    "K-Means is distance-based and **sensitive to scale**. Always standardize before clustering.\n"
   ]
  },
  {
   "cell_type": "code",
   "execution_count": null,
   "id": "847c9cf2",
   "metadata": {},
   "outputs": [],
   "source": [
    "\n",
    "scaler = StandardScaler()\n",
    "Xb = scaler.fit_transform(df_blobs[[\"feature_1\", \"feature_2\"]].values)\n",
    "Xb[:5]\n"
   ]
  },
  {
   "cell_type": "markdown",
   "id": "c291b8d3",
   "metadata": {},
   "source": [
    "\n",
    "## 3) Fit k-Means (k=3)\n"
   ]
  },
  {
   "cell_type": "code",
   "execution_count": null,
   "id": "76f919d2",
   "metadata": {},
   "outputs": [],
   "source": [
    "\n",
    "kmeans3 = KMeans(n_clusters=3, n_init=10, random_state=rng)\n",
    "labels3 = kmeans3.fit_predict(Xb)\n",
    "inertia3 = kmeans3.inertia_\n",
    "sil3 = silhouette_score(Xb, labels3)\n",
    "\n",
    "print(\"Inertia (k=3):\", round(inertia3, 2))\n",
    "print(\"Silhouette (k=3):\", round(sil3, 3))\n"
   ]
  },
  {
   "cell_type": "code",
   "execution_count": null,
   "id": "60d73d56",
   "metadata": {},
   "outputs": [],
   "source": [
    "\n",
    "plt.scatter(Xb[:, 0], Xb[:, 1], c=labels3)\n",
    "plt.scatter(kmeans3.cluster_centers_[:,0], kmeans3.cluster_centers_[:,1], marker='x', s=200)\n",
    "plt.title(\"k-Means clusters (k=3) on scaled blobs\")\n",
    "plt.xlabel(\"feature_1 (scaled)\")\n",
    "plt.ylabel(\"feature_2 (scaled)\")\n",
    "plt.show()\n"
   ]
  },
  {
   "cell_type": "markdown",
   "id": "614f383f",
   "metadata": {},
   "source": [
    "\n",
    "## 4) Choose *k* with the Elbow Method\n",
    "Compute inertia for a range of *k* and look for the bend.\n"
   ]
  },
  {
   "cell_type": "code",
   "execution_count": null,
   "id": "5d831199",
   "metadata": {},
   "outputs": [],
   "source": [
    "\n",
    "inertias = []\n",
    "ks = range(1, 11)\n",
    "for k in ks:\n",
    "    km = KMeans(n_clusters=k, n_init=10, random_state=rng).fit(Xb)\n",
    "    inertias.append(km.inertia_)\n",
    "\n",
    "plt.plot(list(ks), inertias, 'o-')\n",
    "plt.xlabel(\"Number of clusters (k)\")\n",
    "plt.ylabel(\"Inertia\")\n",
    "plt.title(\"Elbow plot (blobs)\")\n",
    "plt.show()\n"
   ]
  },
  {
   "cell_type": "markdown",
   "id": "895a8313",
   "metadata": {},
   "source": [
    "\n",
    "## 5) Silhouette Score across *k*\n",
    "Higher is better. Use together with the elbow plot.\n"
   ]
  },
  {
   "cell_type": "code",
   "execution_count": null,
   "id": "f6628b3d",
   "metadata": {},
   "outputs": [],
   "source": [
    "\n",
    "sils = []\n",
    "ks2 = range(2, 11)  # silhouette not defined for k=1\n",
    "for k in ks2:\n",
    "    km = KMeans(n_clusters=k, n_init=10, random_state=rng).fit(Xb)\n",
    "    lbls = km.labels_\n",
    "    sils.append(silhouette_score(Xb, lbls))\n",
    "\n",
    "plt.plot(list(ks2), sils, 'o-')\n",
    "plt.xlabel(\"Number of clusters (k)\")\n",
    "plt.ylabel(\"Silhouette score\")\n",
    "plt.title(\"Silhouette across k (blobs)\")\n",
    "plt.show()\n",
    "\n",
    "best_k = ks2[int(np.argmax(sils))]\n",
    "float(best_k)\n"
   ]
  },
  {
   "cell_type": "markdown",
   "id": "542601cb",
   "metadata": {},
   "source": [
    "\n",
    "## 6) Limitation example: non-spherical clusters (two moons)\n",
    "\n",
    "K-Means assumes compact, roughly spherical clusters. The **two moons** dataset violates this assumption.\n"
   ]
  },
  {
   "cell_type": "code",
   "execution_count": null,
   "id": "dbbd0271",
   "metadata": {},
   "outputs": [],
   "source": [
    "\n",
    "Xm, ym = make_moons(n_samples=600, noise=0.06, random_state=rng)\n",
    "Xm = StandardScaler().fit_transform(Xm)\n",
    "\n",
    "km_moons = KMeans(n_clusters=2, n_init=10, random_state=rng).fit(Xm)\n",
    "labels_moons = km_moons.labels_\n",
    "sil_moons = silhouette_score(Xm, labels_moons)\n",
    "\n",
    "print(\"Silhouette (moons, k=2):\", round(sil_moons, 3))\n",
    "\n",
    "plt.scatter(Xm[:,0], Xm[:,1], c=labels_moons)\n",
    "plt.scatter(km_moons.cluster_centers_[:,0], km_moons.cluster_centers_[:,1], marker='x', s=200)\n",
    "plt.title(\"k-Means on two moons (non-spherical clusters)\")\n",
    "plt.xlabel(\"x1 (scaled)\")\n",
    "plt.ylabel(\"x2 (scaled)\")\n",
    "plt.show()\n"
   ]
  }
 ],
 "metadata": {
  "kernelspec": {
   "display_name": "Python 3",
   "language": "python",
   "name": "python3"
  },
  "language_info": {
   "codemirror_mode": {
    "name": "ipython",
    "version": 3
   },
   "file_extension": ".py",
   "mimetype": "text/x-python",
   "name": "python",
   "nbconvert_exporter": "python",
   "pygments_lexer": "ipython3",
   "version": "3.12.1"
  }
 },
 "nbformat": 4,
 "nbformat_minor": 5
}
