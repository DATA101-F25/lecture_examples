{
 "cells": [
  {
   "cell_type": "markdown",
   "id": "50556efc",
   "metadata": {},
   "source": [
    "\n",
    "# DATA 101 – Session 2: Plotly Interactive Visualization (Comprehensive Demo)\n",
    "\n",
    "**Goals**\n",
    "- Use Plotly Express for quick, interactive charts.\n",
    "- Use Plotly Graph Objects for fine-grained control.\n",
    "- Add interactivity: hover, zoom, dropdowns, sliders, and animation.\n",
    "- Export figures to HTML and static images.\n",
    "- Consider performance and privacy.\n"
   ]
  },
  {
   "cell_type": "code",
   "execution_count": null,
   "id": "d9e3b4f4",
   "metadata": {},
   "outputs": [],
   "source": [
    "\n",
    "import sys, platform, importlib\n",
    "\n",
    "def check_pkg(name):\n",
    "    try:\n",
    "        mod = importlib.import_module(name)\n",
    "        return f\"{name}=={getattr(mod, '__version__', 'unknown')}\"\n",
    "    except Exception as e:\n",
    "        return f\"{name} not available: {e}\"\n",
    "\n",
    "print(\"Python:\", sys.version.split()[0], \"|\", platform.platform())\n",
    "for pkg in [\"plotly\", \"pandas\", \"numpy\"]:\n",
    "    print(check_pkg(pkg))"
   ]
  },
  {
   "cell_type": "code",
   "execution_count": null,
   "id": "f49d6a5c",
   "metadata": {},
   "outputs": [],
   "source": [
    "\n",
    "import pandas as pd\n",
    "import numpy as np\n",
    "import plotly.express as px\n",
    "import plotly.graph_objects as go\n",
    "import kaleido\n",
    "from palmerpenguins import load_penguins\n"
   ]
  },
  {
   "cell_type": "code",
   "execution_count": null,
   "id": "1d90d5c7",
   "metadata": {},
   "outputs": [],
   "source": [
    "penguins = load_penguins()\n",
    "penguins.head()"
   ]
  },
  {
   "cell_type": "code",
   "execution_count": null,
   "id": "53dde39d",
   "metadata": {},
   "outputs": [],
   "source": [
    "gapminder = px.data.gapminder()\n",
    "gapminder.head()"
   ]
  },
  {
   "cell_type": "markdown",
   "id": "03d118bb",
   "metadata": {},
   "source": [
    "\n",
    "## Plotly Express Basics: Scatter\n",
    "\n",
    "- High-level API with DataFrame-first design.\n",
    "- Auto legends, color mapping, hover labels, axes.\n"
   ]
  },
  {
   "cell_type": "code",
   "execution_count": null,
   "id": "cfa1c04e",
   "metadata": {},
   "outputs": [],
   "source": [
    "\n",
    "fig = px.scatter(\n",
    "    penguins,\n",
    "    x=\"bill_length_mm\",\n",
    "    y=\"bill_depth_mm\",\n",
    "    color=\"species\",\n",
    "    hover_name=\"island\",\n",
    "    title=\"Penguins: Bill Length vs Bill Depth\"\n",
    ")\n",
    "fig.show()\n"
   ]
  },
  {
   "cell_type": "markdown",
   "id": "d7c827d9",
   "metadata": {},
   "source": [
    "\n",
    "## Bar charts and Faceting\n",
    "\n",
    "- Quick categorical comparisons.\n",
    "- Facet by column or row for small multiples.\n"
   ]
  },
  {
   "cell_type": "code",
   "execution_count": null,
   "id": "2cb4dc3f",
   "metadata": {},
   "outputs": [],
   "source": [
    "\n",
    "# Aggregate example: mean flipper length by species and island\n",
    "agg = penguins.groupby([\"island\", \"species\"], as_index=False)[\"flipper_length_mm\"].mean()\n",
    "\n",
    "fig = px.bar(\n",
    "    agg,\n",
    "    x=\"species\",\n",
    "    y=\"flipper_length_mm\",\n",
    "    color=\"island\",\n",
    "    barmode=\"group\",\n",
    "    facet_col=\"island\",\n",
    "    title=\"Mean Flipper Length by Species and Island\"\n",
    ")\n",
    "fig.update_layout(showlegend=False)\n",
    "fig.show()\n"
   ]
  },
  {
   "cell_type": "markdown",
   "id": "6c06d51a",
   "metadata": {},
   "source": [
    "\n",
    "## Line charts with time series\n"
   ]
  },
  {
   "cell_type": "code",
   "execution_count": null,
   "id": "f52a8d2f",
   "metadata": {},
   "outputs": [],
   "source": [
    "\n",
    "# Life expectancy over time for selected countries\n",
    "countries = [\"United States\", \"Japan\", \"Brazil\", \"Kenya\"]\n",
    "gm_sel = gapminder[gapminder[\"country\"].isin(countries)]\n",
    "\n",
    "fig = px.line(\n",
    "    gm_sel,\n",
    "    x=\"year\",\n",
    "    y=\"lifeExp\",\n",
    "    color=\"country\",\n",
    "    title=\"Life Expectancy Over Time\"\n",
    ")\n",
    "fig.update_traces(mode=\"lines+markers\")\n",
    "fig.show()\n"
   ]
  },
  {
   "cell_type": "markdown",
   "id": "d54bac09",
   "metadata": {},
   "source": [
    "\n",
    "## Interactivity: Dropdown menus\n",
    "\n",
    "Toggle which country lines are visible using an **updatemenu**.\n"
   ]
  },
  {
   "cell_type": "code",
   "execution_count": null,
   "id": "60216164",
   "metadata": {},
   "outputs": [],
   "source": [
    "\n",
    "countries = sorted(gm_sel[\"country\"].unique())\n",
    "\n",
    "# Build one trace per country for granular control\n",
    "fig = go.Figure()\n",
    "for c in countries:\n",
    "    dfc = gm_sel[gm_sel[\"country\"] == c]\n",
    "    fig.add_trace(go.Scatter(x=dfc[\"year\"], y=dfc[\"lifeExp\"],\n",
    "                             mode=\"lines+markers\", name=c, visible=True))\n",
    "\n",
    "buttons = []\n",
    "for i, c in enumerate(countries):\n",
    "    visible = [False]*len(countries)\n",
    "    visible[i] = True\n",
    "    buttons.append(dict(label=c, method=\"update\", args=[{\"visible\": visible},\n",
    "                    {\"title\": f\"Life Expectancy: {c}\"}]))\n",
    "\n",
    "# Add an \"All\" option\n",
    "buttons.insert(0, dict(label=\"All\", method=\"update\",\n",
    "                       args=[{\"visible\": [True]*len(countries)},\n",
    "                             {\"title\": \"Life Expectancy Over Time (All)\"}]))\n",
    "\n",
    "fig.update_layout(\n",
    "    updatemenus=[dict(type=\"dropdown\", buttons=buttons, x=1.15, y=1.0)],\n",
    "    title=\"Life Expectancy Over Time (Dropdown)\",\n",
    "    xaxis_title=\"Year\",\n",
    "    yaxis_title=\"Life Expectancy\"\n",
    ")\n",
    "fig.show()\n"
   ]
  },
  {
   "cell_type": "markdown",
   "id": "30991c39",
   "metadata": {},
   "source": [
    "\n",
    "## Interactivity: Sliders and animation\n",
    "\n",
    "Animate a bubble chart over time using `animation_frame`.\n"
   ]
  },
  {
   "cell_type": "code",
   "execution_count": null,
   "id": "0f7e8ae6",
   "metadata": {},
   "outputs": [],
   "source": [
    "\n",
    "fig = px.scatter(\n",
    "    gapminder.query(\"year >= 1962\"),\n",
    "    x=\"gdpPercap\", y=\"lifeExp\",\n",
    "    size=\"pop\", color=\"continent\",\n",
    "    hover_name=\"country\",\n",
    "    log_x=True, size_max=45,\n",
    "    animation_frame=\"year\",\n",
    "    range_x=[200, 70000],\n",
    "    range_y=[30, 90],\n",
    "    title=\"Gapminder: GDP vs Life Expectancy (Animated)\"\n",
    ")\n",
    "fig.show()\n"
   ]
  },
  {
   "cell_type": "markdown",
   "id": "1c511ec5",
   "metadata": {},
   "source": [
    "\n",
    "## Exporting figures\n",
    "\n",
    "- `fig.write_html(\"plot.html\")` creates a standalone interactive HTML.\n",
    "- `fig.write_image(\"plot.png\")` creates a static image. Requires **kaleido**.\n"
   ]
  },
  {
   "cell_type": "code",
   "execution_count": null,
   "id": "af22a57c",
   "metadata": {},
   "outputs": [],
   "source": [
    "\n",
    "# Reuse a simple figure for export demo\n",
    "export_fig = px.scatter(penguins, x=\"bill_length_mm\", y=\"bill_depth_mm\",\n",
    "                        color=\"species\", title=\"Export Demo\")\n",
    "export_html = \"./data/plot_export_demo.html\"\n",
    "export_fig.write_html(export_html)\n",
    "print(\"Wrote HTML to:\", export_html)\n",
    "\n",
    "export_png = \"./data/plot_export_demo.png\"\n",
    "export_fig.write_image(export_png, scale=2)\n",
    "print(\"Wrote PNG to:\", export_png)\n"
   ]
  },
  {
   "cell_type": "markdown",
   "id": "59452352",
   "metadata": {},
   "source": [
    "\n",
    "## Plotly Graph Objects: fine control\n",
    "\n",
    "- Add traces manually.\n",
    "- Customize layout and annotations.\n",
    "- Example: bar + line with a secondary y-axis.\n"
   ]
  },
  {
   "cell_type": "code",
   "execution_count": null,
   "id": "ac37e5b6",
   "metadata": {},
   "outputs": [],
   "source": [
    "\n",
    "from plotly.subplots import make_subplots\n",
    "\n",
    "np.random.seed(7)\n",
    "x = np.arange(1, 13)\n",
    "sales = np.random.randint(40, 120, size=12)\n",
    "growth = np.round(np.random.uniform(-0.1, 0.2, size=12), 3)\n",
    "\n",
    "fig = make_subplots(specs=[[{\"secondary_y\": True}]])\n",
    "fig.add_trace(go.Bar(x=x, y=sales, name=\"Monthly Sales\"), secondary_y=False)\n",
    "fig.add_trace(go.Scatter(x=x, y=growth*100, name=\"Growth %\", mode=\"lines+markers\"),\n",
    "              secondary_y=True)\n",
    "\n",
    "fig.update_layout(title=\"Custom Combo Chart with Secondary Axis\",\n",
    "                  xaxis_title=\"Month\",\n",
    "                  legend_title=\"Series\")\n",
    "fig.update_yaxes(title_text=\"Sales (units)\", secondary_y=False)\n",
    "fig.update_yaxes(title_text=\"Growth (%)\", secondary_y=True)\n",
    "\n",
    "# Annotation example\n",
    "fig.add_annotation(x=6, y=sales[5], text=\"Promo\", showarrow=True, arrowhead=2)\n",
    "fig.show()\n"
   ]
  }
 ],
 "metadata": {
  "kernelspec": {
   "display_name": "Python 3",
   "language": "python",
   "name": "python3"
  },
  "language_info": {
   "codemirror_mode": {
    "name": "ipython",
    "version": 3
   },
   "file_extension": ".py",
   "mimetype": "text/x-python",
   "name": "python",
   "nbconvert_exporter": "python",
   "pygments_lexer": "ipython3",
   "version": "3.12.1"
  }
 },
 "nbformat": 4,
 "nbformat_minor": 5
}
