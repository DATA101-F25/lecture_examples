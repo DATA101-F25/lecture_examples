{
 "cells": [
  {
   "cell_type": "markdown",
   "id": "8c0ee260",
   "metadata": {},
   "source": [
    "\n",
    "# Visualization Tools: In-Class Demo\n",
    "\n",
    "Concise, runnable examples for Matplotlib and Seaborn. Run top to bottom.\n"
   ]
  },
  {
   "cell_type": "code",
   "execution_count": null,
   "id": "5e9093d2",
   "metadata": {},
   "outputs": [],
   "source": [
    "# Core imports\n",
    "import numpy as np\n",
    "import pandas as pd\n",
    "import matplotlib.pyplot as plt\n",
    "\n",
    "# Seaborn for statistical plots\n",
    "import seaborn as sns\n",
    "\n",
    "# Set a default Seaborn theme for demo clarity\n",
    "sns.set_theme(style=\"whitegrid\")\n",
    "print(\"Libraries loaded.\")"
   ]
  },
  {
   "cell_type": "markdown",
   "id": "c0f6b2e4",
   "metadata": {},
   "source": [
    "\n",
    "## Why use tools: reproducibility and speed\n",
    "- Same code = same figure. Parameters are recorded in the notebook.\n",
    "- Change a parameter and re-run to see controlled changes.\n"
   ]
  },
  {
   "cell_type": "code",
   "execution_count": null,
   "id": "5d49bdcf",
   "metadata": {},
   "outputs": [],
   "source": [
    "# Synthetic data for consistent demos\n",
    "rng = np.random.default_rng(42)\n",
    "x = np.linspace(0, 10, 200)\n",
    "y = np.sin(x) + 0.2 * rng.normal(size=x.size)\n",
    "\n",
    "print(\"Data prepared:\", x.shape, y.shape)"
   ]
  },
  {
   "cell_type": "markdown",
   "id": "8819785a",
   "metadata": {},
   "source": [
    "\n",
    "## Matplotlib architecture: Figure → Axes → Elements\n",
    "Object-oriented pattern using `plt.subplots()`.\n",
    "\n",
    "Linestyle options:\n",
    "- '-' → solid\n",
    "- '--' → dashed\n",
    "- '-.' → dash-dot\n",
    "- ':' → dotted\n",
    "- 'None' or '' → no line\n",
    "\n",
    "Marker options:\n",
    "- '.' → point\n",
    "- 'o' → circle\n",
    "- 's' → square\n",
    "- '^' → triangle up\n",
    "- 'v' → triangle down\n",
    "- '+' → plus\n",
    "- 'x' → cross\n",
    "- '*' → star\n",
    "- 'D' → diamond\n",
    "- 'p' → pentagon\n",
    "- 'None' or '' → no marker"
   ]
  },
  {
   "cell_type": "code",
   "execution_count": null,
   "id": "fe89426c",
   "metadata": {},
   "outputs": [],
   "source": [
    "fig, ax = plt.subplots(figsize=(10, 4))\n",
    "ax.plot(x, y, linestyle='-.', marker='None', linewidth=2)\n",
    "ax.set_title(\"Sine with Noise\")\n",
    "ax.set_xlabel(\"x\")\n",
    "ax.set_ylabel(\"y\")\n",
    "ax.grid(True)\n",
    "plt.show()"
   ]
  },
  {
   "cell_type": "markdown",
   "id": "0c559715",
   "metadata": {},
   "source": [
    "\n",
    "## Subplots for comparisons\n",
    "Use a grid when comparing variants.\n"
   ]
  },
  {
   "cell_type": "code",
   "execution_count": null,
   "id": "fecbe9e1",
   "metadata": {},
   "outputs": [],
   "source": [
    "fig, axes = plt.subplots(1, 2, figsize=(10, 3), sharey=True)\n",
    "\n",
    "axes[0].plot(x, y, linestyle='-')\n",
    "axes[0].set_title(\"Line\")\n",
    "axes[0].set_xlabel(\"x\"); axes[0].set_ylabel(\"y\")\n",
    "\n",
    "axes[1].scatter(x, y, s=10, alpha=0.7)\n",
    "axes[1].set_title(\"Scatter\")\n",
    "axes[1].set_xlabel(\"x\")\n",
    "\n",
    "for ax in axes: \n",
    "    ax.grid(True)\n",
    "plt.show()"
   ]
  },
  {
   "cell_type": "markdown",
   "id": "fc094ea3",
   "metadata": {},
   "source": [
    "\n",
    "## Common Matplotlib patterns\n",
    "`plot`, `scatter`, `bar`, `hist` and styling (`color`, `marker`, `linestyle`, `alpha`).  \n",
    "Save output with `plt.savefig(\"chart.png\", dpi=300)`.\n"
   ]
  },
  {
   "cell_type": "code",
   "execution_count": null,
   "id": "6868e2a2",
   "metadata": {},
   "outputs": [],
   "source": [
    "# Bar and hist examples\n",
    "cats = [\"A\", \"B\", \"C\"]\n",
    "vals = [12, 9, 15]\n",
    "\n",
    "fig, ax = plt.subplots(figsize=(5, 3.5))\n",
    "ax.bar(cats, vals)\n",
    "ax.set_title(\"Bar Example\")\n",
    "ax.set_xlabel(\"Category\"); ax.set_ylabel(\"Value\")\n",
    "plt.tight_layout()\n",
    "plt.savefig(\"./data/bar_example.png\", dpi=300)\n",
    "plt.show()"
   ]
  },
  {
   "cell_type": "code",
   "execution_count": null,
   "id": "84712640",
   "metadata": {},
   "outputs": [],
   "source": [
    "fig, ax = plt.subplots(figsize=(5, 3.5))\n",
    "ax.hist(y, bins=20, alpha=0.9)\n",
    "ax.set_title(\"Histogram Example\")\n",
    "ax.set_xlabel(\"y\"); ax.set_ylabel(\"Count\")\n",
    "plt.tight_layout()\n",
    "plt.savefig(\"./data/hist_example.png\", dpi=300)\n",
    "plt.show()"
   ]
  },
  {
   "cell_type": "markdown",
   "id": "15dfab0f",
   "metadata": {},
   "source": [
    "\n",
    "## Seaborn: statistical layer on top of Matplotlib\n",
    "Simplifies common workflows. Clean defaults. Themes: `darkgrid`, `whitegrid`, `ticks`.\n"
   ]
  },
  {
   "cell_type": "code",
   "execution_count": null,
   "id": "d2b43bc3",
   "metadata": {},
   "outputs": [],
   "source": [
    "# Load a built-in dataset for reproducibility\n",
    "penguins = sns.load_dataset(\"penguins\").dropna()\n",
    "\n",
    "# Boxplot summarizing distribution across groups\n",
    "sns.boxplot(data=penguins, x=\"species\", y=\"flipper_length_mm\")\n",
    "plt.title(\"Penguin Flipper Length by Species\")\n",
    "plt.show()"
   ]
  },
  {
   "cell_type": "code",
   "execution_count": null,
   "id": "42c3565a",
   "metadata": {},
   "outputs": [],
   "source": [
    "# Prepare groups\n",
    "species = penguins[\"species\"].unique()\n",
    "data = [penguins[penguins[\"species\"] == sp][\"flipper_length_mm\"] for sp in species]\n",
    "\n",
    "# Boxplot in Matplotlib\n",
    "fig, ax = plt.subplots(figsize=(6, 4))\n",
    "ax.boxplot(data, tick_labels=species)\n",
    "ax.set_title(\"Penguin Flipper Length by Species\")\n",
    "ax.set_xlabel(\"Species\")\n",
    "ax.set_ylabel(\"Flipper Length (mm)\")\n",
    "plt.show()"
   ]
  },
  {
   "cell_type": "markdown",
   "id": "86ae0317",
   "metadata": {},
   "source": [
    "\n",
    "## Common Seaborn patterns\n",
    "- `sns.histplot()` for distributions  \n",
    "- `sns.scatterplot()` for relationships  \n",
    "- `sns.heatmap()` for correlation matrices  \n",
    "- `sns.pairplot()` for quick multivariate view  \n",
    "Grouping: `hue=`. Faceting: `col=` or `row=`.\n"
   ]
  },
  {
   "cell_type": "code",
   "execution_count": null,
   "id": "51c78e7a",
   "metadata": {},
   "outputs": [],
   "source": [
    "# Histplot with grouping via hue\n",
    "sns.histplot(data=penguins, x=\"flipper_length_mm\", hue=\"species\", element=\"step\", stat=\"density\", common_norm=False)\n",
    "plt.title(\"Distribution by Species\")\n",
    "plt.show()"
   ]
  },
  {
   "cell_type": "code",
   "execution_count": null,
   "id": "f0518f45",
   "metadata": {},
   "outputs": [],
   "source": [
    "# Scatterplot with hue + faceting\n",
    "sns.relplot(\n",
    "    data=penguins,\n",
    "    x=\"bill_length_mm\", y=\"bill_depth_mm\",\n",
    "    hue=\"species\", col=\"sex\",\n",
    "    kind=\"scatter\", height=3.5, aspect=1\n",
    ")\n",
    "plt.suptitle(\"Bill Measurements by Species and Sex\", y=1.02)\n",
    "plt.show()"
   ]
  },
  {
   "cell_type": "code",
   "execution_count": null,
   "id": "bdccebad",
   "metadata": {},
   "outputs": [],
   "source": [
    "# Correlation heatmap\n",
    "num_cols = [\"bill_length_mm\",\"bill_depth_mm\",\"flipper_length_mm\",\"body_mass_g\"]\n",
    "corr = penguins[num_cols].corr(numeric_only=True)\n",
    "sns.heatmap(corr, annot=True, fmt=\".2f\")\n",
    "plt.title(\"Correlation Heatmap\")\n",
    "plt.show()"
   ]
  },
  {
   "cell_type": "code",
   "execution_count": null,
   "id": "9b475abf",
   "metadata": {},
   "outputs": [],
   "source": [
    "# Pairplot (quick overview)\n",
    "sns.pairplot(penguins[num_cols + [\"species\"]], hue=\"species\", height=2.2)\n",
    "plt.show()"
   ]
  }
 ],
 "metadata": {
  "kernelspec": {
   "display_name": "Python 3",
   "language": "python",
   "name": "python3"
  },
  "language_info": {
   "codemirror_mode": {
    "name": "ipython",
    "version": 3
   },
   "file_extension": ".py",
   "mimetype": "text/x-python",
   "name": "python",
   "nbconvert_exporter": "python",
   "pygments_lexer": "ipython3",
   "version": "3.12.1"
  }
 },
 "nbformat": 4,
 "nbformat_minor": 5
}
